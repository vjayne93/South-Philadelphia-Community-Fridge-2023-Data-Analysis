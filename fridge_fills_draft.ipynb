{
 "cells": [
  {
   "cell_type": "code",
   "execution_count": 19,
   "id": "2561b37e-8d03-45da-b0f6-e7a95b5da61e",
   "metadata": {},
   "outputs": [
    {
     "data": {
      "application/vnd.jupyter.widget-view+json": {
       "model_id": "3be9a5a7ec094215924fc515ae6c55ff",
       "version_major": 2,
       "version_minor": 0
      },
      "text/plain": [
       "interactive(children=(Dropdown(description='Fill Type:', options=('Rescued Groceries', 'Purchased Groceries', …"
      ]
     },
     "metadata": {},
     "output_type": "display_data"
    },
    {
     "data": {
      "text/plain": [
       "<function __main__.plot_entries_per_month(fill_type)>"
      ]
     },
     "execution_count": 19,
     "metadata": {},
     "output_type": "execute_result"
    }
   ],
   "source": [
    "import pandas as pd\n",
    "from ipywidgets import interact, widgets\n",
    "import plotly.express as px\n",
    "\n",
    "# Read data from JSON file\n",
    "df = pd.read_json('project_3.fridge_fills.json')\n",
    "\n",
    "# Convert 'Date' column to datetime\n",
    "df['Date'] = pd.to_datetime(df['Date'].apply(lambda x: x['$date']))\n",
    "\n",
    "# Drop '_id' column\n",
    "df.drop('_id', axis=1, inplace=True, errors='ignore')\n",
    "\n",
    "# Create a copy of the DataFrame with datetime 'Date' column\n",
    "df_dates = df.copy()\n",
    "\n",
    "# Define function to plot entries per month\n",
    "def plot_entries_per_month(fill_type):\n",
    "    if fill_type == 'All Fill Types':\n",
    "        filtered_df = df_dates.copy()  \n",
    "    else:\n",
    "        filtered_df = df_dates[df_dates['Fill Type'] == fill_type].copy()  \n",
    "\n",
    "    # Ensure datetime column has timezone information\n",
    "    filtered_df['Date'] = filtered_df['Date'].dt.tz_localize(None)  # Remove any existing timezone information\n",
    "\n",
    "    # Convert 'Date' column to Periods\n",
    "    filtered_df.loc[:, 'YearMonth'] = filtered_df['Date'].dt.to_period('M').astype(str)\n",
    "\n",
    "    monthly_counts = filtered_df.groupby('YearMonth').size().reset_index(name='Total Entries')\n",
    "\n",
    "    # Set figure size\n",
    "    fig = px.bar(monthly_counts, x='YearMonth', y='Total Entries', \n",
    "                 labels={'YearMonth': 'Month', 'Total Entries': 'Total Entries'},\n",
    "                 title=f'Total Fills per Month for {fill_type}')\n",
    "    fig.update_layout(xaxis_tickangle=-45, yaxis_gridcolor='lightgrey', \n",
    "                      width=800, height=500) \n",
    "    fig.show()\n",
    "\n",
    "# Get unique values of 'Fill Type' for dropdown menu excluding 'nan'\n",
    "fill_types = df_dates['Fill Type'].dropna().unique()\n",
    "fill_types = list(fill_types)\n",
    "fill_types.append('All Fill Types')  \n",
    "\n",
    "# Create interactive dropdown menu\n",
    "interact(plot_entries_per_month, fill_type=widgets.Dropdown(options=fill_types, description='Fill Type:'))\n"
   ]
  },
  {
   "cell_type": "code",
   "execution_count": null,
   "id": "ad659275-75cb-4261-8155-c04186323f00",
   "metadata": {},
   "outputs": [],
   "source": []
  }
 ],
 "metadata": {
  "kernelspec": {
   "display_name": "Python 3 (ipykernel)",
   "language": "python",
   "name": "python3"
  },
  "language_info": {
   "codemirror_mode": {
    "name": "ipython",
    "version": 3
   },
   "file_extension": ".py",
   "mimetype": "text/x-python",
   "name": "python",
   "nbconvert_exporter": "python",
   "pygments_lexer": "ipython3",
   "version": "3.11.7"
  }
 },
 "nbformat": 4,
 "nbformat_minor": 5
}
