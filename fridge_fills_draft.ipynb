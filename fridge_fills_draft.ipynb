{
 "cells": [
  {
   "cell_type": "code",
   "execution_count": 6,
   "id": "85736d53-ea28-4ccb-a910-bf1d854bf789",
   "metadata": {},
   "outputs": [
    {
     "data": {
      "text/html": [
       "<div>\n",
       "<style scoped>\n",
       "    .dataframe tbody tr th:only-of-type {\n",
       "        vertical-align: middle;\n",
       "    }\n",
       "\n",
       "    .dataframe tbody tr th {\n",
       "        vertical-align: top;\n",
       "    }\n",
       "\n",
       "    .dataframe thead th {\n",
       "        text-align: right;\n",
       "    }\n",
       "</style>\n",
       "<table border=\"1\" class=\"dataframe\">\n",
       "  <thead>\n",
       "    <tr style=\"text-align: right;\">\n",
       "      <th></th>\n",
       "      <th>Date</th>\n",
       "      <th>Day of Week</th>\n",
       "      <th>Time of Day</th>\n",
       "      <th>Name</th>\n",
       "      <th>Pickup Location</th>\n",
       "      <th>Dropoff Location</th>\n",
       "      <th>Fill Type</th>\n",
       "    </tr>\n",
       "  </thead>\n",
       "  <tbody>\n",
       "    <tr>\n",
       "      <th>0</th>\n",
       "      <td>2023-01-01 05:00:00</td>\n",
       "      <td>Sunday</td>\n",
       "      <td>Morning (7AM-12PM)</td>\n",
       "      <td>Krista Kircanski</td>\n",
       "      <td>GO - Grocery Outlet</td>\n",
       "      <td>BOK</td>\n",
       "      <td>Rescued Groceries</td>\n",
       "    </tr>\n",
       "    <tr>\n",
       "      <th>1</th>\n",
       "      <td>2023-01-02 05:00:00</td>\n",
       "      <td>Monday</td>\n",
       "      <td>Evening (5PM-10PM)</td>\n",
       "      <td>Kate Gilbert</td>\n",
       "      <td>Grocery FILL</td>\n",
       "      <td>BOK</td>\n",
       "      <td>Purchased Groceries</td>\n",
       "    </tr>\n",
       "    <tr>\n",
       "      <th>2</th>\n",
       "      <td>2023-01-02 05:00:00</td>\n",
       "      <td>Monday</td>\n",
       "      <td>Evening (5PM-10PM)</td>\n",
       "      <td>Kate Gilbert</td>\n",
       "      <td>Grocery FILL</td>\n",
       "      <td>DS - DiSilvestro</td>\n",
       "      <td>Purchased Groceries</td>\n",
       "    </tr>\n",
       "    <tr>\n",
       "      <th>3</th>\n",
       "      <td>2023-01-02 05:00:00</td>\n",
       "      <td>Monday</td>\n",
       "      <td>Evening (5PM-10PM)</td>\n",
       "      <td>Kathryn Nolan</td>\n",
       "      <td>Grocery FILL</td>\n",
       "      <td>BOK</td>\n",
       "      <td>Purchased Groceries</td>\n",
       "    </tr>\n",
       "    <tr>\n",
       "      <th>4</th>\n",
       "      <td>2023-01-02 05:00:00</td>\n",
       "      <td>Monday</td>\n",
       "      <td>Morning (7AM-12PM)</td>\n",
       "      <td>Leah Santos</td>\n",
       "      <td>Grocery FILL</td>\n",
       "      <td>Mifflin</td>\n",
       "      <td>Purchased Groceries</td>\n",
       "    </tr>\n",
       "  </tbody>\n",
       "</table>\n",
       "</div>"
      ],
      "text/plain": [
       "                 Date Day of Week         Time of Day              Name  \\\n",
       "0 2023-01-01 05:00:00      Sunday  Morning (7AM-12PM)  Krista Kircanski   \n",
       "1 2023-01-02 05:00:00      Monday  Evening (5PM-10PM)      Kate Gilbert   \n",
       "2 2023-01-02 05:00:00      Monday  Evening (5PM-10PM)      Kate Gilbert   \n",
       "3 2023-01-02 05:00:00      Monday  Evening (5PM-10PM)     Kathryn Nolan   \n",
       "4 2023-01-02 05:00:00      Monday  Morning (7AM-12PM)       Leah Santos   \n",
       "\n",
       "       Pickup Location  Dropoff Location            Fill Type  \n",
       "0  GO - Grocery Outlet               BOK    Rescued Groceries  \n",
       "1         Grocery FILL               BOK  Purchased Groceries  \n",
       "2         Grocery FILL  DS - DiSilvestro  Purchased Groceries  \n",
       "3         Grocery FILL               BOK  Purchased Groceries  \n",
       "4         Grocery FILL           Mifflin  Purchased Groceries  "
      ]
     },
     "execution_count": 6,
     "metadata": {},
     "output_type": "execute_result"
    }
   ],
   "source": [
    "import pandas as pd\n",
    "from pymongo import MongoClient\n",
    "import matplotlib.pyplot as plt\n",
    "\n",
    "client = MongoClient('localhost', 27017)  \n",
    "db = client.project_3  # Change 'project_3' to your actual database name\n",
    "collection = db.fridge_fills  # Change 'your_collection_name' to your actual collection name\n",
    "\n",
    "cursor = collection.find({})  # You can add query filters here if needed\n",
    "\n",
    "data = list(cursor)\n",
    "\n",
    "df = pd.DataFrame(data)\n",
    "\n",
    "df.drop('_id', axis=1, inplace=True)\n",
    "\n",
    "df.head()\n"
   ]
  },
  {
   "cell_type": "code",
   "execution_count": 2,
   "id": "72351117-3b51-46c2-ade9-15ccae8d33bc",
   "metadata": {},
   "outputs": [
    {
     "data": {
      "text/html": [
       "<div>\n",
       "<style scoped>\n",
       "    .dataframe tbody tr th:only-of-type {\n",
       "        vertical-align: middle;\n",
       "    }\n",
       "\n",
       "    .dataframe tbody tr th {\n",
       "        vertical-align: top;\n",
       "    }\n",
       "\n",
       "    .dataframe thead th {\n",
       "        text-align: right;\n",
       "    }\n",
       "</style>\n",
       "<table border=\"1\" class=\"dataframe\">\n",
       "  <thead>\n",
       "    <tr style=\"text-align: right;\">\n",
       "      <th></th>\n",
       "      <th>Date</th>\n",
       "      <th>Day of Week</th>\n",
       "      <th>Time of Day</th>\n",
       "      <th>Name</th>\n",
       "      <th>Pickup Location</th>\n",
       "      <th>Dropoff Location</th>\n",
       "      <th>Fill Type</th>\n",
       "    </tr>\n",
       "  </thead>\n",
       "  <tbody>\n",
       "    <tr>\n",
       "      <th>0</th>\n",
       "      <td>2023-01-01</td>\n",
       "      <td>Sunday</td>\n",
       "      <td>Morning (7AM-12PM)</td>\n",
       "      <td>Krista Kircanski</td>\n",
       "      <td>GO - Grocery Outlet</td>\n",
       "      <td>BOK</td>\n",
       "      <td>Rescued Groceries</td>\n",
       "    </tr>\n",
       "    <tr>\n",
       "      <th>1</th>\n",
       "      <td>2023-01-02</td>\n",
       "      <td>Monday</td>\n",
       "      <td>Evening (5PM-10PM)</td>\n",
       "      <td>Kate Gilbert</td>\n",
       "      <td>Grocery FILL</td>\n",
       "      <td>BOK</td>\n",
       "      <td>Purchased Groceries</td>\n",
       "    </tr>\n",
       "    <tr>\n",
       "      <th>2</th>\n",
       "      <td>2023-01-02</td>\n",
       "      <td>Monday</td>\n",
       "      <td>Evening (5PM-10PM)</td>\n",
       "      <td>Kate Gilbert</td>\n",
       "      <td>Grocery FILL</td>\n",
       "      <td>DS - DiSilvestro</td>\n",
       "      <td>Purchased Groceries</td>\n",
       "    </tr>\n",
       "    <tr>\n",
       "      <th>3</th>\n",
       "      <td>2023-01-02</td>\n",
       "      <td>Monday</td>\n",
       "      <td>Evening (5PM-10PM)</td>\n",
       "      <td>Kathryn Nolan</td>\n",
       "      <td>Grocery FILL</td>\n",
       "      <td>BOK</td>\n",
       "      <td>Purchased Groceries</td>\n",
       "    </tr>\n",
       "    <tr>\n",
       "      <th>4</th>\n",
       "      <td>2023-01-02</td>\n",
       "      <td>Monday</td>\n",
       "      <td>Morning (7AM-12PM)</td>\n",
       "      <td>Leah Santos</td>\n",
       "      <td>Grocery FILL</td>\n",
       "      <td>Mifflin</td>\n",
       "      <td>Purchased Groceries</td>\n",
       "    </tr>\n",
       "  </tbody>\n",
       "</table>\n",
       "</div>"
      ],
      "text/plain": [
       "         Date Day of Week         Time of Day              Name  \\\n",
       "0  2023-01-01      Sunday  Morning (7AM-12PM)  Krista Kircanski   \n",
       "1  2023-01-02      Monday  Evening (5PM-10PM)      Kate Gilbert   \n",
       "2  2023-01-02      Monday  Evening (5PM-10PM)      Kate Gilbert   \n",
       "3  2023-01-02      Monday  Evening (5PM-10PM)     Kathryn Nolan   \n",
       "4  2023-01-02      Monday  Morning (7AM-12PM)       Leah Santos   \n",
       "\n",
       "       Pickup Location  Dropoff Location            Fill Type  \n",
       "0  GO - Grocery Outlet               BOK    Rescued Groceries  \n",
       "1         Grocery FILL               BOK  Purchased Groceries  \n",
       "2         Grocery FILL  DS - DiSilvestro  Purchased Groceries  \n",
       "3         Grocery FILL               BOK  Purchased Groceries  \n",
       "4         Grocery FILL           Mifflin  Purchased Groceries  "
      ]
     },
     "execution_count": 2,
     "metadata": {},
     "output_type": "execute_result"
    }
   ],
   "source": [
    "df['Date'] = df['Date'].apply(lambda x: pd.to_datetime(x).date())\n",
    "df_dates = df\n",
    "\n",
    "# Display the DataFrame\n",
    "df_dates.head()"
   ]
  },
  {
   "cell_type": "code",
   "execution_count": 7,
   "id": "7f76acf2-2cef-4613-b27b-95d443185f74",
   "metadata": {},
   "outputs": [
    {
     "data": {
      "application/vnd.jupyter.widget-view+json": {
       "model_id": "a2090782ecf341988642f5b1cf3dbc31",
       "version_major": 2,
       "version_minor": 0
      },
      "text/plain": [
       "interactive(children=(Dropdown(description='Fill Type:', options=('Rescued Groceries', 'Purchased Groceries', …"
      ]
     },
     "metadata": {},
     "output_type": "display_data"
    },
    {
     "data": {
      "text/plain": [
       "<function __main__.plot_entries_per_month(fill_type)>"
      ]
     },
     "execution_count": 7,
     "metadata": {},
     "output_type": "execute_result"
    }
   ],
   "source": [
    "import pandas as pd\n",
    "from ipywidgets import interact, widgets\n",
    "import plotly.express as px\n",
    "\n",
    "# Convert 'Date' column to datetime\n",
    "df_dates['Date'] = pd.to_datetime(df_dates['Date'])\n",
    "\n",
    "# Extract month and year from 'Date' column\n",
    "df_dates['YearMonth'] = df_dates['Date'].dt.to_period('M').astype(str)  \n",
    "\n",
    "def plot_entries_per_month(fill_type):\n",
    "    if fill_type == 'All Fill Types':\n",
    "        filtered_df = df_dates.copy()  \n",
    "    else:\n",
    "        filtered_df = df_dates[df_dates['Fill Type'] == fill_type].copy()  \n",
    "\n",
    "    filtered_df.loc[:, 'YearMonth'] = filtered_df['Date'].dt.to_period('M').astype(str)  \n",
    "\n",
    "    monthly_counts = filtered_df.groupby('YearMonth').size().reset_index(name='Total Entries')\n",
    "\n",
    "    # Set figure size\n",
    "    fig = px.bar(monthly_counts, x='YearMonth', y='Total Entries', \n",
    "                 labels={'YearMonth': 'Month', 'Total Entries': 'Total Entries'},\n",
    "                 title=f'Total Fills per Month for {fill_type}')\n",
    "    fig.update_layout(xaxis_tickangle=-45, yaxis_gridcolor='lightgrey', \n",
    "                      width=800, height=500) \n",
    "    fig.show()\n",
    "\n",
    "# Get unique values of 'Fill Type' for dropdown menu excluding 'nan'\n",
    "fill_types = df_dates['Fill Type'].dropna().unique()\n",
    "fill_types = list(fill_types)\n",
    "fill_types.append('All Fill Types')  \n",
    "\n",
    "# Create interactive dropdown menu\n",
    "interact(plot_entries_per_month, fill_type=widgets.Dropdown(options=fill_types, description='Fill Type:'))\n"
   ]
  },
  {
   "cell_type": "code",
   "execution_count": 1,
   "id": "50bc9707-35b2-40d0-85c9-c036a176a92c",
   "metadata": {},
   "outputs": [
    {
     "name": "stdout",
     "output_type": "stream",
     "text": [
      "Intel MKL WARNING: Support of Intel(R) Streaming SIMD Extensions 4.2 (Intel(R) SSE4.2) enabled only processors has been deprecated. Intel oneAPI Math Kernel Library 2025.0 will require Intel(R) Advanced Vector Extensions (Intel(R) AVX) instructions.\n",
      "Intel MKL WARNING: Support of Intel(R) Streaming SIMD Extensions 4.2 (Intel(R) SSE4.2) enabled only processors has been deprecated. Intel oneAPI Math Kernel Library 2025.0 will require Intel(R) Advanced Vector Extensions (Intel(R) AVX) instructions.\n"
     ]
    },
    {
     "data": {
      "application/vnd.jupyter.widget-view+json": {
       "model_id": "db9ed545d216435a9d8b8ff0c00a09d9",
       "version_major": 2,
       "version_minor": 0
      },
      "text/plain": [
       "interactive(children=(Dropdown(description='Year:', options=(2023,), value=2023), Dropdown(description='Month:…"
      ]
     },
     "metadata": {},
     "output_type": "display_data"
    },
    {
     "data": {
      "text/plain": [
       "<function __main__.plot_donations_by_month(year, month)>"
      ]
     },
     "execution_count": 1,
     "metadata": {},
     "output_type": "execute_result"
    }
   ],
   "source": [
    "import pandas as pd\n",
    "import matplotlib.pyplot as plt\n",
    "from ipywidgets import interact, widgets\n",
    "\n",
    "def plot_donations_by_month(year, month):\n",
    "    # Filter the DataFrame for the selected month and year\n",
    "    monthly_data = df_dates.loc[(df_dates['Date'].dt.year == year) & (df_dates['Date'].dt.month == month)]\n",
    "    \n",
    "    # Group the data by date and time of day and count the number of donations for each group\n",
    "    monthly_donations = monthly_data.groupby(['Date', 'Time of Day']).size().unstack(fill_value=0)\n",
    "    \n",
    "    # Plot the data\n",
    "    plt.figure(figsize=(10, 6))\n",
    "    monthly_donations.plot(kind='line', marker='o', linestyle='-')\n",
    "    plt.title(f'Donations by Time of Day in {month}/{year}')\n",
    "    plt.xlabel('Date')\n",
    "    plt.ylabel('Number of Donations')\n",
    "    plt.xticks(rotation=45)\n",
    "    plt.grid(True)\n",
    "    plt.legend(title='Time of Day')\n",
    "    plt.tight_layout()\n",
    "    # Show the figure\n",
    "    plt.show()\n",
    "\n",
    "# Define the options for the dropdown menu\n",
    "years = [2023]  # Add more years if needed\n",
    "months = range(1, 13)  # January to December\n",
    "\n",
    "# Create interactive dropdown menus\n",
    "interact(plot_donations_by_month, year=widgets.Dropdown(options=years, description='Year:'),\n",
    "         month=widgets.Dropdown(options=months, description='Month:'))\n"
   ]
  }
 ],
 "metadata": {
  "kernelspec": {
   "display_name": "Python 3 (ipykernel)",
   "language": "python",
   "name": "python3"
  },
  "language_info": {
   "codemirror_mode": {
    "name": "ipython",
    "version": 3
   },
   "file_extension": ".py",
   "mimetype": "text/x-python",
   "name": "python",
   "nbconvert_exporter": "python",
   "pygments_lexer": "ipython3",
   "version": "3.10.13"
  }
 },
 "nbformat": 4,
 "nbformat_minor": 5
}
