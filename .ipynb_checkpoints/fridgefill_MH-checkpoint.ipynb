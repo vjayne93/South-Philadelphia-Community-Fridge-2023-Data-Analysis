{
 "cells": [
  {
   "cell_type": "code",
   "execution_count": 85,
   "id": "d44677a4-e9bb-4008-bd38-417091b37937",
   "metadata": {},
   "outputs": [
    {
     "data": {
      "text/html": [
       "<div>\n",
       "<style scoped>\n",
       "    .dataframe tbody tr th:only-of-type {\n",
       "        vertical-align: middle;\n",
       "    }\n",
       "\n",
       "    .dataframe tbody tr th {\n",
       "        vertical-align: top;\n",
       "    }\n",
       "\n",
       "    .dataframe thead th {\n",
       "        text-align: right;\n",
       "    }\n",
       "</style>\n",
       "<table border=\"1\" class=\"dataframe\">\n",
       "  <thead>\n",
       "    <tr style=\"text-align: right;\">\n",
       "      <th></th>\n",
       "      <th>Date</th>\n",
       "      <th>Day of Week</th>\n",
       "      <th>Time of Day</th>\n",
       "      <th>Name</th>\n",
       "      <th>Pickup Location</th>\n",
       "      <th>Dropoff Location</th>\n",
       "      <th>Fill Type</th>\n",
       "    </tr>\n",
       "  </thead>\n",
       "  <tbody>\n",
       "    <tr>\n",
       "      <th>0</th>\n",
       "      <td>1/1/2023</td>\n",
       "      <td>Sunday</td>\n",
       "      <td>Morning (7AM-12PM)</td>\n",
       "      <td>Krista Kircanski</td>\n",
       "      <td>GO - Grocery Outlet</td>\n",
       "      <td>BOK</td>\n",
       "      <td>Rescued Groceries</td>\n",
       "    </tr>\n",
       "    <tr>\n",
       "      <th>1</th>\n",
       "      <td>1/2/2023</td>\n",
       "      <td>Monday</td>\n",
       "      <td>Evening (5PM-10PM)</td>\n",
       "      <td>Kate Gilbert</td>\n",
       "      <td>Grocery FILL</td>\n",
       "      <td>BOK</td>\n",
       "      <td>Purchased Groceries</td>\n",
       "    </tr>\n",
       "    <tr>\n",
       "      <th>2</th>\n",
       "      <td>1/2/2023</td>\n",
       "      <td>Monday</td>\n",
       "      <td>Evening (5PM-10PM)</td>\n",
       "      <td>Kate Gilbert</td>\n",
       "      <td>Grocery FILL</td>\n",
       "      <td>DS - DiSilvestro</td>\n",
       "      <td>Purchased Groceries</td>\n",
       "    </tr>\n",
       "    <tr>\n",
       "      <th>3</th>\n",
       "      <td>1/2/2023</td>\n",
       "      <td>Monday</td>\n",
       "      <td>Evening (5PM-10PM)</td>\n",
       "      <td>Kathryn Nolan</td>\n",
       "      <td>Grocery FILL</td>\n",
       "      <td>BOK</td>\n",
       "      <td>Purchased Groceries</td>\n",
       "    </tr>\n",
       "    <tr>\n",
       "      <th>4</th>\n",
       "      <td>1/2/2023</td>\n",
       "      <td>Monday</td>\n",
       "      <td>Morning (7AM-12PM)</td>\n",
       "      <td>Leah Santos</td>\n",
       "      <td>Grocery FILL</td>\n",
       "      <td>Mifflin</td>\n",
       "      <td>Purchased Groceries</td>\n",
       "    </tr>\n",
       "  </tbody>\n",
       "</table>\n",
       "</div>"
      ],
      "text/plain": [
       "       Date Day of Week         Time of Day              Name  \\\n",
       "0  1/1/2023      Sunday  Morning (7AM-12PM)  Krista Kircanski   \n",
       "1  1/2/2023      Monday  Evening (5PM-10PM)      Kate Gilbert   \n",
       "2  1/2/2023      Monday  Evening (5PM-10PM)      Kate Gilbert   \n",
       "3  1/2/2023      Monday  Evening (5PM-10PM)     Kathryn Nolan   \n",
       "4  1/2/2023      Monday  Morning (7AM-12PM)       Leah Santos   \n",
       "\n",
       "       Pickup Location  Dropoff Location            Fill Type  \n",
       "0  GO - Grocery Outlet               BOK    Rescued Groceries  \n",
       "1         Grocery FILL               BOK  Purchased Groceries  \n",
       "2         Grocery FILL  DS - DiSilvestro  Purchased Groceries  \n",
       "3         Grocery FILL               BOK  Purchased Groceries  \n",
       "4         Grocery FILL           Mifflin  Purchased Groceries  "
      ]
     },
     "execution_count": 85,
     "metadata": {},
     "output_type": "execute_result"
    }
   ],
   "source": [
    "import pandas as pd\n",
    "import plotly.express as px\n",
    "import matplotlib.pyplot as plt\n",
    "from pymongo import MongoClient\n",
    "from ipywidgets import interact, widgets\n",
    "import datetime\n",
    "\n",
    "# Import collection from MongoDB database\n",
    "client = MongoClient('localhost', 27017) \n",
    "db = client.fridge_fills\n",
    "collection = db.fridgefills\n",
    "\n",
    "cursor = collection.find({})\n",
    "\n",
    "data = list(cursor)\n",
    "\n",
    "df_dates = pd.DataFrame(data)\n",
    "\n",
    "df_dates.drop('_id', axis=1, inplace=True)\n",
    "\n",
    "df_dates.head()"
   ]
  },
  {
   "cell_type": "code",
   "execution_count": 28,
   "id": "95e1569a-4dd5-4786-ae13-8bc98a157b9a",
   "metadata": {},
   "outputs": [
    {
     "data": {
      "text/html": [
       "<div>\n",
       "<style scoped>\n",
       "    .dataframe tbody tr th:only-of-type {\n",
       "        vertical-align: middle;\n",
       "    }\n",
       "\n",
       "    .dataframe tbody tr th {\n",
       "        vertical-align: top;\n",
       "    }\n",
       "\n",
       "    .dataframe thead th {\n",
       "        text-align: right;\n",
       "    }\n",
       "</style>\n",
       "<table border=\"1\" class=\"dataframe\">\n",
       "  <thead>\n",
       "    <tr style=\"text-align: right;\">\n",
       "      <th></th>\n",
       "      <th>Date</th>\n",
       "      <th>Day of Week</th>\n",
       "      <th>Time of Day</th>\n",
       "      <th>Name</th>\n",
       "      <th>Pickup Location</th>\n",
       "      <th>Dropoff Location</th>\n",
       "      <th>Fill Type</th>\n",
       "      <th>Hour</th>\n",
       "      <th>Month</th>\n",
       "      <th>Time_of_Day</th>\n",
       "    </tr>\n",
       "  </thead>\n",
       "  <tbody>\n",
       "    <tr>\n",
       "      <th>0</th>\n",
       "      <td>2023-01-01</td>\n",
       "      <td>Sunday</td>\n",
       "      <td>Morning (7AM-12PM)</td>\n",
       "      <td>Krista Kircanski</td>\n",
       "      <td>GO - Grocery Outlet</td>\n",
       "      <td>BOK</td>\n",
       "      <td>Rescued Groceries</td>\n",
       "      <td>0</td>\n",
       "      <td>January</td>\n",
       "      <td>None</td>\n",
       "    </tr>\n",
       "    <tr>\n",
       "      <th>1</th>\n",
       "      <td>2023-01-02</td>\n",
       "      <td>Monday</td>\n",
       "      <td>Evening (5PM-10PM)</td>\n",
       "      <td>Kate Gilbert</td>\n",
       "      <td>Grocery FILL</td>\n",
       "      <td>BOK</td>\n",
       "      <td>Purchased Groceries</td>\n",
       "      <td>0</td>\n",
       "      <td>January</td>\n",
       "      <td>None</td>\n",
       "    </tr>\n",
       "    <tr>\n",
       "      <th>2</th>\n",
       "      <td>2023-01-02</td>\n",
       "      <td>Monday</td>\n",
       "      <td>Evening (5PM-10PM)</td>\n",
       "      <td>Kate Gilbert</td>\n",
       "      <td>Grocery FILL</td>\n",
       "      <td>DS - DiSilvestro</td>\n",
       "      <td>Purchased Groceries</td>\n",
       "      <td>0</td>\n",
       "      <td>January</td>\n",
       "      <td>None</td>\n",
       "    </tr>\n",
       "    <tr>\n",
       "      <th>3</th>\n",
       "      <td>2023-01-02</td>\n",
       "      <td>Monday</td>\n",
       "      <td>Evening (5PM-10PM)</td>\n",
       "      <td>Kathryn Nolan</td>\n",
       "      <td>Grocery FILL</td>\n",
       "      <td>BOK</td>\n",
       "      <td>Purchased Groceries</td>\n",
       "      <td>0</td>\n",
       "      <td>January</td>\n",
       "      <td>None</td>\n",
       "    </tr>\n",
       "    <tr>\n",
       "      <th>4</th>\n",
       "      <td>2023-01-02</td>\n",
       "      <td>Monday</td>\n",
       "      <td>Morning (7AM-12PM)</td>\n",
       "      <td>Leah Santos</td>\n",
       "      <td>Grocery FILL</td>\n",
       "      <td>Mifflin</td>\n",
       "      <td>Purchased Groceries</td>\n",
       "      <td>0</td>\n",
       "      <td>January</td>\n",
       "      <td>None</td>\n",
       "    </tr>\n",
       "    <tr>\n",
       "      <th>...</th>\n",
       "      <td>...</td>\n",
       "      <td>...</td>\n",
       "      <td>...</td>\n",
       "      <td>...</td>\n",
       "      <td>...</td>\n",
       "      <td>...</td>\n",
       "      <td>...</td>\n",
       "      <td>...</td>\n",
       "      <td>...</td>\n",
       "      <td>...</td>\n",
       "    </tr>\n",
       "    <tr>\n",
       "      <th>3057</th>\n",
       "      <td>2023-12-31</td>\n",
       "      <td>Sunday</td>\n",
       "      <td>Evening (5PM-10PM)</td>\n",
       "      <td>Maulik Kadakia</td>\n",
       "      <td>Grocery FILL</td>\n",
       "      <td>BOK</td>\n",
       "      <td>Purchased Groceries</td>\n",
       "      <td>0</td>\n",
       "      <td>December</td>\n",
       "      <td>None</td>\n",
       "    </tr>\n",
       "    <tr>\n",
       "      <th>3058</th>\n",
       "      <td>2023-12-31</td>\n",
       "      <td>Sunday</td>\n",
       "      <td>Evening (5PM-10PM)</td>\n",
       "      <td>Maulik Kadakia</td>\n",
       "      <td>Grocery FILL</td>\n",
       "      <td>Mifflin</td>\n",
       "      <td>Purchased Groceries</td>\n",
       "      <td>0</td>\n",
       "      <td>December</td>\n",
       "      <td>None</td>\n",
       "    </tr>\n",
       "    <tr>\n",
       "      <th>3059</th>\n",
       "      <td>2023-12-31</td>\n",
       "      <td>Sunday</td>\n",
       "      <td>Evening (5PM-10PM)</td>\n",
       "      <td>Maulik Kadakia</td>\n",
       "      <td>Grocery FILL</td>\n",
       "      <td>DS - DiSilvestro</td>\n",
       "      <td>Purchased Groceries</td>\n",
       "      <td>0</td>\n",
       "      <td>December</td>\n",
       "      <td>None</td>\n",
       "    </tr>\n",
       "    <tr>\n",
       "      <th>3060</th>\n",
       "      <td>2023-12-31</td>\n",
       "      <td>Sunday</td>\n",
       "      <td>Evening (5PM-10PM)</td>\n",
       "      <td>Maulik Kadakia</td>\n",
       "      <td>Grocery FILL</td>\n",
       "      <td>PK - People's Kitchen</td>\n",
       "      <td>Purchased Groceries</td>\n",
       "      <td>0</td>\n",
       "      <td>December</td>\n",
       "      <td>None</td>\n",
       "    </tr>\n",
       "    <tr>\n",
       "      <th>3061</th>\n",
       "      <td>2023-12-31</td>\n",
       "      <td>Sunday</td>\n",
       "      <td>Afternoon (12PM-5PM)</td>\n",
       "      <td>Benjamin Miller - PK</td>\n",
       "      <td>PK - People's Kitchen</td>\n",
       "      <td>PK - People's Kitchen</td>\n",
       "      <td>Meals</td>\n",
       "      <td>0</td>\n",
       "      <td>December</td>\n",
       "      <td>None</td>\n",
       "    </tr>\n",
       "  </tbody>\n",
       "</table>\n",
       "<p>3062 rows × 10 columns</p>\n",
       "</div>"
      ],
      "text/plain": [
       "            Date Day of Week           Time of Day                  Name  \\\n",
       "0     2023-01-01      Sunday    Morning (7AM-12PM)      Krista Kircanski   \n",
       "1     2023-01-02      Monday    Evening (5PM-10PM)          Kate Gilbert   \n",
       "2     2023-01-02      Monday    Evening (5PM-10PM)          Kate Gilbert   \n",
       "3     2023-01-02      Monday    Evening (5PM-10PM)         Kathryn Nolan   \n",
       "4     2023-01-02      Monday    Morning (7AM-12PM)           Leah Santos   \n",
       "...          ...         ...                   ...                   ...   \n",
       "3057  2023-12-31      Sunday    Evening (5PM-10PM)        Maulik Kadakia   \n",
       "3058  2023-12-31      Sunday    Evening (5PM-10PM)        Maulik Kadakia   \n",
       "3059  2023-12-31      Sunday    Evening (5PM-10PM)        Maulik Kadakia   \n",
       "3060  2023-12-31      Sunday    Evening (5PM-10PM)        Maulik Kadakia   \n",
       "3061  2023-12-31      Sunday  Afternoon (12PM-5PM)  Benjamin Miller - PK   \n",
       "\n",
       "            Pickup Location       Dropoff Location            Fill Type  Hour  \\\n",
       "0       GO - Grocery Outlet                    BOK    Rescued Groceries     0   \n",
       "1              Grocery FILL                    BOK  Purchased Groceries     0   \n",
       "2              Grocery FILL       DS - DiSilvestro  Purchased Groceries     0   \n",
       "3              Grocery FILL                    BOK  Purchased Groceries     0   \n",
       "4              Grocery FILL                Mifflin  Purchased Groceries     0   \n",
       "...                     ...                    ...                  ...   ...   \n",
       "3057           Grocery FILL                    BOK  Purchased Groceries     0   \n",
       "3058           Grocery FILL                Mifflin  Purchased Groceries     0   \n",
       "3059           Grocery FILL       DS - DiSilvestro  Purchased Groceries     0   \n",
       "3060           Grocery FILL  PK - People's Kitchen  Purchased Groceries     0   \n",
       "3061  PK - People's Kitchen  PK - People's Kitchen                Meals     0   \n",
       "\n",
       "         Month Time_of_Day  \n",
       "0      January        None  \n",
       "1      January        None  \n",
       "2      January        None  \n",
       "3      January        None  \n",
       "4      January        None  \n",
       "...        ...         ...  \n",
       "3057  December        None  \n",
       "3058  December        None  \n",
       "3059  December        None  \n",
       "3060  December        None  \n",
       "3061  December        None  \n",
       "\n",
       "[3062 rows x 10 columns]"
      ]
     },
     "execution_count": 28,
     "metadata": {},
     "output_type": "execute_result"
    }
   ],
   "source": [
    "# Convert Date to Datetime Object\n",
    "# Then create the DataFrame\n",
    "def convert_to_date(x):\n",
    "    return pd.to_datetime(x).date()\n",
    "\n",
    "df_dates['Date'] = df_dates['Date'].apply(convert_to_date)\n",
    "\n",
    "# Display the DataFrame\n",
    "df_dates"
   ]
  },
  {
   "cell_type": "code",
   "execution_count": 92,
   "id": "d864385f-d974-4d2f-884a-bf79721885bf",
   "metadata": {},
   "outputs": [
    {
     "name": "stdout",
     "output_type": "stream",
     "text": [
      "Date: 2023-01-01\n",
      "Morning Donations: 1\n",
      "Afternoon Donations: 0\n",
      "Evening Donations: 0\n",
      "---------------------------------------------\n",
      "Date: 2023-01-02\n",
      "Morning Donations: 5\n",
      "Afternoon Donations: 0\n",
      "Evening Donations: 4\n",
      "---------------------------------------------\n",
      "Date: 2023-01-03\n",
      "Morning Donations: 1\n",
      "Afternoon Donations: 0\n",
      "Evening Donations: 2\n",
      "---------------------------------------------\n",
      "Date: 2023-01-04\n",
      "Morning Donations: 3\n",
      "Afternoon Donations: 0\n",
      "Evening Donations: 1\n",
      "---------------------------------------------\n",
      "Date: 2023-01-05\n",
      "Morning Donations: 3\n",
      "Afternoon Donations: 0\n",
      "Evening Donations: 6\n",
      "---------------------------------------------\n",
      "Date: 2023-01-06\n",
      "Morning Donations: 1\n",
      "Afternoon Donations: 0\n",
      "Evening Donations: 1\n",
      "---------------------------------------------\n",
      "Date: 2023-01-07\n",
      "Morning Donations: 1\n",
      "Afternoon Donations: 0\n",
      "Evening Donations: 3\n",
      "---------------------------------------------\n",
      "Date: 2023-01-08\n",
      "Morning Donations: 5\n",
      "Afternoon Donations: 0\n",
      "Evening Donations: 4\n",
      "---------------------------------------------\n",
      "Date: 2023-01-09\n",
      "Morning Donations: 0\n",
      "Afternoon Donations: 0\n",
      "Evening Donations: 4\n",
      "---------------------------------------------\n",
      "Date: 2023-01-10\n",
      "Morning Donations: 0\n",
      "Afternoon Donations: 0\n",
      "Evening Donations: 2\n",
      "---------------------------------------------\n",
      "Date: 2023-01-11\n",
      "Morning Donations: 4\n",
      "Afternoon Donations: 0\n",
      "Evening Donations: 0\n",
      "---------------------------------------------\n",
      "Date: 2023-01-12\n",
      "Morning Donations: 3\n",
      "Afternoon Donations: 0\n",
      "Evening Donations: 1\n",
      "---------------------------------------------\n",
      "Date: 2023-01-13\n",
      "Morning Donations: 3\n",
      "Afternoon Donations: 0\n",
      "Evening Donations: 1\n",
      "---------------------------------------------\n",
      "Date: 2023-01-14\n",
      "Morning Donations: 2\n",
      "Afternoon Donations: 0\n",
      "Evening Donations: 3\n",
      "---------------------------------------------\n",
      "Date: 2023-01-15\n",
      "Morning Donations: 6\n",
      "Afternoon Donations: 0\n",
      "Evening Donations: 4\n",
      "---------------------------------------------\n",
      "Date: 2023-01-16\n",
      "Morning Donations: 1\n",
      "Afternoon Donations: 0\n",
      "Evening Donations: 8\n",
      "---------------------------------------------\n",
      "Date: 2023-01-17\n",
      "Morning Donations: 1\n",
      "Afternoon Donations: 0\n",
      "Evening Donations: 3\n",
      "---------------------------------------------\n",
      "Date: 2023-01-18\n",
      "Morning Donations: 3\n",
      "Afternoon Donations: 0\n",
      "Evening Donations: 2\n",
      "---------------------------------------------\n",
      "Date: 2023-01-19\n",
      "Morning Donations: 2\n",
      "Afternoon Donations: 0\n",
      "Evening Donations: 2\n",
      "---------------------------------------------\n",
      "Date: 2023-01-20\n",
      "Morning Donations: 2\n",
      "Afternoon Donations: 0\n",
      "Evening Donations: 4\n",
      "---------------------------------------------\n",
      "Date: 2023-01-21\n",
      "Morning Donations: 3\n",
      "Afternoon Donations: 0\n",
      "Evening Donations: 2\n",
      "---------------------------------------------\n",
      "Date: 2023-01-22\n",
      "Morning Donations: 5\n",
      "Afternoon Donations: 0\n",
      "Evening Donations: 5\n",
      "---------------------------------------------\n",
      "Date: 2023-01-23\n",
      "Morning Donations: 0\n",
      "Afternoon Donations: 0\n",
      "Evening Donations: 8\n",
      "---------------------------------------------\n",
      "Date: 2023-01-24\n",
      "Morning Donations: 0\n",
      "Afternoon Donations: 0\n",
      "Evening Donations: 3\n",
      "---------------------------------------------\n",
      "Date: 2023-01-25\n",
      "Morning Donations: 3\n",
      "Afternoon Donations: 0\n",
      "Evening Donations: 6\n",
      "---------------------------------------------\n",
      "Date: 2023-01-26\n",
      "Morning Donations: 4\n",
      "Afternoon Donations: 0\n",
      "Evening Donations: 1\n",
      "---------------------------------------------\n",
      "Date: 2023-01-27\n",
      "Morning Donations: 4\n",
      "Afternoon Donations: 0\n",
      "Evening Donations: 2\n",
      "---------------------------------------------\n",
      "Date: 2023-01-28\n",
      "Morning Donations: 8\n",
      "Afternoon Donations: 0\n",
      "Evening Donations: 3\n",
      "---------------------------------------------\n",
      "Date: 2023-01-29\n",
      "Morning Donations: 6\n",
      "Afternoon Donations: 0\n",
      "Evening Donations: 2\n",
      "---------------------------------------------\n",
      "Date: 2023-01-30\n",
      "Morning Donations: 3\n",
      "Afternoon Donations: 0\n",
      "Evening Donations: 0\n",
      "---------------------------------------------\n",
      "Date: 2023-01-31\n",
      "Morning Donations: 0\n",
      "Afternoon Donations: 0\n",
      "Evening Donations: 7\n",
      "---------------------------------------------\n",
      "Date: 2023-02-01\n",
      "Morning Donations: 2\n",
      "Afternoon Donations: 2\n",
      "Evening Donations: 3\n",
      "---------------------------------------------\n",
      "Date: 2023-02-02\n",
      "Morning Donations: 4\n",
      "Afternoon Donations: 3\n",
      "Evening Donations: 6\n",
      "---------------------------------------------\n",
      "Date: 2023-02-03\n",
      "Morning Donations: 0\n",
      "Afternoon Donations: 2\n",
      "Evening Donations: 0\n",
      "---------------------------------------------\n",
      "Date: 2023-02-04\n",
      "Morning Donations: 6\n",
      "Afternoon Donations: 8\n",
      "Evening Donations: 3\n",
      "---------------------------------------------\n",
      "Date: 2023-02-05\n",
      "Morning Donations: 5\n",
      "Afternoon Donations: 6\n",
      "Evening Donations: 0\n",
      "---------------------------------------------\n",
      "Date: 2023-02-06\n",
      "Morning Donations: 0\n",
      "Afternoon Donations: 2\n",
      "Evening Donations: 2\n",
      "---------------------------------------------\n",
      "Date: 2023-02-07\n",
      "Morning Donations: 3\n",
      "Afternoon Donations: 4\n",
      "Evening Donations: 2\n",
      "---------------------------------------------\n",
      "Date: 2023-02-08\n",
      "Morning Donations: 5\n",
      "Afternoon Donations: 1\n",
      "Evening Donations: 1\n",
      "---------------------------------------------\n",
      "Date: 2023-02-09\n",
      "Morning Donations: 5\n",
      "Afternoon Donations: 8\n",
      "Evening Donations: 4\n",
      "---------------------------------------------\n",
      "Date: 2023-02-10\n",
      "Morning Donations: 1\n",
      "Afternoon Donations: 4\n",
      "Evening Donations: 0\n",
      "---------------------------------------------\n",
      "Date: 2023-02-11\n",
      "Morning Donations: 1\n",
      "Afternoon Donations: 10\n",
      "Evening Donations: 5\n",
      "---------------------------------------------\n",
      "Date: 2023-02-12\n",
      "Morning Donations: 5\n",
      "Afternoon Donations: 1\n",
      "Evening Donations: 1\n",
      "---------------------------------------------\n",
      "Date: 2023-02-13\n",
      "Morning Donations: 0\n",
      "Afternoon Donations: 1\n",
      "Evening Donations: 3\n",
      "---------------------------------------------\n",
      "Date: 2023-02-14\n",
      "Morning Donations: 2\n",
      "Afternoon Donations: 1\n",
      "Evening Donations: 2\n",
      "---------------------------------------------\n",
      "Date: 2023-02-15\n",
      "Morning Donations: 7\n",
      "Afternoon Donations: 7\n",
      "Evening Donations: 2\n",
      "---------------------------------------------\n",
      "Date: 2023-02-16\n",
      "Morning Donations: 3\n",
      "Afternoon Donations: 1\n",
      "Evening Donations: 4\n",
      "---------------------------------------------\n",
      "Date: 2023-02-17\n",
      "Morning Donations: 0\n",
      "Afternoon Donations: 1\n",
      "Evening Donations: 1\n",
      "---------------------------------------------\n",
      "Date: 2023-02-18\n",
      "Morning Donations: 6\n",
      "Afternoon Donations: 5\n",
      "Evening Donations: 0\n",
      "---------------------------------------------\n",
      "Date: 2023-02-19\n",
      "Morning Donations: 6\n",
      "Afternoon Donations: 4\n",
      "Evening Donations: 4\n",
      "---------------------------------------------\n",
      "Date: 2023-02-20\n",
      "Morning Donations: 0\n",
      "Afternoon Donations: 0\n",
      "Evening Donations: 3\n",
      "---------------------------------------------\n",
      "Date: 2023-02-21\n",
      "Morning Donations: 1\n",
      "Afternoon Donations: 6\n",
      "Evening Donations: 3\n",
      "---------------------------------------------\n",
      "Date: 2023-02-22\n",
      "Morning Donations: 4\n",
      "Afternoon Donations: 3\n",
      "Evening Donations: 2\n",
      "---------------------------------------------\n",
      "Date: 2023-02-23\n",
      "Morning Donations: 1\n",
      "Afternoon Donations: 2\n",
      "Evening Donations: 5\n",
      "---------------------------------------------\n",
      "Date: 2023-02-24\n",
      "Morning Donations: 4\n",
      "Afternoon Donations: 2\n",
      "Evening Donations: 0\n",
      "---------------------------------------------\n",
      "Date: 2023-02-25\n",
      "Morning Donations: 5\n",
      "Afternoon Donations: 2\n",
      "Evening Donations: 2\n",
      "---------------------------------------------\n",
      "Date: 2023-02-26\n",
      "Morning Donations: 5\n",
      "Afternoon Donations: 1\n",
      "Evening Donations: 3\n",
      "---------------------------------------------\n",
      "Date: 2023-02-27\n",
      "Morning Donations: 0\n",
      "Afternoon Donations: 2\n",
      "Evening Donations: 5\n",
      "---------------------------------------------\n",
      "Date: 2023-02-28\n",
      "Morning Donations: 0\n",
      "Afternoon Donations: 5\n",
      "Evening Donations: 3\n",
      "---------------------------------------------\n",
      "Date: 2023-03-01\n",
      "Morning Donations: 2\n",
      "Afternoon Donations: 3\n",
      "Evening Donations: 3\n",
      "---------------------------------------------\n",
      "Date: 2023-03-02\n",
      "Morning Donations: 1\n",
      "Afternoon Donations: 0\n",
      "Evening Donations: 4\n",
      "---------------------------------------------\n",
      "Date: 2023-03-03\n",
      "Morning Donations: 0\n",
      "Afternoon Donations: 0\n",
      "Evening Donations: 1\n",
      "---------------------------------------------\n",
      "Date: 2023-03-04\n",
      "Morning Donations: 7\n",
      "Afternoon Donations: 1\n",
      "Evening Donations: 5\n",
      "---------------------------------------------\n",
      "Date: 2023-03-05\n",
      "Morning Donations: 6\n",
      "Afternoon Donations: 1\n",
      "Evening Donations: 1\n",
      "---------------------------------------------\n",
      "Date: 2023-03-06\n",
      "Morning Donations: 0\n",
      "Afternoon Donations: 0\n",
      "Evening Donations: 3\n",
      "---------------------------------------------\n",
      "Date: 2023-03-07\n",
      "Morning Donations: 2\n",
      "Afternoon Donations: 2\n",
      "Evening Donations: 4\n",
      "---------------------------------------------\n",
      "Date: 2023-03-08\n",
      "Morning Donations: 3\n",
      "Afternoon Donations: 4\n",
      "Evening Donations: 3\n",
      "---------------------------------------------\n",
      "Date: 2023-03-09\n",
      "Morning Donations: 3\n",
      "Afternoon Donations: 0\n",
      "Evening Donations: 1\n",
      "---------------------------------------------\n",
      "Date: 2023-03-10\n",
      "Morning Donations: 0\n",
      "Afternoon Donations: 1\n",
      "Evening Donations: 2\n",
      "---------------------------------------------\n",
      "Date: 2023-03-11\n",
      "Morning Donations: 4\n",
      "Afternoon Donations: 0\n",
      "Evening Donations: 1\n",
      "---------------------------------------------\n",
      "Date: 2023-03-12\n",
      "Morning Donations: 1\n",
      "Afternoon Donations: 6\n",
      "Evening Donations: 1\n",
      "---------------------------------------------\n",
      "Date: 2023-03-13\n",
      "Morning Donations: 0\n",
      "Afternoon Donations: 1\n",
      "Evening Donations: 3\n",
      "---------------------------------------------\n",
      "Date: 2023-03-14\n",
      "Morning Donations: 0\n",
      "Afternoon Donations: 0\n",
      "Evening Donations: 2\n",
      "---------------------------------------------\n",
      "Date: 2023-03-15\n",
      "Morning Donations: 0\n",
      "Afternoon Donations: 3\n",
      "Evening Donations: 2\n",
      "---------------------------------------------\n",
      "Date: 2023-03-16\n",
      "Morning Donations: 0\n",
      "Afternoon Donations: 4\n",
      "Evening Donations: 1\n",
      "---------------------------------------------\n",
      "Date: 2023-03-17\n",
      "Morning Donations: 1\n",
      "Afternoon Donations: 0\n",
      "Evening Donations: 5\n",
      "---------------------------------------------\n",
      "Date: 2023-03-18\n",
      "Morning Donations: 3\n",
      "Afternoon Donations: 5\n",
      "Evening Donations: 0\n",
      "---------------------------------------------\n",
      "Date: 2023-03-19\n",
      "Morning Donations: 5\n",
      "Afternoon Donations: 1\n",
      "Evening Donations: 3\n",
      "---------------------------------------------\n",
      "Date: 2023-03-20\n",
      "Morning Donations: 0\n",
      "Afternoon Donations: 1\n",
      "Evening Donations: 2\n",
      "---------------------------------------------\n",
      "Date: 2023-03-21\n",
      "Morning Donations: 0\n",
      "Afternoon Donations: 3\n",
      "Evening Donations: 3\n",
      "---------------------------------------------\n",
      "Date: 2023-03-22\n",
      "Morning Donations: 1\n",
      "Afternoon Donations: 4\n",
      "Evening Donations: 2\n",
      "---------------------------------------------\n",
      "Date: 2023-03-23\n",
      "Morning Donations: 0\n",
      "Afternoon Donations: 4\n",
      "Evening Donations: 5\n",
      "---------------------------------------------\n",
      "Date: 2023-03-24\n",
      "Morning Donations: 0\n",
      "Afternoon Donations: 2\n",
      "Evening Donations: 5\n",
      "---------------------------------------------\n",
      "Date: 2023-03-25\n",
      "Morning Donations: 4\n",
      "Afternoon Donations: 2\n",
      "Evening Donations: 0\n",
      "---------------------------------------------\n",
      "Date: 2023-03-26\n",
      "Morning Donations: 5\n",
      "Afternoon Donations: 1\n",
      "Evening Donations: 4\n",
      "---------------------------------------------\n",
      "Date: 2023-03-27\n",
      "Morning Donations: 0\n",
      "Afternoon Donations: 1\n",
      "Evening Donations: 4\n",
      "---------------------------------------------\n",
      "Date: 2023-03-28\n",
      "Morning Donations: 0\n",
      "Afternoon Donations: 3\n",
      "Evening Donations: 6\n",
      "---------------------------------------------\n",
      "Date: 2023-03-29\n",
      "Morning Donations: 0\n",
      "Afternoon Donations: 2\n",
      "Evening Donations: 2\n",
      "---------------------------------------------\n",
      "Date: 2023-03-30\n",
      "Morning Donations: 0\n",
      "Afternoon Donations: 2\n",
      "Evening Donations: 1\n",
      "---------------------------------------------\n",
      "Date: 2023-03-31\n",
      "Morning Donations: 0\n",
      "Afternoon Donations: 0\n",
      "Evening Donations: 1\n",
      "---------------------------------------------\n",
      "Date: 2023-04-01\n",
      "Morning Donations: 6\n",
      "Afternoon Donations: 0\n",
      "Evening Donations: 4\n",
      "---------------------------------------------\n",
      "Date: 2023-04-02\n",
      "Morning Donations: 5\n",
      "Afternoon Donations: 3\n",
      "Evening Donations: 1\n",
      "---------------------------------------------\n",
      "Date: 2023-04-03\n",
      "Morning Donations: 2\n",
      "Afternoon Donations: 0\n",
      "Evening Donations: 5\n",
      "---------------------------------------------\n",
      "Date: 2023-04-04\n",
      "Morning Donations: 4\n",
      "Afternoon Donations: 4\n",
      "Evening Donations: 3\n",
      "---------------------------------------------\n",
      "Date: 2023-04-05\n",
      "Morning Donations: 3\n",
      "Afternoon Donations: 4\n",
      "Evening Donations: 3\n",
      "---------------------------------------------\n",
      "Date: 2023-04-06\n",
      "Morning Donations: 0\n",
      "Afternoon Donations: 7\n",
      "Evening Donations: 4\n",
      "---------------------------------------------\n",
      "Date: 2023-04-07\n",
      "Morning Donations: 0\n",
      "Afternoon Donations: 5\n",
      "Evening Donations: 5\n",
      "---------------------------------------------\n",
      "Date: 2023-04-08\n",
      "Morning Donations: 7\n",
      "Afternoon Donations: 4\n",
      "Evening Donations: 3\n",
      "---------------------------------------------\n",
      "Date: 2023-04-09\n",
      "Morning Donations: 5\n",
      "Afternoon Donations: 0\n",
      "Evening Donations: 1\n",
      "---------------------------------------------\n",
      "Date: 2023-04-10\n",
      "Morning Donations: 0\n",
      "Afternoon Donations: 0\n",
      "Evening Donations: 4\n",
      "---------------------------------------------\n",
      "Date: 2023-04-11\n",
      "Morning Donations: 1\n",
      "Afternoon Donations: 3\n",
      "Evening Donations: 2\n",
      "---------------------------------------------\n",
      "Date: 2023-04-12\n",
      "Morning Donations: 2\n",
      "Afternoon Donations: 4\n",
      "Evening Donations: 1\n",
      "---------------------------------------------\n",
      "Date: 2023-04-13\n",
      "Morning Donations: 5\n",
      "Afternoon Donations: 2\n",
      "Evening Donations: 6\n",
      "---------------------------------------------\n",
      "Date: 2023-04-14\n",
      "Morning Donations: 2\n",
      "Afternoon Donations: 6\n",
      "Evening Donations: 7\n",
      "---------------------------------------------\n",
      "Date: 2023-04-15\n",
      "Morning Donations: 4\n",
      "Afternoon Donations: 5\n",
      "Evening Donations: 3\n",
      "---------------------------------------------\n",
      "Date: 2023-04-16\n",
      "Morning Donations: 5\n",
      "Afternoon Donations: 1\n",
      "Evening Donations: 2\n",
      "---------------------------------------------\n",
      "Date: 2023-04-17\n",
      "Morning Donations: 0\n",
      "Afternoon Donations: 3\n",
      "Evening Donations: 3\n",
      "---------------------------------------------\n",
      "Date: 2023-04-18\n",
      "Morning Donations: 1\n",
      "Afternoon Donations: 4\n",
      "Evening Donations: 2\n",
      "---------------------------------------------\n",
      "Date: 2023-04-19\n",
      "Morning Donations: 1\n",
      "Afternoon Donations: 4\n",
      "Evening Donations: 4\n",
      "---------------------------------------------\n",
      "Date: 2023-04-20\n",
      "Morning Donations: 1\n",
      "Afternoon Donations: 0\n",
      "Evening Donations: 3\n",
      "---------------------------------------------\n",
      "Date: 2023-04-21\n",
      "Morning Donations: 2\n",
      "Afternoon Donations: 1\n",
      "Evening Donations: 9\n",
      "---------------------------------------------\n",
      "Date: 2023-04-22\n",
      "Morning Donations: 2\n",
      "Afternoon Donations: 4\n",
      "Evening Donations: 3\n",
      "---------------------------------------------\n",
      "Date: 2023-04-23\n",
      "Morning Donations: 6\n",
      "Afternoon Donations: 1\n",
      "Evening Donations: 2\n",
      "---------------------------------------------\n",
      "Date: 2023-04-24\n",
      "Morning Donations: 1\n",
      "Afternoon Donations: 1\n",
      "Evening Donations: 1\n",
      "---------------------------------------------\n",
      "Date: 2023-04-25\n",
      "Morning Donations: 1\n",
      "Afternoon Donations: 3\n",
      "Evening Donations: 5\n",
      "---------------------------------------------\n",
      "Date: 2023-04-26\n",
      "Morning Donations: 1\n",
      "Afternoon Donations: 3\n",
      "Evening Donations: 4\n",
      "---------------------------------------------\n",
      "Date: 2023-04-27\n",
      "Morning Donations: 2\n",
      "Afternoon Donations: 1\n",
      "Evening Donations: 2\n",
      "---------------------------------------------\n",
      "Date: 2023-04-28\n",
      "Morning Donations: 0\n",
      "Afternoon Donations: 4\n",
      "Evening Donations: 4\n",
      "---------------------------------------------\n",
      "Date: 2023-04-29\n",
      "Morning Donations: 2\n",
      "Afternoon Donations: 16\n",
      "Evening Donations: 2\n",
      "---------------------------------------------\n",
      "Date: 2023-04-30\n",
      "Morning Donations: 5\n",
      "Afternoon Donations: 0\n",
      "Evening Donations: 3\n",
      "---------------------------------------------\n",
      "Date: 2023-05-01\n",
      "Morning Donations: 0\n",
      "Afternoon Donations: 1\n",
      "Evening Donations: 5\n",
      "---------------------------------------------\n",
      "Date: 2023-05-02\n",
      "Morning Donations: 1\n",
      "Afternoon Donations: 5\n",
      "Evening Donations: 2\n",
      "---------------------------------------------\n",
      "Date: 2023-05-03\n",
      "Morning Donations: 3\n",
      "Afternoon Donations: 5\n",
      "Evening Donations: 14\n",
      "---------------------------------------------\n",
      "Date: 2023-05-04\n",
      "Morning Donations: 10\n",
      "Afternoon Donations: 4\n",
      "Evening Donations: 6\n",
      "---------------------------------------------\n",
      "Date: 2023-05-05\n",
      "Morning Donations: 3\n",
      "Afternoon Donations: 0\n",
      "Evening Donations: 6\n",
      "---------------------------------------------\n",
      "Date: 2023-05-06\n",
      "Morning Donations: 9\n",
      "Afternoon Donations: 6\n",
      "Evening Donations: 2\n",
      "---------------------------------------------\n",
      "Date: 2023-05-07\n",
      "Morning Donations: 4\n",
      "Afternoon Donations: 3\n",
      "Evening Donations: 3\n",
      "---------------------------------------------\n",
      "Date: 2023-05-08\n",
      "Morning Donations: 1\n",
      "Afternoon Donations: 2\n",
      "Evening Donations: 2\n",
      "---------------------------------------------\n",
      "Date: 2023-05-09\n",
      "Morning Donations: 5\n",
      "Afternoon Donations: 0\n",
      "Evening Donations: 5\n",
      "---------------------------------------------\n",
      "Date: 2023-05-10\n",
      "Morning Donations: 0\n",
      "Afternoon Donations: 3\n",
      "Evening Donations: 7\n",
      "---------------------------------------------\n",
      "Date: 2023-05-11\n",
      "Morning Donations: 7\n",
      "Afternoon Donations: 9\n",
      "Evening Donations: 3\n",
      "---------------------------------------------\n",
      "Date: 2023-05-12\n",
      "Morning Donations: 0\n",
      "Afternoon Donations: 5\n",
      "Evening Donations: 6\n",
      "---------------------------------------------\n",
      "Date: 2023-05-13\n",
      "Morning Donations: 13\n",
      "Afternoon Donations: 10\n",
      "Evening Donations: 0\n",
      "---------------------------------------------\n",
      "Date: 2023-05-14\n",
      "Morning Donations: 4\n",
      "Afternoon Donations: 1\n",
      "Evening Donations: 1\n",
      "---------------------------------------------\n",
      "Date: 2023-05-15\n",
      "Morning Donations: 6\n",
      "Afternoon Donations: 1\n",
      "Evening Donations: 3\n",
      "---------------------------------------------\n",
      "Date: 2023-05-16\n",
      "Morning Donations: 1\n",
      "Afternoon Donations: 3\n",
      "Evening Donations: 4\n",
      "---------------------------------------------\n",
      "Date: 2023-05-17\n",
      "Morning Donations: 1\n",
      "Afternoon Donations: 7\n",
      "Evening Donations: 4\n",
      "---------------------------------------------\n",
      "Date: 2023-05-18\n",
      "Morning Donations: 3\n",
      "Afternoon Donations: 7\n",
      "Evening Donations: 2\n",
      "---------------------------------------------\n",
      "Date: 2023-05-19\n",
      "Morning Donations: 11\n",
      "Afternoon Donations: 5\n",
      "Evening Donations: 4\n",
      "---------------------------------------------\n",
      "Date: 2023-05-20\n",
      "Morning Donations: 6\n",
      "Afternoon Donations: 3\n",
      "Evening Donations: 0\n",
      "---------------------------------------------\n",
      "Date: 2023-05-21\n",
      "Morning Donations: 7\n",
      "Afternoon Donations: 4\n",
      "Evening Donations: 3\n",
      "---------------------------------------------\n",
      "Date: 2023-05-22\n",
      "Morning Donations: 1\n",
      "Afternoon Donations: 5\n",
      "Evening Donations: 7\n",
      "---------------------------------------------\n",
      "Date: 2023-05-23\n",
      "Morning Donations: 2\n",
      "Afternoon Donations: 7\n",
      "Evening Donations: 3\n",
      "---------------------------------------------\n",
      "Date: 2023-05-24\n",
      "Morning Donations: 6\n",
      "Afternoon Donations: 6\n",
      "Evening Donations: 6\n",
      "---------------------------------------------\n",
      "Date: 2023-05-25\n",
      "Morning Donations: 4\n",
      "Afternoon Donations: 4\n",
      "Evening Donations: 4\n",
      "---------------------------------------------\n",
      "Date: 2023-05-26\n",
      "Morning Donations: 1\n",
      "Afternoon Donations: 0\n",
      "Evening Donations: 3\n",
      "---------------------------------------------\n",
      "Date: 2023-05-27\n",
      "Morning Donations: 4\n",
      "Afternoon Donations: 3\n",
      "Evening Donations: 2\n",
      "---------------------------------------------\n",
      "Date: 2023-05-28\n",
      "Morning Donations: 4\n",
      "Afternoon Donations: 2\n",
      "Evening Donations: 4\n",
      "---------------------------------------------\n",
      "Date: 2023-05-29\n",
      "Morning Donations: 0\n",
      "Afternoon Donations: 1\n",
      "Evening Donations: 3\n",
      "---------------------------------------------\n",
      "Date: 2023-05-30\n",
      "Morning Donations: 2\n",
      "Afternoon Donations: 4\n",
      "Evening Donations: 4\n",
      "---------------------------------------------\n",
      "Date: 2023-05-31\n",
      "Morning Donations: 6\n",
      "Afternoon Donations: 2\n",
      "Evening Donations: 4\n",
      "---------------------------------------------\n",
      "Date: 2023-06-01\n",
      "Morning Donations: 2\n",
      "Afternoon Donations: 8\n",
      "Evening Donations: 3\n",
      "---------------------------------------------\n",
      "Date: 2023-06-02\n",
      "Morning Donations: 4\n",
      "Afternoon Donations: 1\n",
      "Evening Donations: 4\n",
      "---------------------------------------------\n",
      "Date: 2023-06-03\n",
      "Morning Donations: 3\n",
      "Afternoon Donations: 1\n",
      "Evening Donations: 6\n",
      "---------------------------------------------\n",
      "Date: 2023-06-04\n",
      "Morning Donations: 13\n",
      "Afternoon Donations: 6\n",
      "Evening Donations: 4\n",
      "---------------------------------------------\n",
      "Date: 2023-06-05\n",
      "Morning Donations: 3\n",
      "Afternoon Donations: 2\n",
      "Evening Donations: 3\n",
      "---------------------------------------------\n",
      "Date: 2023-06-06\n",
      "Morning Donations: 2\n",
      "Afternoon Donations: 2\n",
      "Evening Donations: 5\n",
      "---------------------------------------------\n",
      "Date: 2023-06-07\n",
      "Morning Donations: 3\n",
      "Afternoon Donations: 3\n",
      "Evening Donations: 5\n",
      "---------------------------------------------\n",
      "Date: 2023-06-08\n",
      "Morning Donations: 2\n",
      "Afternoon Donations: 4\n",
      "Evening Donations: 6\n",
      "---------------------------------------------\n",
      "Date: 2023-06-09\n",
      "Morning Donations: 1\n",
      "Afternoon Donations: 4\n",
      "Evening Donations: 1\n",
      "---------------------------------------------\n",
      "Date: 2023-06-10\n",
      "Morning Donations: 4\n",
      "Afternoon Donations: 1\n",
      "Evening Donations: 1\n",
      "---------------------------------------------\n",
      "Date: 2023-06-11\n",
      "Morning Donations: 4\n",
      "Afternoon Donations: 2\n",
      "Evening Donations: 2\n",
      "---------------------------------------------\n",
      "Date: 2023-06-12\n",
      "Morning Donations: 5\n",
      "Afternoon Donations: 2\n",
      "Evening Donations: 3\n",
      "---------------------------------------------\n",
      "Date: 2023-06-13\n",
      "Morning Donations: 2\n",
      "Afternoon Donations: 1\n",
      "Evening Donations: 3\n",
      "---------------------------------------------\n",
      "Date: 2023-06-14\n",
      "Morning Donations: 2\n",
      "Afternoon Donations: 4\n",
      "Evening Donations: 2\n",
      "---------------------------------------------\n",
      "Date: 2023-06-15\n",
      "Morning Donations: 0\n",
      "Afternoon Donations: 5\n",
      "Evening Donations: 5\n",
      "---------------------------------------------\n",
      "Date: 2023-06-16\n",
      "Morning Donations: 0\n",
      "Afternoon Donations: 3\n",
      "Evening Donations: 3\n",
      "---------------------------------------------\n",
      "Date: 2023-06-17\n",
      "Morning Donations: 4\n",
      "Afternoon Donations: 6\n",
      "Evening Donations: 1\n",
      "---------------------------------------------\n",
      "Date: 2023-06-18\n",
      "Morning Donations: 4\n",
      "Afternoon Donations: 0\n",
      "Evening Donations: 1\n",
      "---------------------------------------------\n",
      "Date: 2023-06-19\n",
      "Morning Donations: 1\n",
      "Afternoon Donations: 0\n",
      "Evening Donations: 6\n",
      "---------------------------------------------\n",
      "Date: 2023-06-20\n",
      "Morning Donations: 1\n",
      "Afternoon Donations: 4\n",
      "Evening Donations: 2\n",
      "---------------------------------------------\n",
      "Date: 2023-06-21\n",
      "Morning Donations: 1\n",
      "Afternoon Donations: 4\n",
      "Evening Donations: 6\n",
      "---------------------------------------------\n",
      "Date: 2023-06-22\n",
      "Morning Donations: 1\n",
      "Afternoon Donations: 1\n",
      "Evening Donations: 5\n",
      "---------------------------------------------\n",
      "Date: 2023-06-23\n",
      "Morning Donations: 4\n",
      "Afternoon Donations: 0\n",
      "Evening Donations: 4\n",
      "---------------------------------------------\n",
      "Date: 2023-06-24\n",
      "Morning Donations: 6\n",
      "Afternoon Donations: 1\n",
      "Evening Donations: 3\n",
      "---------------------------------------------\n",
      "Date: 2023-06-25\n",
      "Morning Donations: 5\n",
      "Afternoon Donations: 2\n",
      "Evening Donations: 1\n",
      "---------------------------------------------\n",
      "Date: 2023-06-26\n",
      "Morning Donations: 0\n",
      "Afternoon Donations: 0\n",
      "Evening Donations: 4\n",
      "---------------------------------------------\n",
      "Date: 2023-06-27\n",
      "Morning Donations: 0\n",
      "Afternoon Donations: 1\n",
      "Evening Donations: 0\n",
      "---------------------------------------------\n",
      "Date: 2023-06-28\n",
      "Morning Donations: 3\n",
      "Afternoon Donations: 0\n",
      "Evening Donations: 5\n",
      "---------------------------------------------\n",
      "Date: 2023-06-29\n",
      "Morning Donations: 0\n",
      "Afternoon Donations: 5\n",
      "Evening Donations: 4\n",
      "---------------------------------------------\n",
      "Date: 2023-06-30\n",
      "Morning Donations: 1\n",
      "Afternoon Donations: 2\n",
      "Evening Donations: 6\n",
      "---------------------------------------------\n",
      "Date: 2023-07-01\n",
      "Morning Donations: 1\n",
      "Afternoon Donations: 5\n",
      "Evening Donations: 6\n",
      "---------------------------------------------\n",
      "Date: 2023-07-02\n",
      "Morning Donations: 5\n",
      "Afternoon Donations: 2\n",
      "Evening Donations: 1\n",
      "---------------------------------------------\n",
      "Date: 2023-07-03\n",
      "Morning Donations: 3\n",
      "Afternoon Donations: 1\n",
      "Evening Donations: 2\n",
      "---------------------------------------------\n",
      "Date: 2023-07-04\n",
      "Morning Donations: 4\n",
      "Afternoon Donations: 4\n",
      "Evening Donations: 3\n",
      "---------------------------------------------\n",
      "Date: 2023-07-05\n",
      "Morning Donations: 1\n",
      "Afternoon Donations: 4\n",
      "Evening Donations: 9\n",
      "---------------------------------------------\n",
      "Date: 2023-07-06\n",
      "Morning Donations: 4\n",
      "Afternoon Donations: 1\n",
      "Evening Donations: 2\n",
      "---------------------------------------------\n",
      "Date: 2023-07-07\n",
      "Morning Donations: 0\n",
      "Afternoon Donations: 2\n",
      "Evening Donations: 4\n",
      "---------------------------------------------\n",
      "Date: 2023-07-08\n",
      "Morning Donations: 3\n",
      "Afternoon Donations: 3\n",
      "Evening Donations: 1\n",
      "---------------------------------------------\n",
      "Date: 2023-07-09\n",
      "Morning Donations: 7\n",
      "Afternoon Donations: 2\n",
      "Evening Donations: 1\n",
      "---------------------------------------------\n",
      "Date: 2023-07-10\n",
      "Morning Donations: 0\n",
      "Afternoon Donations: 0\n",
      "Evening Donations: 3\n",
      "---------------------------------------------\n",
      "Date: 2023-07-11\n",
      "Morning Donations: 0\n",
      "Afternoon Donations: 0\n",
      "Evening Donations: 6\n",
      "---------------------------------------------\n",
      "Date: 2023-07-12\n",
      "Morning Donations: 2\n",
      "Afternoon Donations: 3\n",
      "Evening Donations: 8\n",
      "---------------------------------------------\n",
      "Date: 2023-07-13\n",
      "Morning Donations: 1\n",
      "Afternoon Donations: 2\n",
      "Evening Donations: 6\n",
      "---------------------------------------------\n",
      "Date: 2023-07-14\n",
      "Morning Donations: 1\n",
      "Afternoon Donations: 0\n",
      "Evening Donations: 6\n",
      "---------------------------------------------\n",
      "Date: 2023-07-15\n",
      "Morning Donations: 1\n",
      "Afternoon Donations: 0\n",
      "Evening Donations: 4\n",
      "---------------------------------------------\n",
      "Date: 2023-07-16\n",
      "Morning Donations: 5\n",
      "Afternoon Donations: 1\n",
      "Evening Donations: 1\n",
      "---------------------------------------------\n",
      "Date: 2023-07-17\n",
      "Morning Donations: 3\n",
      "Afternoon Donations: 0\n",
      "Evening Donations: 3\n",
      "---------------------------------------------\n",
      "Date: 2023-07-18\n",
      "Morning Donations: 0\n",
      "Afternoon Donations: 2\n",
      "Evening Donations: 2\n",
      "---------------------------------------------\n",
      "Date: 2023-07-19\n",
      "Morning Donations: 2\n",
      "Afternoon Donations: 0\n",
      "Evening Donations: 10\n",
      "---------------------------------------------\n",
      "Date: 2023-07-20\n",
      "Morning Donations: 0\n",
      "Afternoon Donations: 3\n",
      "Evening Donations: 2\n",
      "---------------------------------------------\n",
      "Date: 2023-07-21\n",
      "Morning Donations: 0\n",
      "Afternoon Donations: 2\n",
      "Evening Donations: 5\n",
      "---------------------------------------------\n",
      "Date: 2023-07-22\n",
      "Morning Donations: 1\n",
      "Afternoon Donations: 2\n",
      "Evening Donations: 6\n",
      "---------------------------------------------\n",
      "Date: 2023-07-23\n",
      "Morning Donations: 1\n",
      "Afternoon Donations: 2\n",
      "Evening Donations: 5\n",
      "---------------------------------------------\n",
      "Date: 2023-07-24\n",
      "Morning Donations: 1\n",
      "Afternoon Donations: 1\n",
      "Evening Donations: 6\n",
      "---------------------------------------------\n",
      "Date: 2023-07-25\n",
      "Morning Donations: 2\n",
      "Afternoon Donations: 0\n",
      "Evening Donations: 4\n",
      "---------------------------------------------\n",
      "Date: 2023-07-26\n",
      "Morning Donations: 1\n",
      "Afternoon Donations: 3\n",
      "Evening Donations: 5\n",
      "---------------------------------------------\n",
      "Date: 2023-07-27\n",
      "Morning Donations: 4\n",
      "Afternoon Donations: 5\n",
      "Evening Donations: 5\n",
      "---------------------------------------------\n",
      "Date: 2023-07-28\n",
      "Morning Donations: 2\n",
      "Afternoon Donations: 6\n",
      "Evening Donations: 9\n",
      "---------------------------------------------\n",
      "Date: 2023-07-29\n",
      "Morning Donations: 3\n",
      "Afternoon Donations: 1\n",
      "Evening Donations: 9\n",
      "---------------------------------------------\n",
      "Date: 2023-07-30\n",
      "Morning Donations: 5\n",
      "Afternoon Donations: 2\n",
      "Evening Donations: 2\n",
      "---------------------------------------------\n",
      "Date: 2023-07-31\n",
      "Morning Donations: 1\n",
      "Afternoon Donations: 0\n",
      "Evening Donations: 1\n",
      "---------------------------------------------\n",
      "Date: 2023-08-01\n",
      "Morning Donations: 1\n",
      "Afternoon Donations: 1\n",
      "Evening Donations: 2\n",
      "---------------------------------------------\n",
      "Date: 2023-08-02\n",
      "Morning Donations: 3\n",
      "Afternoon Donations: 0\n",
      "Evening Donations: 9\n",
      "---------------------------------------------\n",
      "Date: 2023-08-03\n",
      "Morning Donations: 0\n",
      "Afternoon Donations: 3\n",
      "Evening Donations: 8\n",
      "---------------------------------------------\n",
      "Date: 2023-08-04\n",
      "Morning Donations: 0\n",
      "Afternoon Donations: 2\n",
      "Evening Donations: 1\n",
      "---------------------------------------------\n",
      "Date: 2023-08-05\n",
      "Morning Donations: 6\n",
      "Afternoon Donations: 3\n",
      "Evening Donations: 1\n",
      "---------------------------------------------\n",
      "Date: 2023-08-06\n",
      "Morning Donations: 0\n",
      "Afternoon Donations: 1\n",
      "Evening Donations: 2\n",
      "---------------------------------------------\n",
      "Date: 2023-08-07\n",
      "Morning Donations: 2\n",
      "Afternoon Donations: 1\n",
      "Evening Donations: 4\n",
      "---------------------------------------------\n",
      "Date: 2023-08-08\n",
      "Morning Donations: 0\n",
      "Afternoon Donations: 3\n",
      "Evening Donations: 5\n",
      "---------------------------------------------\n",
      "Date: 2023-08-09\n",
      "Morning Donations: 1\n",
      "Afternoon Donations: 3\n",
      "Evening Donations: 5\n",
      "---------------------------------------------\n",
      "Date: 2023-08-10\n",
      "Morning Donations: 1\n",
      "Afternoon Donations: 1\n",
      "Evening Donations: 3\n",
      "---------------------------------------------\n",
      "Date: 2023-08-11\n",
      "Morning Donations: 2\n",
      "Afternoon Donations: 7\n",
      "Evening Donations: 7\n",
      "---------------------------------------------\n",
      "Date: 2023-08-12\n",
      "Morning Donations: 5\n",
      "Afternoon Donations: 0\n",
      "Evening Donations: 2\n",
      "---------------------------------------------\n",
      "Date: 2023-08-13\n",
      "Morning Donations: 5\n",
      "Afternoon Donations: 0\n",
      "Evening Donations: 1\n",
      "---------------------------------------------\n",
      "Date: 2023-08-14\n",
      "Morning Donations: 2\n",
      "Afternoon Donations: 2\n",
      "Evening Donations: 3\n",
      "---------------------------------------------\n",
      "Date: 2023-08-15\n",
      "Morning Donations: 0\n",
      "Afternoon Donations: 2\n",
      "Evening Donations: 3\n",
      "---------------------------------------------\n",
      "Date: 2023-08-16\n",
      "Morning Donations: 0\n",
      "Afternoon Donations: 2\n",
      "Evening Donations: 4\n",
      "---------------------------------------------\n",
      "Date: 2023-08-17\n",
      "Morning Donations: 4\n",
      "Afternoon Donations: 2\n",
      "Evening Donations: 1\n",
      "---------------------------------------------\n",
      "Date: 2023-08-18\n",
      "Morning Donations: 3\n",
      "Afternoon Donations: 1\n",
      "Evening Donations: 6\n",
      "---------------------------------------------\n",
      "Date: 2023-08-19\n",
      "Morning Donations: 4\n",
      "Afternoon Donations: 1\n",
      "Evening Donations: 1\n",
      "---------------------------------------------\n",
      "Date: 2023-08-20\n",
      "Morning Donations: 4\n",
      "Afternoon Donations: 2\n",
      "Evening Donations: 2\n",
      "---------------------------------------------\n",
      "Date: 2023-08-21\n",
      "Morning Donations: 0\n",
      "Afternoon Donations: 0\n",
      "Evening Donations: 1\n",
      "---------------------------------------------\n",
      "Date: 2023-08-22\n",
      "Morning Donations: 0\n",
      "Afternoon Donations: 4\n",
      "Evening Donations: 1\n",
      "---------------------------------------------\n",
      "Date: 2023-08-23\n",
      "Morning Donations: 0\n",
      "Afternoon Donations: 1\n",
      "Evening Donations: 4\n",
      "---------------------------------------------\n",
      "Date: 2023-08-24\n",
      "Morning Donations: 3\n",
      "Afternoon Donations: 5\n",
      "Evening Donations: 2\n",
      "---------------------------------------------\n",
      "Date: 2023-08-25\n",
      "Morning Donations: 1\n",
      "Afternoon Donations: 1\n",
      "Evening Donations: 5\n",
      "---------------------------------------------\n",
      "Date: 2023-08-26\n",
      "Morning Donations: 3\n",
      "Afternoon Donations: 7\n",
      "Evening Donations: 1\n",
      "---------------------------------------------\n",
      "Date: 2023-08-27\n",
      "Morning Donations: 6\n",
      "Afternoon Donations: 0\n",
      "Evening Donations: 1\n",
      "---------------------------------------------\n",
      "Date: 2023-08-28\n",
      "Morning Donations: 0\n",
      "Afternoon Donations: 0\n",
      "Evening Donations: 3\n",
      "---------------------------------------------\n",
      "Date: 2023-08-29\n",
      "Morning Donations: 0\n",
      "Afternoon Donations: 0\n",
      "Evening Donations: 3\n",
      "---------------------------------------------\n",
      "Date: 2023-08-30\n",
      "Morning Donations: 0\n",
      "Afternoon Donations: 2\n",
      "Evening Donations: 5\n",
      "---------------------------------------------\n",
      "Date: 2023-08-31\n",
      "Morning Donations: 0\n",
      "Afternoon Donations: 2\n",
      "Evening Donations: 5\n",
      "---------------------------------------------\n",
      "Date: 2023-09-01\n",
      "Morning Donations: 0\n",
      "Afternoon Donations: 1\n",
      "Evening Donations: 2\n",
      "---------------------------------------------\n",
      "Date: 2023-09-02\n",
      "Morning Donations: 1\n",
      "Afternoon Donations: 5\n",
      "Evening Donations: 0\n",
      "---------------------------------------------\n",
      "Date: 2023-09-03\n",
      "Morning Donations: 4\n",
      "Afternoon Donations: 2\n",
      "Evening Donations: 0\n",
      "---------------------------------------------\n",
      "Date: 2023-09-04\n",
      "Morning Donations: 1\n",
      "Afternoon Donations: 1\n",
      "Evening Donations: 3\n",
      "---------------------------------------------\n",
      "Date: 2023-09-05\n",
      "Morning Donations: 0\n",
      "Afternoon Donations: 3\n",
      "Evening Donations: 2\n",
      "---------------------------------------------\n",
      "Date: 2023-09-06\n",
      "Morning Donations: 1\n",
      "Afternoon Donations: 4\n",
      "Evening Donations: 3\n",
      "---------------------------------------------\n",
      "Date: 2023-09-07\n",
      "Morning Donations: 0\n",
      "Afternoon Donations: 10\n",
      "Evening Donations: 0\n",
      "---------------------------------------------\n",
      "Date: 2023-09-08\n",
      "Morning Donations: 0\n",
      "Afternoon Donations: 2\n",
      "Evening Donations: 3\n",
      "---------------------------------------------\n",
      "Date: 2023-09-09\n",
      "Morning Donations: 1\n",
      "Afternoon Donations: 3\n",
      "Evening Donations: 0\n",
      "---------------------------------------------\n",
      "Date: 2023-09-10\n",
      "Morning Donations: 1\n",
      "Afternoon Donations: 1\n",
      "Evening Donations: 0\n",
      "---------------------------------------------\n",
      "Date: 2023-09-11\n",
      "Morning Donations: 0\n",
      "Afternoon Donations: 4\n",
      "Evening Donations: 3\n",
      "---------------------------------------------\n",
      "Date: 2023-09-12\n",
      "Morning Donations: 0\n",
      "Afternoon Donations: 5\n",
      "Evening Donations: 0\n",
      "---------------------------------------------\n",
      "Date: 2023-09-13\n",
      "Morning Donations: 0\n",
      "Afternoon Donations: 2\n",
      "Evening Donations: 2\n",
      "---------------------------------------------\n",
      "Date: 2023-09-14\n",
      "Morning Donations: 0\n",
      "Afternoon Donations: 10\n",
      "Evening Donations: 1\n",
      "---------------------------------------------\n",
      "Date: 2023-09-15\n",
      "Morning Donations: 0\n",
      "Afternoon Donations: 1\n",
      "Evening Donations: 5\n",
      "---------------------------------------------\n",
      "Date: 2023-09-16\n",
      "Morning Donations: 4\n",
      "Afternoon Donations: 4\n",
      "Evening Donations: 1\n",
      "---------------------------------------------\n",
      "Date: 2023-09-17\n",
      "Morning Donations: 4\n",
      "Afternoon Donations: 3\n",
      "Evening Donations: 0\n",
      "---------------------------------------------\n",
      "Date: 2023-09-18\n",
      "Morning Donations: 0\n",
      "Afternoon Donations: 1\n",
      "Evening Donations: 6\n",
      "---------------------------------------------\n",
      "Date: 2023-09-19\n",
      "Morning Donations: 1\n",
      "Afternoon Donations: 3\n",
      "Evening Donations: 1\n",
      "---------------------------------------------\n",
      "Date: 2023-09-20\n",
      "Morning Donations: 1\n",
      "Afternoon Donations: 2\n",
      "Evening Donations: 7\n",
      "---------------------------------------------\n",
      "Date: 2023-09-21\n",
      "Morning Donations: 2\n",
      "Afternoon Donations: 9\n",
      "Evening Donations: 6\n",
      "---------------------------------------------\n",
      "Date: 2023-09-22\n",
      "Morning Donations: 1\n",
      "Afternoon Donations: 2\n",
      "Evening Donations: 0\n",
      "---------------------------------------------\n",
      "Date: 2023-09-23\n",
      "Morning Donations: 1\n",
      "Afternoon Donations: 15\n",
      "Evening Donations: 0\n",
      "---------------------------------------------\n",
      "Date: 2023-09-24\n",
      "Morning Donations: 1\n",
      "Afternoon Donations: 9\n",
      "Evening Donations: 1\n",
      "---------------------------------------------\n",
      "Date: 2023-09-25\n",
      "Morning Donations: 2\n",
      "Afternoon Donations: 1\n",
      "Evening Donations: 2\n",
      "---------------------------------------------\n",
      "Date: 2023-09-26\n",
      "Morning Donations: 2\n",
      "Afternoon Donations: 3\n",
      "Evening Donations: 1\n",
      "---------------------------------------------\n",
      "Date: 2023-09-27\n",
      "Morning Donations: 3\n",
      "Afternoon Donations: 7\n",
      "Evening Donations: 5\n",
      "---------------------------------------------\n",
      "Date: 2023-09-28\n",
      "Morning Donations: 5\n",
      "Afternoon Donations: 5\n",
      "Evening Donations: 3\n",
      "---------------------------------------------\n",
      "Date: 2023-09-29\n",
      "Morning Donations: 3\n",
      "Afternoon Donations: 2\n",
      "Evening Donations: 4\n",
      "---------------------------------------------\n",
      "Date: 2023-09-30\n",
      "Morning Donations: 6\n",
      "Afternoon Donations: 2\n",
      "Evening Donations: 1\n",
      "---------------------------------------------\n",
      "Date: 2023-10-01\n",
      "Morning Donations: 1\n",
      "Afternoon Donations: 3\n",
      "Evening Donations: 4\n",
      "---------------------------------------------\n",
      "Date: 2023-10-02\n",
      "Morning Donations: 1\n",
      "Afternoon Donations: 1\n",
      "Evening Donations: 1\n",
      "---------------------------------------------\n",
      "Date: 2023-10-03\n",
      "Morning Donations: 2\n",
      "Afternoon Donations: 4\n",
      "Evening Donations: 1\n",
      "---------------------------------------------\n",
      "Date: 2023-10-04\n",
      "Morning Donations: 0\n",
      "Afternoon Donations: 4\n",
      "Evening Donations: 3\n",
      "---------------------------------------------\n",
      "Date: 2023-10-05\n",
      "Morning Donations: 6\n",
      "Afternoon Donations: 5\n",
      "Evening Donations: 1\n",
      "---------------------------------------------\n",
      "Date: 2023-10-06\n",
      "Morning Donations: 0\n",
      "Afternoon Donations: 2\n",
      "Evening Donations: 3\n",
      "---------------------------------------------\n",
      "Date: 2023-10-07\n",
      "Morning Donations: 9\n",
      "Afternoon Donations: 2\n",
      "Evening Donations: 2\n",
      "---------------------------------------------\n",
      "Date: 2023-10-08\n",
      "Morning Donations: 2\n",
      "Afternoon Donations: 4\n",
      "Evening Donations: 4\n",
      "---------------------------------------------\n",
      "Date: 2023-10-09\n",
      "Morning Donations: 1\n",
      "Afternoon Donations: 1\n",
      "Evening Donations: 1\n",
      "---------------------------------------------\n",
      "Date: 2023-10-10\n",
      "Morning Donations: 1\n",
      "Afternoon Donations: 3\n",
      "Evening Donations: 0\n",
      "---------------------------------------------\n",
      "Date: 2023-10-11\n",
      "Morning Donations: 1\n",
      "Afternoon Donations: 6\n",
      "Evening Donations: 6\n",
      "---------------------------------------------\n",
      "Date: 2023-10-12\n",
      "Morning Donations: 1\n",
      "Afternoon Donations: 8\n",
      "Evening Donations: 0\n",
      "---------------------------------------------\n",
      "Date: 2023-10-13\n",
      "Morning Donations: 0\n",
      "Afternoon Donations: 1\n",
      "Evening Donations: 4\n",
      "---------------------------------------------\n",
      "Date: 2023-10-14\n",
      "Morning Donations: 4\n",
      "Afternoon Donations: 6\n",
      "Evening Donations: 0\n",
      "---------------------------------------------\n",
      "Date: 2023-10-15\n",
      "Morning Donations: 2\n",
      "Afternoon Donations: 5\n",
      "Evening Donations: 4\n",
      "---------------------------------------------\n",
      "Date: 2023-10-16\n",
      "Morning Donations: 3\n",
      "Afternoon Donations: 2\n",
      "Evening Donations: 7\n",
      "---------------------------------------------\n",
      "Date: 2023-10-17\n",
      "Morning Donations: 1\n",
      "Afternoon Donations: 8\n",
      "Evening Donations: 2\n",
      "---------------------------------------------\n",
      "Date: 2023-10-18\n",
      "Morning Donations: 0\n",
      "Afternoon Donations: 4\n",
      "Evening Donations: 8\n",
      "---------------------------------------------\n",
      "Date: 2023-10-19\n",
      "Morning Donations: 0\n",
      "Afternoon Donations: 2\n",
      "Evening Donations: 1\n",
      "---------------------------------------------\n",
      "Date: 2023-10-20\n",
      "Morning Donations: 2\n",
      "Afternoon Donations: 2\n",
      "Evening Donations: 4\n",
      "---------------------------------------------\n",
      "Date: 2023-10-21\n",
      "Morning Donations: 6\n",
      "Afternoon Donations: 5\n",
      "Evening Donations: 1\n",
      "---------------------------------------------\n",
      "Date: 2023-10-22\n",
      "Morning Donations: 2\n",
      "Afternoon Donations: 6\n",
      "Evening Donations: 0\n",
      "---------------------------------------------\n",
      "Date: 2023-10-23\n",
      "Morning Donations: 2\n",
      "Afternoon Donations: 3\n",
      "Evening Donations: 1\n",
      "---------------------------------------------\n",
      "Date: 2023-10-24\n",
      "Morning Donations: 0\n",
      "Afternoon Donations: 3\n",
      "Evening Donations: 3\n",
      "---------------------------------------------\n",
      "Date: 2023-10-25\n",
      "Morning Donations: 0\n",
      "Afternoon Donations: 2\n",
      "Evening Donations: 6\n",
      "---------------------------------------------\n",
      "Date: 2023-10-26\n",
      "Morning Donations: 0\n",
      "Afternoon Donations: 7\n",
      "Evening Donations: 0\n",
      "---------------------------------------------\n",
      "Date: 2023-10-27\n",
      "Morning Donations: 4\n",
      "Afternoon Donations: 0\n",
      "Evening Donations: 4\n",
      "---------------------------------------------\n",
      "Date: 2023-10-28\n",
      "Morning Donations: 2\n",
      "Afternoon Donations: 9\n",
      "Evening Donations: 6\n",
      "---------------------------------------------\n",
      "Date: 2023-10-29\n",
      "Morning Donations: 9\n",
      "Afternoon Donations: 3\n",
      "Evening Donations: 0\n",
      "---------------------------------------------\n",
      "Date: 2023-10-30\n",
      "Morning Donations: 0\n",
      "Afternoon Donations: 3\n",
      "Evening Donations: 1\n",
      "---------------------------------------------\n",
      "Date: 2023-10-31\n",
      "Morning Donations: 0\n",
      "Afternoon Donations: 3\n",
      "Evening Donations: 1\n",
      "---------------------------------------------\n",
      "Date: 2023-11-01\n",
      "Morning Donations: 2\n",
      "Afternoon Donations: 5\n",
      "Evening Donations: 3\n",
      "---------------------------------------------\n",
      "Date: 2023-11-02\n",
      "Morning Donations: 2\n",
      "Afternoon Donations: 3\n",
      "Evening Donations: 3\n",
      "---------------------------------------------\n",
      "Date: 2023-11-03\n",
      "Morning Donations: 1\n",
      "Afternoon Donations: 4\n",
      "Evening Donations: 8\n",
      "---------------------------------------------\n",
      "Date: 2023-11-04\n",
      "Morning Donations: 6\n",
      "Afternoon Donations: 5\n",
      "Evening Donations: 2\n",
      "---------------------------------------------\n",
      "Date: 2023-11-05\n",
      "Morning Donations: 0\n",
      "Afternoon Donations: 6\n",
      "Evening Donations: 6\n",
      "---------------------------------------------\n",
      "Date: 2023-11-06\n",
      "Morning Donations: 1\n",
      "Afternoon Donations: 2\n",
      "Evening Donations: 0\n",
      "---------------------------------------------\n",
      "Date: 2023-11-07\n",
      "Morning Donations: 1\n",
      "Afternoon Donations: 2\n",
      "Evening Donations: 1\n",
      "---------------------------------------------\n",
      "Date: 2023-11-08\n",
      "Morning Donations: 0\n",
      "Afternoon Donations: 4\n",
      "Evening Donations: 3\n",
      "---------------------------------------------\n",
      "Date: 2023-11-09\n",
      "Morning Donations: 1\n",
      "Afternoon Donations: 7\n",
      "Evening Donations: 1\n",
      "---------------------------------------------\n",
      "Date: 2023-11-10\n",
      "Morning Donations: 2\n",
      "Afternoon Donations: 1\n",
      "Evening Donations: 4\n",
      "---------------------------------------------\n",
      "Date: 2023-11-11\n",
      "Morning Donations: 2\n",
      "Afternoon Donations: 10\n",
      "Evening Donations: 0\n",
      "---------------------------------------------\n",
      "Date: 2023-11-12\n",
      "Morning Donations: 4\n",
      "Afternoon Donations: 5\n",
      "Evening Donations: 3\n",
      "---------------------------------------------\n",
      "Date: 2023-11-13\n",
      "Morning Donations: 2\n",
      "Afternoon Donations: 1\n",
      "Evening Donations: 5\n",
      "---------------------------------------------\n",
      "Date: 2023-11-14\n",
      "Morning Donations: 1\n",
      "Afternoon Donations: 4\n",
      "Evening Donations: 1\n",
      "---------------------------------------------\n",
      "Date: 2023-11-15\n",
      "Morning Donations: 2\n",
      "Afternoon Donations: 2\n",
      "Evening Donations: 4\n",
      "---------------------------------------------\n",
      "Date: 2023-11-16\n",
      "Morning Donations: 2\n",
      "Afternoon Donations: 3\n",
      "Evening Donations: 1\n",
      "---------------------------------------------\n",
      "Date: 2023-11-17\n",
      "Morning Donations: 2\n",
      "Afternoon Donations: 14\n",
      "Evening Donations: 2\n",
      "---------------------------------------------\n",
      "Date: 2023-11-18\n",
      "Morning Donations: 5\n",
      "Afternoon Donations: 3\n",
      "Evening Donations: 4\n",
      "---------------------------------------------\n",
      "Date: 2023-11-19\n",
      "Morning Donations: 4\n",
      "Afternoon Donations: 2\n",
      "Evening Donations: 2\n",
      "---------------------------------------------\n",
      "Date: 2023-11-20\n",
      "Morning Donations: 1\n",
      "Afternoon Donations: 6\n",
      "Evening Donations: 2\n",
      "---------------------------------------------\n",
      "Date: 2023-11-21\n",
      "Morning Donations: 2\n",
      "Afternoon Donations: 3\n",
      "Evening Donations: 2\n",
      "---------------------------------------------\n",
      "Date: 2023-11-22\n",
      "Morning Donations: 4\n",
      "Afternoon Donations: 12\n",
      "Evening Donations: 4\n",
      "---------------------------------------------\n",
      "Date: 2023-11-23\n",
      "Morning Donations: 9\n",
      "Afternoon Donations: 8\n",
      "Evening Donations: 7\n",
      "---------------------------------------------\n",
      "Date: 2023-11-24\n",
      "Morning Donations: 0\n",
      "Afternoon Donations: 2\n",
      "Evening Donations: 0\n",
      "---------------------------------------------\n",
      "Date: 2023-11-25\n",
      "Morning Donations: 2\n",
      "Afternoon Donations: 9\n",
      "Evening Donations: 1\n",
      "---------------------------------------------\n",
      "Date: 2023-11-26\n",
      "Morning Donations: 5\n",
      "Afternoon Donations: 7\n",
      "Evening Donations: 0\n",
      "---------------------------------------------\n",
      "Date: 2023-11-27\n",
      "Morning Donations: 2\n",
      "Afternoon Donations: 6\n",
      "Evening Donations: 3\n",
      "---------------------------------------------\n",
      "Date: 2023-11-28\n",
      "Morning Donations: 0\n",
      "Afternoon Donations: 3\n",
      "Evening Donations: 10\n",
      "---------------------------------------------\n",
      "Date: 2023-11-29\n",
      "Morning Donations: 0\n",
      "Afternoon Donations: 5\n",
      "Evening Donations: 7\n",
      "---------------------------------------------\n",
      "Date: 2023-11-30\n",
      "Morning Donations: 4\n",
      "Afternoon Donations: 2\n",
      "Evening Donations: 1\n",
      "---------------------------------------------\n",
      "Date: 2023-12-01\n",
      "Morning Donations: 2\n",
      "Afternoon Donations: 3\n",
      "Evening Donations: 3\n",
      "---------------------------------------------\n",
      "Date: 2023-12-02\n",
      "Morning Donations: 6\n",
      "Afternoon Donations: 6\n",
      "Evening Donations: 1\n",
      "---------------------------------------------\n",
      "Date: 2023-12-03\n",
      "Morning Donations: 1\n",
      "Afternoon Donations: 6\n",
      "Evening Donations: 1\n",
      "---------------------------------------------\n",
      "Date: 2023-12-04\n",
      "Morning Donations: 2\n",
      "Afternoon Donations: 1\n",
      "Evening Donations: 6\n",
      "---------------------------------------------\n",
      "Date: 2023-12-05\n",
      "Morning Donations: 1\n",
      "Afternoon Donations: 4\n",
      "Evening Donations: 1\n",
      "---------------------------------------------\n",
      "Date: 2023-12-06\n",
      "Morning Donations: 4\n",
      "Afternoon Donations: 1\n",
      "Evening Donations: 5\n",
      "---------------------------------------------\n",
      "Date: 2023-12-07\n",
      "Morning Donations: 1\n",
      "Afternoon Donations: 5\n",
      "Evening Donations: 2\n",
      "---------------------------------------------\n",
      "Date: 2023-12-08\n",
      "Morning Donations: 1\n",
      "Afternoon Donations: 3\n",
      "Evening Donations: 4\n",
      "---------------------------------------------\n",
      "Date: 2023-12-09\n",
      "Morning Donations: 10\n",
      "Afternoon Donations: 7\n",
      "Evening Donations: 0\n",
      "---------------------------------------------\n",
      "Date: 2023-12-10\n",
      "Morning Donations: 1\n",
      "Afternoon Donations: 7\n",
      "Evening Donations: 2\n",
      "---------------------------------------------\n",
      "Date: 2023-12-11\n",
      "Morning Donations: 1\n",
      "Afternoon Donations: 3\n",
      "Evening Donations: 3\n",
      "---------------------------------------------\n",
      "Date: 2023-12-12\n",
      "Morning Donations: 0\n",
      "Afternoon Donations: 4\n",
      "Evening Donations: 6\n",
      "---------------------------------------------\n",
      "Date: 2023-12-13\n",
      "Morning Donations: 3\n",
      "Afternoon Donations: 5\n",
      "Evening Donations: 9\n",
      "---------------------------------------------\n",
      "Date: 2023-12-14\n",
      "Morning Donations: 7\n",
      "Afternoon Donations: 1\n",
      "Evening Donations: 4\n",
      "---------------------------------------------\n",
      "Date: 2023-12-15\n",
      "Morning Donations: 1\n",
      "Afternoon Donations: 0\n",
      "Evening Donations: 2\n",
      "---------------------------------------------\n",
      "Date: 2023-12-16\n",
      "Morning Donations: 7\n",
      "Afternoon Donations: 3\n",
      "Evening Donations: 4\n",
      "---------------------------------------------\n",
      "Date: 2023-12-17\n",
      "Morning Donations: 0\n",
      "Afternoon Donations: 6\n",
      "Evening Donations: 0\n",
      "---------------------------------------------\n",
      "Date: 2023-12-18\n",
      "Morning Donations: 1\n",
      "Afternoon Donations: 2\n",
      "Evening Donations: 1\n",
      "---------------------------------------------\n",
      "Date: 2023-12-19\n",
      "Morning Donations: 0\n",
      "Afternoon Donations: 4\n",
      "Evening Donations: 3\n",
      "---------------------------------------------\n",
      "Date: 2023-12-20\n",
      "Morning Donations: 3\n",
      "Afternoon Donations: 2\n",
      "Evening Donations: 9\n",
      "---------------------------------------------\n",
      "Date: 2023-12-21\n",
      "Morning Donations: 4\n",
      "Afternoon Donations: 4\n",
      "Evening Donations: 3\n",
      "---------------------------------------------\n",
      "Date: 2023-12-22\n",
      "Morning Donations: 0\n",
      "Afternoon Donations: 2\n",
      "Evening Donations: 1\n",
      "---------------------------------------------\n",
      "Date: 2023-12-23\n",
      "Morning Donations: 10\n",
      "Afternoon Donations: 1\n",
      "Evening Donations: 3\n",
      "---------------------------------------------\n",
      "Date: 2023-12-24\n",
      "Morning Donations: 0\n",
      "Afternoon Donations: 11\n",
      "Evening Donations: 0\n",
      "---------------------------------------------\n",
      "Date: 2023-12-25\n",
      "Morning Donations: 4\n",
      "Afternoon Donations: 2\n",
      "Evening Donations: 0\n",
      "---------------------------------------------\n",
      "Date: 2023-12-26\n",
      "Morning Donations: 0\n",
      "Afternoon Donations: 6\n",
      "Evening Donations: 1\n",
      "---------------------------------------------\n",
      "Date: 2023-12-27\n",
      "Morning Donations: 0\n",
      "Afternoon Donations: 7\n",
      "Evening Donations: 4\n",
      "---------------------------------------------\n",
      "Date: 2023-12-28\n",
      "Morning Donations: 3\n",
      "Afternoon Donations: 2\n",
      "Evening Donations: 7\n",
      "---------------------------------------------\n",
      "Date: 2023-12-29\n",
      "Morning Donations: 0\n",
      "Afternoon Donations: 3\n",
      "Evening Donations: 8\n",
      "---------------------------------------------\n",
      "Date: 2023-12-30\n",
      "Morning Donations: 2\n",
      "Afternoon Donations: 1\n",
      "Evening Donations: 0\n",
      "---------------------------------------------\n",
      "Date: 2023-12-31\n",
      "Morning Donations: 2\n",
      "Afternoon Donations: 2\n",
      "Evening Donations: 4\n",
      "---------------------------------------------\n"
     ]
    }
   ],
   "source": [
    "# Convert the \"Date\" column to datetime objects\n",
    "df_dates['Date'] = pd.to_datetime(df_dates['Date'])\n",
    "\n",
    "# Define the start and end dates for the year\n",
    "start_date = pd.to_datetime('2023-01-01')\n",
    "end_date = pd.to_datetime('2023-12-31')\n",
    "\n",
    "# Iterate through the dates\n",
    "for current_date in pd.date_range(start=start_date, end=end_date):\n",
    "    # Filter for Morning donations\n",
    "    morning_donations = df_dates.loc[(df_dates[\"Time of Day\"] == \"Morning (7AM-12PM)\") & \n",
    "                                     (df_dates[\"Date\"].dt.date == current_date.date())]\n",
    "    \n",
    "    # Filter for Afternoon donations\n",
    "    afternoon_donations = df_dates.loc[(df_dates[\"Time of Day\"] == \"Afternoon (12PM-5PM)\") & \n",
    "                                       (df_dates[\"Date\"].dt.date == current_date.date())]\n",
    "    \n",
    "    # Filter for Evening donations\n",
    "    evening_donations = df_dates.loc[(df_dates[\"Time of Day\"] == \"Evening (5PM-10PM)\") & \n",
    "                                     (df_dates[\"Date\"].dt.date == current_date.date())]\n",
    "    \n",
    "    # Print the number of donations for each time of day\n",
    "    print(f\"Date: {current_date.date()}\")\n",
    "    print(f\"Morning Donations: {morning_donations.shape[0]}\")\n",
    "    print(f\"Afternoon Donations: {afternoon_donations.shape[0]}\")\n",
    "    print(f\"Evening Donations: {evening_donations.shape[0]}\")\n",
    "    print(\"---------------------------------------------\")"
   ]
  },
  {
   "cell_type": "markdown",
   "id": "33e41129-0d62-4b30-8cc4-de80b9b8cd26",
   "metadata": {},
   "source": [
    "## Line graph for January"
   ]
  },
  {
   "cell_type": "code",
   "execution_count": 95,
   "id": "caa5d2e0-ffea-4b6d-aa43-18be010756fc",
   "metadata": {},
   "outputs": [
    {
     "data": {
      "text/plain": [
       "<Figure size 1000x600 with 0 Axes>"
      ]
     },
     "metadata": {},
     "output_type": "display_data"
    },
    {
     "data": {
      "image/png": "[encoded data removed]",
      "text/plain": [
       "<Figure size 640x480 with 1 Axes>"
      ]
     },
     "metadata": {},
     "output_type": "display_data"
    }
   ],
   "source": [
    "# Convert the \"Date\" column to datetime objects\n",
    "df_dates['Date'] = pd.to_datetime(df_dates['Date'])\n",
    "\n",
    "# Filter the DataFrame for January 2023\n",
    "january_data = df_dates.loc[(df_dates['Date'].dt.year == 2023) & (df_dates['Date'].dt.month == 1)]\n",
    "\n",
    "# Group the data by date and time of day and count the number of donations for each group\n",
    "daily_donations = january_data.groupby(['Date', 'Time of Day']).size().unstack(fill_value=0)\n",
    "\n",
    "# Plot the data\n",
    "plt.figure(figsize=(10, 6))\n",
    "daily_donations.plot(kind='line', marker='o', linestyle='-')\n",
    "plt.title('Donations by Time of Day in January 2023')\n",
    "plt.xlabel('Date')\n",
    "plt.ylabel('Number of Donations')\n",
    "plt.xticks(rotation=45)\n",
    "plt.grid(True)\n",
    "plt.legend(title='Time of Day')\n",
    "plt.tight_layout()\n",
    "# Show the figure\n",
    "plt.show()"
   ]
  },
  {
   "cell_type": "markdown",
   "id": "2d840121-6fd6-4fb1-8200-6effaae303dc",
   "metadata": {},
   "source": [
    "## Line graph for February"
   ]
  },
  {
   "cell_type": "code",
   "execution_count": 97,
   "id": "b06b8916-74fd-4e35-ba8b-f5ee3ccc26f1",
   "metadata": {},
   "outputs": [
    {
     "data": {
      "text/plain": [
       "<Figure size 1000x600 with 0 Axes>"
      ]
     },
     "metadata": {},
     "output_type": "display_data"
    },
    {
     "data": {
      "image/png": "[encoded data removed]",
      "text/plain": [
       "<Figure size 640x480 with 1 Axes>"
      ]
     },
     "metadata": {},
     "output_type": "display_data"
    }
   ],
   "source": [
    "# Convert the \"Date\" column to datetime objects\n",
    "df_dates['Date'] = pd.to_datetime(df_dates['Date'])\n",
    "\n",
    "# Filter the DataFrame for January 2023\n",
    "february_data = df_dates.loc[(df_dates['Date'].dt.year == 2023) & (df_dates['Date'].dt.month == 2)]\n",
    "\n",
    "# Group the data by date and time of day and count the number of donations for each group\n",
    "daily_donations = february_data.groupby(['Date', 'Time of Day']).size().unstack(fill_value=0)\n",
    "\n",
    "# Plot the data\n",
    "plt.figure(figsize=(10, 6))\n",
    "daily_donations.plot(kind='line', marker='o', linestyle='-')\n",
    "plt.title('Donations by Time of Day in February 2023')\n",
    "plt.xlabel('Date')\n",
    "plt.ylabel('Number of Donations')\n",
    "plt.xticks(rotation=45)\n",
    "plt.grid(True)\n",
    "plt.legend(title='Time of Day')\n",
    "plt.tight_layout()\n",
    "plt.show()"
   ]
  },
  {
   "cell_type": "markdown",
   "id": "3f390bb7-86ee-4483-ad06-ebd5143fb596",
   "metadata": {},
   "source": [
    "## Line graph for March"
   ]
  },
  {
   "cell_type": "code",
   "execution_count": 104,
   "id": "728a7c38-7925-4e81-b735-b98c76fe49e2",
   "metadata": {},
   "outputs": [
    {
     "data": {
      "text/plain": [
       "<Figure size 1000x600 with 0 Axes>"
      ]
     },
     "metadata": {},
     "output_type": "display_data"
    },
    {
     "data": {
      "image/png": "[encoded data removed]",
      "text/plain": [
       "<Figure size 640x480 with 1 Axes>"
      ]
     },
     "metadata": {},
     "output_type": "display_data"
    }
   ],
   "source": [
    "# Convert the \"Date\" column to datetime objects\n",
    "df_dates['Date'] = pd.to_datetime(df_dates['Date'])\n",
    "\n",
    "# Filter the DataFrame for January 2023\n",
    "march_data = df_dates.loc[(df_dates['Date'].dt.year == 2023) & (df_dates['Date'].dt.month == 3)]\n",
    "\n",
    "# Group the data by date and time of day and count the number of donations for each group\n",
    "daily_donations = march_data.groupby(['Date', 'Time of Day']).size().unstack(fill_value=0)\n",
    "\n",
    "# Plot the data\n",
    "plt.figure(figsize=(10, 6))\n",
    "daily_donations.plot(kind='line', marker='o', linestyle='-')\n",
    "plt.title('Donations by Time of Day in March 2023')\n",
    "plt.xlabel('Date')\n",
    "plt.ylabel('Number of Donations')\n",
    "plt.xticks(rotation=45)\n",
    "plt.grid(True)\n",
    "plt.legend(title='Time of Day')\n",
    "plt.tight_layout()\n",
    "plt.show()"
   ]
  },
  {
   "cell_type": "markdown",
   "id": "b515fcd3-3560-4a81-b136-1feaf787ea43",
   "metadata": {},
   "source": [
    "## Line graph for April"
   ]
  },
  {
   "cell_type": "code",
   "execution_count": 105,
   "id": "955b22c0-7f0e-4868-b8d2-271ddeb3d8f0",
   "metadata": {},
   "outputs": [
    {
     "data": {
      "text/plain": [
       "<Figure size 1000x600 with 0 Axes>"
      ]
     },
     "metadata": {},
     "output_type": "display_data"
    },
    {
     "data": {
      "image/png": "[encoded data removed]",
      "text/plain": [
       "<Figure size 640x480 with 1 Axes>"
      ]
     },
     "metadata": {},
     "output_type": "display_data"
    }
   ],
   "source": [
    "# Convert the \"Date\" column to datetime objects\n",
    "df_dates['Date'] = pd.to_datetime(df_dates['Date'])\n",
    "\n",
    "# Filter the DataFrame for January 2023\n",
    "april_data = df_dates.loc[(df_dates['Date'].dt.year == 2023) & (df_dates['Date'].dt.month == 4)]\n",
    "\n",
    "# Group the data by date and time of day and count the number of donations for each group\n",
    "daily_donations = april_data.groupby(['Date', 'Time of Day']).size().unstack(fill_value=0)\n",
    "\n",
    "# Plot the data\n",
    "plt.figure(figsize=(10, 6))\n",
    "daily_donations.plot(kind='line', marker='o', linestyle='-')\n",
    "plt.title('Donations by Time of Day in April 2023')\n",
    "plt.xlabel('Date')\n",
    "plt.ylabel('Number of Donations')\n",
    "plt.xticks(rotation=45)\n",
    "plt.grid(True)\n",
    "plt.legend(title='Time of Day')\n",
    "plt.tight_layout()\n",
    "plt.show()"
   ]
  },
  {
   "cell_type": "markdown",
   "id": "cf46a814-eee2-4291-ba32-8b8978b3484e",
   "metadata": {},
   "source": [
    "## Line graph for May"
   ]
  },
  {
   "cell_type": "code",
   "execution_count": null,
   "id": "98251480-b31b-4ba8-b46f-2f622d79be65",
   "metadata": {},
   "outputs": [],
   "source": [
    "# Convert the \"Date\" column to datetime objects\n",
    "df_dates['Date'] = pd.to_datetime(df_dates['Date'])\n",
    "\n",
    "# Filter the DataFrame for January 2023\n",
    "may_data = df_dates.loc[(df_dates['Date'].dt.year == 2023) & (df_dates['Date'].dt.month == 4)]\n",
    "\n",
    "# Group the data by date and time of day and count the number of donations for each group\n",
    "daily_donations = april_data.groupby(['Date', 'Time of Day']).size().unstack(fill_value=0)\n",
    "\n",
    "# Plot the data\n",
    "plt.figure(figsize=(10, 6))\n",
    "daily_donations.plot(kind='line', marker='o', linestyle='-')\n",
    "plt.title('Donations by Time of Day in April 2023')\n",
    "plt.xlabel('Date')\n",
    "plt.ylabel('Number of Donations')\n",
    "plt.xticks(rotation=45)\n",
    "plt.grid(True)\n",
    "plt.legend(title='Time of Day')\n",
    "plt.tight_layout()\n",
    "plt.show()"
   ]
  },
  {
   "cell_type": "markdown",
   "id": "2e19e801-770b-4bc3-99f3-25bdd8088fe4",
   "metadata": {},
   "source": [
    "## Box Plot"
   ]
  },
  {
   "cell_type": "code",
   "execution_count": 19,
   "id": "74cad58f-06fe-443d-bd14-54df13cc384f",
   "metadata": {},
   "outputs": [
    {
     "data": {
      "application/vnd.plotly.v1+json": {
       "config": {
        "plotlyServerURL": "https://plot.ly"
       },
       "data": [
        {
         "alignmentgroup": "True",
         "hovertemplate": "Month=April<br>Time of Day=%{x}<br>Total Donations=%{y}<extra></extra>",
         "legendgroup": "April",
         "marker": {
          "color": "#636efa"
         },
         "name": "April",
         "notched": false,
         "offsetgroup": "April",
         "orientation": "v",
         "showlegend": true,
         "type": "box",
         "x": [
          "Evening"
         ],
         "x0": " ",
         "xaxis": "x",
         "y": [
          271
         ],
         "y0": " ",
         "yaxis": "y"
        },
        {
         "alignmentgroup": "True",
         "hovertemplate": "Month=August<br>Time of Day=%{x}<br>Total Donations=%{y}<extra></extra>",
         "legendgroup": "August",
         "marker": {
          "color": "#EF553B"
         },
         "name": "August",
         "notched": false,
         "offsetgroup": "August",
         "orientation": "v",
         "showlegend": true,
         "type": "box",
         "x": [
          "Evening"
         ],
         "x0": " ",
         "xaxis": "x",
         "y": [
          216
         ],
         "y0": " ",
         "yaxis": "y"
        },
        {
         "alignmentgroup": "True",
         "hovertemplate": "Month=December<br>Time of Day=%{x}<br>Total Donations=%{y}<extra></extra>",
         "legendgroup": "December",
         "marker": {
          "color": "#00cc96"
         },
         "name": "December",
         "notched": false,
         "offsetgroup": "December",
         "orientation": "v",
         "showlegend": true,
         "type": "box",
         "x": [
          "Evening"
         ],
         "x0": " ",
         "xaxis": "x",
         "y": [
          288
         ],
         "y0": " ",
         "yaxis": "y"
        },
        {
         "alignmentgroup": "True",
         "hovertemplate": "Month=February<br>Time of Day=%{x}<br>Total Donations=%{y}<extra></extra>",
         "legendgroup": "February",
         "marker": {
          "color": "#ab63fa"
         },
         "name": "February",
         "notched": false,
         "offsetgroup": "February",
         "orientation": "v",
         "showlegend": true,
         "type": "box",
         "x": [
          "Evening"
         ],
         "x0": " ",
         "xaxis": "x",
         "y": [
          244
         ],
         "y0": " ",
         "yaxis": "y"
        },
        {
         "alignmentgroup": "True",
         "hovertemplate": "Month=January<br>Time of Day=%{x}<br>Total Donations=%{y}<extra></extra>",
         "legendgroup": "January",
         "marker": {
          "color": "#FFA15A"
         },
         "name": "January",
         "notched": false,
         "offsetgroup": "January",
         "orientation": "v",
         "showlegend": true,
         "type": "box",
         "x": [
          "Evening"
         ],
         "x0": " ",
         "xaxis": "x",
         "y": [
          177
         ],
         "y0": " ",
         "yaxis": "y"
        },
        {
         "alignmentgroup": "True",
         "hovertemplate": "Month=July<br>Time of Day=%{x}<br>Total Donations=%{y}<extra></extra>",
         "legendgroup": "July",
         "marker": {
          "color": "#19d3f3"
         },
         "name": "July",
         "notched": false,
         "offsetgroup": "July",
         "orientation": "v",
         "showlegend": true,
         "type": "box",
         "x": [
          "Evening"
         ],
         "x0": " ",
         "xaxis": "x",
         "y": [
          260
         ],
         "y0": " ",
         "yaxis": "y"
        },
        {
         "alignmentgroup": "True",
         "hovertemplate": "Month=June<br>Time of Day=%{x}<br>Total Donations=%{y}<extra></extra>",
         "legendgroup": "June",
         "marker": {
          "color": "#FF6692"
         },
         "name": "June",
         "notched": false,
         "offsetgroup": "June",
         "orientation": "v",
         "showlegend": true,
         "type": "box",
         "x": [
          "Evening"
         ],
         "x0": " ",
         "xaxis": "x",
         "y": [
          260
         ],
         "y0": " ",
         "yaxis": "y"
        },
        {
         "alignmentgroup": "True",
         "hovertemplate": "Month=March<br>Time of Day=%{x}<br>Total Donations=%{y}<extra></extra>",
         "legendgroup": "March",
         "marker": {
          "color": "#B6E880"
         },
         "name": "March",
         "notched": false,
         "offsetgroup": "March",
         "orientation": "v",
         "showlegend": true,
         "type": "box",
         "x": [
          "Evening"
         ],
         "x0": " ",
         "xaxis": "x",
         "y": [
          185
         ],
         "y0": " ",
         "yaxis": "y"
        },
        {
         "alignmentgroup": "True",
         "hovertemplate": "Month=May<br>Time of Day=%{x}<br>Total Donations=%{y}<extra></extra>",
         "legendgroup": "May",
         "marker": {
          "color": "#FF97FF"
         },
         "name": "May",
         "notched": false,
         "offsetgroup": "May",
         "orientation": "v",
         "showlegend": true,
         "type": "box",
         "x": [
          "Evening"
         ],
         "x0": " ",
         "xaxis": "x",
         "y": [
          365
         ],
         "y0": " ",
         "yaxis": "y"
        },
        {
         "alignmentgroup": "True",
         "hovertemplate": "Month=November<br>Time of Day=%{x}<br>Total Donations=%{y}<extra></extra>",
         "legendgroup": "November",
         "marker": {
          "color": "#FECB52"
         },
         "name": "November",
         "notched": false,
         "offsetgroup": "November",
         "orientation": "v",
         "showlegend": true,
         "type": "box",
         "x": [
          "Evening"
         ],
         "x0": " ",
         "xaxis": "x",
         "y": [
          307
         ],
         "y0": " ",
         "yaxis": "y"
        },
        {
         "alignmentgroup": "True",
         "hovertemplate": "Month=October<br>Time of Day=%{x}<br>Total Donations=%{y}<extra></extra>",
         "legendgroup": "October",
         "marker": {
          "color": "#636efa"
         },
         "name": "October",
         "notched": false,
         "offsetgroup": "October",
         "orientation": "v",
         "showlegend": true,
         "type": "box",
         "x": [
          "Evening"
         ],
         "x0": " ",
         "xaxis": "x",
         "y": [
          260
         ],
         "y0": " ",
         "yaxis": "y"
        },
        {
         "alignmentgroup": "True",
         "hovertemplate": "Month=September<br>Time of Day=%{x}<br>Total Donations=%{y}<extra></extra>",
         "legendgroup": "September",
         "marker": {
          "color": "#EF553B"
         },
         "name": "September",
         "notched": false,
         "offsetgroup": "September",
         "orientation": "v",
         "showlegend": true,
         "type": "box",
         "x": [
          "Evening"
         ],
         "x0": " ",
         "xaxis": "x",
         "y": [
          229
         ],
         "y0": " ",
         "yaxis": "y"
        }
       ],
       "layout": {
        "boxmode": "group",
        "height": 500,
        "legend": {
         "title": {
          "text": "Month"
         },
         "tracegroupgap": 0
        },
        "template": {
         "data": {
          "bar": [
           {
            "error_x": {
             "color": "#2a3f5f"
            },
            "error_y": {
             "color": "#2a3f5f"
            },
            "marker": {
             "line": {
              "color": "#E5ECF6",
              "width": 0.5
             },
             "pattern": {
              "fillmode": "overlay",
              "size": 10,
              "solidity": 0.2
             }
            },
            "type": "bar"
           }
          ],
          "barpolar": [
           {
            "marker": {
             "line": {
              "color": "#E5ECF6",
              "width": 0.5
             },
             "pattern": {
              "fillmode": "overlay",
              "size": 10,
              "solidity": 0.2
             }
            },
            "type": "barpolar"
           }
          ],
          "carpet": [
           {
            "aaxis": {
             "endlinecolor": "#2a3f5f",
             "gridcolor": "white",
             "linecolor": "white",
             "minorgridcolor": "white",
             "startlinecolor": "#2a3f5f"
            },
            "baxis": {
             "endlinecolor": "#2a3f5f",
             "gridcolor": "white",
             "linecolor": "white",
             "minorgridcolor": "white",
             "startlinecolor": "#2a3f5f"
            },
            "type": "carpet"
           }
          ],
          "choropleth": [
           {
            "colorbar": {
             "outlinewidth": 0,
             "ticks": ""
            },
            "type": "choropleth"
           }
          ],
          "contour": [
           {
            "colorbar": {
             "outlinewidth": 0,
             "ticks": ""
            },
            "colorscale": [
             [
              0,
              "#0d0887"
             ],
             [
              0.1111111111111111,
              "#46039f"
             ],
             [
              0.2222222222222222,
              "#7201a8"
             ],
             [
              0.3333333333333333,
              "#9c179e"
             ],
             [
              0.4444444444444444,
              "#bd3786"
             ],
             [
              0.5555555555555556,
              "#d8576b"
             ],
             [
              0.6666666666666666,
              "#ed7953"
             ],
             [
              0.7777777777777778,
              "#fb9f3a"
             ],
             [
              0.8888888888888888,
              "#fdca26"
             ],
             [
              1,
              "#f0f921"
             ]
            ],
            "type": "contour"
           }
          ],
          "contourcarpet": [
           {
            "colorbar": {
             "outlinewidth": 0,
             "ticks": ""
            },
            "type": "contourcarpet"
           }
          ],
          "heatmap": [
           {
            "colorbar": {
             "outlinewidth": 0,
             "ticks": ""
            },
            "colorscale": [
             [
              0,
              "#0d0887"
             ],
             [
              0.1111111111111111,
              "#46039f"
             ],
             [
              0.2222222222222222,
              "#7201a8"
             ],
             [
              0.3333333333333333,
              "#9c179e"
             ],
             [
              0.4444444444444444,
              "#bd3786"
             ],
             [
              0.5555555555555556,
              "#d8576b"
             ],
             [
              0.6666666666666666,
              "#ed7953"
             ],
             [
              0.7777777777777778,
              "#fb9f3a"
             ],
             [
              0.8888888888888888,
              "#fdca26"
             ],
             [
              1,
              "#f0f921"
             ]
            ],
            "type": "heatmap"
           }
          ],
          "heatmapgl": [
           {
            "colorbar": {
             "outlinewidth": 0,
             "ticks": ""
            },
            "colorscale": [
             [
              0,
              "#0d0887"
             ],
             [
              0.1111111111111111,
              "#46039f"
             ],
             [
              0.2222222222222222,
              "#7201a8"
             ],
             [
              0.3333333333333333,
              "#9c179e"
             ],
             [
              0.4444444444444444,
              "#bd3786"
             ],
             [
              0.5555555555555556,
              "#d8576b"
             ],
             [
              0.6666666666666666,
              "#ed7953"
             ],
             [
              0.7777777777777778,
              "#fb9f3a"
             ],
             [
              0.8888888888888888,
              "#fdca26"
             ],
             [
              1,
              "#f0f921"
             ]
            ],
            "type": "heatmapgl"
           }
          ],
          "histogram": [
           {
            "marker": {
             "pattern": {
              "fillmode": "overlay",
              "size": 10,
              "solidity": 0.2
             }
            },
            "type": "histogram"
           }
          ],
          "histogram2d": [
           {
            "colorbar": {
             "outlinewidth": 0,
             "ticks": ""
            },
            "colorscale": [
             [
              0,
              "#0d0887"
             ],
             [
              0.1111111111111111,
              "#46039f"
             ],
             [
              0.2222222222222222,
              "#7201a8"
             ],
             [
              0.3333333333333333,
              "#9c179e"
             ],
             [
              0.4444444444444444,
              "#bd3786"
             ],
             [
              0.5555555555555556,
              "#d8576b"
             ],
             [
              0.6666666666666666,
              "#ed7953"
             ],
             [
              0.7777777777777778,
              "#fb9f3a"
             ],
             [
              0.8888888888888888,
              "#fdca26"
             ],
             [
              1,
              "#f0f921"
             ]
            ],
            "type": "histogram2d"
           }
          ],
          "histogram2dcontour": [
           {
            "colorbar": {
             "outlinewidth": 0,
             "ticks": ""
            },
            "colorscale": [
             [
              0,
              "#0d0887"
             ],
             [
              0.1111111111111111,
              "#46039f"
             ],
             [
              0.2222222222222222,
              "#7201a8"
             ],
             [
              0.3333333333333333,
              "#9c179e"
             ],
             [
              0.4444444444444444,
              "#bd3786"
             ],
             [
              0.5555555555555556,
              "#d8576b"
             ],
             [
              0.6666666666666666,
              "#ed7953"
             ],
             [
              0.7777777777777778,
              "#fb9f3a"
             ],
             [
              0.8888888888888888,
              "#fdca26"
             ],
             [
              1,
              "#f0f921"
             ]
            ],
            "type": "histogram2dcontour"
           }
          ],
          "mesh3d": [
           {
            "colorbar": {
             "outlinewidth": 0,
             "ticks": ""
            },
            "type": "mesh3d"
           }
          ],
          "parcoords": [
           {
            "line": {
             "colorbar": {
              "outlinewidth": 0,
              "ticks": ""
             }
            },
            "type": "parcoords"
           }
          ],
          "pie": [
           {
            "automargin": true,
            "type": "pie"
           }
          ],
          "scatter": [
           {
            "fillpattern": {
             "fillmode": "overlay",
             "size": 10,
             "solidity": 0.2
            },
            "type": "scatter"
           }
          ],
          "scatter3d": [
           {
            "line": {
             "colorbar": {
              "outlinewidth": 0,
              "ticks": ""
             }
            },
            "marker": {
             "colorbar": {
              "outlinewidth": 0,
              "ticks": ""
             }
            },
            "type": "scatter3d"
           }
          ],
          "scattercarpet": [
           {
            "marker": {
             "colorbar": {
              "outlinewidth": 0,
              "ticks": ""
             }
            },
            "type": "scattercarpet"
           }
          ],
          "scattergeo": [
           {
            "marker": {
             "colorbar": {
              "outlinewidth": 0,
              "ticks": ""
             }
            },
            "type": "scattergeo"
           }
          ],
          "scattergl": [
           {
            "marker": {
             "colorbar": {
              "outlinewidth": 0,
              "ticks": ""
             }
            },
            "type": "scattergl"
           }
          ],
          "scattermapbox": [
           {
            "marker": {
             "colorbar": {
              "outlinewidth": 0,
              "ticks": ""
             }
            },
            "type": "scattermapbox"
           }
          ],
          "scatterpolar": [
           {
            "marker": {
             "colorbar": {
              "outlinewidth": 0,
              "ticks": ""
             }
            },
            "type": "scatterpolar"
           }
          ],
          "scatterpolargl": [
           {
            "marker": {
             "colorbar": {
              "outlinewidth": 0,
              "ticks": ""
             }
            },
            "type": "scatterpolargl"
           }
          ],
          "scatterternary": [
           {
            "marker": {
             "colorbar": {
              "outlinewidth": 0,
              "ticks": ""
             }
            },
            "type": "scatterternary"
           }
          ],
          "surface": [
           {
            "colorbar": {
             "outlinewidth": 0,
             "ticks": ""
            },
            "colorscale": [
             [
              0,
              "#0d0887"
             ],
             [
              0.1111111111111111,
              "#46039f"
             ],
             [
              0.2222222222222222,
              "#7201a8"
             ],
             [
              0.3333333333333333,
              "#9c179e"
             ],
             [
              0.4444444444444444,
              "#bd3786"
             ],
             [
              0.5555555555555556,
              "#d8576b"
             ],
             [
              0.6666666666666666,
              "#ed7953"
             ],
             [
              0.7777777777777778,
              "#fb9f3a"
             ],
             [
              0.8888888888888888,
              "#fdca26"
             ],
             [
              1,
              "#f0f921"
             ]
            ],
            "type": "surface"
           }
          ],
          "table": [
           {
            "cells": {
             "fill": {
              "color": "#EBF0F8"
             },
             "line": {
              "color": "white"
             }
            },
            "header": {
             "fill": {
              "color": "#C8D4E3"
             },
             "line": {
              "color": "white"
             }
            },
            "type": "table"
           }
          ]
         },
         "layout": {
          "annotationdefaults": {
           "arrowcolor": "#2a3f5f",
           "arrowhead": 0,
           "arrowwidth": 1
          },
          "autotypenumbers": "strict",
          "coloraxis": {
           "colorbar": {
            "outlinewidth": 0,
            "ticks": ""
           }
          },
          "colorscale": {
           "diverging": [
            [
             0,
             "#8e0152"
            ],
            [
             0.1,
             "#c51b7d"
            ],
            [
             0.2,
             "#de77ae"
            ],
            [
             0.3,
             "#f1b6da"
            ],
            [
             0.4,
             "#fde0ef"
            ],
            [
             0.5,
             "#f7f7f7"
            ],
            [
             0.6,
             "#e6f5d0"
            ],
            [
             0.7,
             "#b8e186"
            ],
            [
             0.8,
             "#7fbc41"
            ],
            [
             0.9,
             "#4d9221"
            ],
            [
             1,
             "#276419"
            ]
           ],
           "sequential": [
            [
             0,
             "#0d0887"
            ],
            [
             0.1111111111111111,
             "#46039f"
            ],
            [
             0.2222222222222222,
             "#7201a8"
            ],
            [
             0.3333333333333333,
             "#9c179e"
            ],
            [
             0.4444444444444444,
             "#bd3786"
            ],
            [
             0.5555555555555556,
             "#d8576b"
            ],
            [
             0.6666666666666666,
             "#ed7953"
            ],
            [
             0.7777777777777778,
             "#fb9f3a"
            ],
            [
             0.8888888888888888,
             "#fdca26"
            ],
            [
             1,
             "#f0f921"
            ]
           ],
           "sequentialminus": [
            [
             0,
             "#0d0887"
            ],
            [
             0.1111111111111111,
             "#46039f"
            ],
            [
             0.2222222222222222,
             "#7201a8"
            ],
            [
             0.3333333333333333,
             "#9c179e"
            ],
            [
             0.4444444444444444,
             "#bd3786"
            ],
            [
             0.5555555555555556,
             "#d8576b"
            ],
            [
             0.6666666666666666,
             "#ed7953"
            ],
            [
             0.7777777777777778,
             "#fb9f3a"
            ],
            [
             0.8888888888888888,
             "#fdca26"
            ],
            [
             1,
             "#f0f921"
            ]
           ]
          },
          "colorway": [
           "#636efa",
           "#EF553B",
           "#00cc96",
           "#ab63fa",
           "#FFA15A",
           "#19d3f3",
           "#FF6692",
           "#B6E880",
           "#FF97FF",
           "#FECB52"
          ],
          "font": {
           "color": "#2a3f5f"
          },
          "geo": {
           "bgcolor": "white",
           "lakecolor": "white",
           "landcolor": "#E5ECF6",
           "showlakes": true,
           "showland": true,
           "subunitcolor": "white"
          },
          "hoverlabel": {
           "align": "left"
          },
          "hovermode": "closest",
          "mapbox": {
           "style": "light"
          },
          "paper_bgcolor": "white",
          "plot_bgcolor": "#E5ECF6",
          "polar": {
           "angularaxis": {
            "gridcolor": "white",
            "linecolor": "white",
            "ticks": ""
           },
           "bgcolor": "#E5ECF6",
           "radialaxis": {
            "gridcolor": "white",
            "linecolor": "white",
            "ticks": ""
           }
          },
          "scene": {
           "xaxis": {
            "backgroundcolor": "#E5ECF6",
            "gridcolor": "white",
            "gridwidth": 2,
            "linecolor": "white",
            "showbackground": true,
            "ticks": "",
            "zerolinecolor": "white"
           },
           "yaxis": {
            "backgroundcolor": "#E5ECF6",
            "gridcolor": "white",
            "gridwidth": 2,
            "linecolor": "white",
            "showbackground": true,
            "ticks": "",
            "zerolinecolor": "white"
           },
           "zaxis": {
            "backgroundcolor": "#E5ECF6",
            "gridcolor": "white",
            "gridwidth": 2,
            "linecolor": "white",
            "showbackground": true,
            "ticks": "",
            "zerolinecolor": "white"
           }
          },
          "shapedefaults": {
           "line": {
            "color": "#2a3f5f"
           }
          },
          "ternary": {
           "aaxis": {
            "gridcolor": "white",
            "linecolor": "white",
            "ticks": ""
           },
           "baxis": {
            "gridcolor": "white",
            "linecolor": "white",
            "ticks": ""
           },
           "bgcolor": "#E5ECF6",
           "caxis": {
            "gridcolor": "white",
            "linecolor": "white",
            "ticks": ""
           }
          },
          "title": {
           "x": 0.05
          },
          "xaxis": {
           "automargin": true,
           "gridcolor": "white",
           "linecolor": "white",
           "ticks": "",
           "title": {
            "standoff": 15
           },
           "zerolinecolor": "white",
           "zerolinewidth": 2
          },
          "yaxis": {
           "automargin": true,
           "gridcolor": "white",
           "linecolor": "white",
           "ticks": "",
           "title": {
            "standoff": 15
           },
           "zerolinecolor": "white",
           "zerolinewidth": 2
          }
         }
        },
        "title": {
         "text": "Donations Distribution per Time of Day, Segmented by Month"
        },
        "width": 800,
        "xaxis": {
         "anchor": "y",
         "autorange": true,
         "domain": [
          0,
          1
         ],
         "range": [
          -0.5,
          0.5
         ],
         "title": {
          "text": "Time of Day"
         },
         "type": "category"
        },
        "yaxis": {
         "anchor": "x",
         "autorange": true,
         "domain": [
          0,
          1
         ],
         "gridcolor": "lightgrey",
         "range": [
          166.55555555555554,
          375.44444444444446
         ],
         "title": {
          "text": "Total Donations"
         },
         "type": "linear"
        }
       }
      },
      "image/png": "[encoded data removed]",
      "text/html": [
       "<div>                            <div id=\"c0c1dd95-2979-4bb8-a705-fa80ecab11de\" class=\"plotly-graph-div\" style=\"height:500px; width:800px;\"></div>            <script type=\"text/javascript\">                require([\"plotly\"], function(Plotly) {                    window.PLOTLYENV=window.PLOTLYENV || {};                                    if (document.getElementById(\"c0c1dd95-2979-4bb8-a705-fa80ecab11de\")) {                    Plotly.newPlot(                        \"c0c1dd95-2979-4bb8-a705-fa80ecab11de\",                        [{\"alignmentgroup\":\"True\",\"hovertemplate\":\"Month=April<br>Time of Day=%{x}<br>Total Donations=%{y}<extra></extra>\",\"legendgroup\":\"April\",\"marker\":{\"color\":\"#636efa\"},\"name\":\"April\",\"notched\":false,\"offsetgroup\":\"April\",\"orientation\":\"v\",\"showlegend\":true,\"x\":[\"Evening\"],\"x0\":\" \",\"xaxis\":\"x\",\"y\":[271],\"y0\":\" \",\"yaxis\":\"y\",\"type\":\"box\"},{\"alignmentgroup\":\"True\",\"hovertemplate\":\"Month=August<br>Time of Day=%{x}<br>Total Donations=%{y}<extra></extra>\",\"legendgroup\":\"August\",\"marker\":{\"color\":\"#EF553B\"},\"name\":\"August\",\"notched\":false,\"offsetgroup\":\"August\",\"orientation\":\"v\",\"showlegend\":true,\"x\":[\"Evening\"],\"x0\":\" \",\"xaxis\":\"x\",\"y\":[216],\"y0\":\" \",\"yaxis\":\"y\",\"type\":\"box\"},{\"alignmentgroup\":\"True\",\"hovertemplate\":\"Month=December<br>Time of Day=%{x}<br>Total Donations=%{y}<extra></extra>\",\"legendgroup\":\"December\",\"marker\":{\"color\":\"#00cc96\"},\"name\":\"December\",\"notched\":false,\"offsetgroup\":\"December\",\"orientation\":\"v\",\"showlegend\":true,\"x\":[\"Evening\"],\"x0\":\" \",\"xaxis\":\"x\",\"y\":[288],\"y0\":\" \",\"yaxis\":\"y\",\"type\":\"box\"},{\"alignmentgroup\":\"True\",\"hovertemplate\":\"Month=February<br>Time of Day=%{x}<br>Total Donations=%{y}<extra></extra>\",\"legendgroup\":\"February\",\"marker\":{\"color\":\"#ab63fa\"},\"name\":\"February\",\"notched\":false,\"offsetgroup\":\"February\",\"orientation\":\"v\",\"showlegend\":true,\"x\":[\"Evening\"],\"x0\":\" \",\"xaxis\":\"x\",\"y\":[244],\"y0\":\" \",\"yaxis\":\"y\",\"type\":\"box\"},{\"alignmentgroup\":\"True\",\"hovertemplate\":\"Month=January<br>Time of Day=%{x}<br>Total Donations=%{y}<extra></extra>\",\"legendgroup\":\"January\",\"marker\":{\"color\":\"#FFA15A\"},\"name\":\"January\",\"notched\":false,\"offsetgroup\":\"January\",\"orientation\":\"v\",\"showlegend\":true,\"x\":[\"Evening\"],\"x0\":\" \",\"xaxis\":\"x\",\"y\":[177],\"y0\":\" \",\"yaxis\":\"y\",\"type\":\"box\"},{\"alignmentgroup\":\"True\",\"hovertemplate\":\"Month=July<br>Time of Day=%{x}<br>Total Donations=%{y}<extra></extra>\",\"legendgroup\":\"July\",\"marker\":{\"color\":\"#19d3f3\"},\"name\":\"July\",\"notched\":false,\"offsetgroup\":\"July\",\"orientation\":\"v\",\"showlegend\":true,\"x\":[\"Evening\"],\"x0\":\" \",\"xaxis\":\"x\",\"y\":[260],\"y0\":\" \",\"yaxis\":\"y\",\"type\":\"box\"},{\"alignmentgroup\":\"True\",\"hovertemplate\":\"Month=June<br>Time of Day=%{x}<br>Total Donations=%{y}<extra></extra>\",\"legendgroup\":\"June\",\"marker\":{\"color\":\"#FF6692\"},\"name\":\"June\",\"notched\":false,\"offsetgroup\":\"June\",\"orientation\":\"v\",\"showlegend\":true,\"x\":[\"Evening\"],\"x0\":\" \",\"xaxis\":\"x\",\"y\":[260],\"y0\":\" \",\"yaxis\":\"y\",\"type\":\"box\"},{\"alignmentgroup\":\"True\",\"hovertemplate\":\"Month=March<br>Time of Day=%{x}<br>Total Donations=%{y}<extra></extra>\",\"legendgroup\":\"March\",\"marker\":{\"color\":\"#B6E880\"},\"name\":\"March\",\"notched\":false,\"offsetgroup\":\"March\",\"orientation\":\"v\",\"showlegend\":true,\"x\":[\"Evening\"],\"x0\":\" \",\"xaxis\":\"x\",\"y\":[185],\"y0\":\" \",\"yaxis\":\"y\",\"type\":\"box\"},{\"alignmentgroup\":\"True\",\"hovertemplate\":\"Month=May<br>Time of Day=%{x}<br>Total Donations=%{y}<extra></extra>\",\"legendgroup\":\"May\",\"marker\":{\"color\":\"#FF97FF\"},\"name\":\"May\",\"notched\":false,\"offsetgroup\":\"May\",\"orientation\":\"v\",\"showlegend\":true,\"x\":[\"Evening\"],\"x0\":\" \",\"xaxis\":\"x\",\"y\":[365],\"y0\":\" \",\"yaxis\":\"y\",\"type\":\"box\"},{\"alignmentgroup\":\"True\",\"hovertemplate\":\"Month=November<br>Time of Day=%{x}<br>Total Donations=%{y}<extra></extra>\",\"legendgroup\":\"November\",\"marker\":{\"color\":\"#FECB52\"},\"name\":\"November\",\"notched\":false,\"offsetgroup\":\"November\",\"orientation\":\"v\",\"showlegend\":true,\"x\":[\"Evening\"],\"x0\":\" \",\"xaxis\":\"x\",\"y\":[307],\"y0\":\" \",\"yaxis\":\"y\",\"type\":\"box\"},{\"alignmentgroup\":\"True\",\"hovertemplate\":\"Month=October<br>Time of Day=%{x}<br>Total Donations=%{y}<extra></extra>\",\"legendgroup\":\"October\",\"marker\":{\"color\":\"#636efa\"},\"name\":\"October\",\"notched\":false,\"offsetgroup\":\"October\",\"orientation\":\"v\",\"showlegend\":true,\"x\":[\"Evening\"],\"x0\":\" \",\"xaxis\":\"x\",\"y\":[260],\"y0\":\" \",\"yaxis\":\"y\",\"type\":\"box\"},{\"alignmentgroup\":\"True\",\"hovertemplate\":\"Month=September<br>Time of Day=%{x}<br>Total Donations=%{y}<extra></extra>\",\"legendgroup\":\"September\",\"marker\":{\"color\":\"#EF553B\"},\"name\":\"September\",\"notched\":false,\"offsetgroup\":\"September\",\"orientation\":\"v\",\"showlegend\":true,\"x\":[\"Evening\"],\"x0\":\" \",\"xaxis\":\"x\",\"y\":[229],\"y0\":\" \",\"yaxis\":\"y\",\"type\":\"box\"}],                        {\"template\":{\"data\":{\"histogram2dcontour\":[{\"type\":\"histogram2dcontour\",\"colorbar\":{\"outlinewidth\":0,\"ticks\":\"\"},\"colorscale\":[[0.0,\"#0d0887\"],[0.1111111111111111,\"#46039f\"],[0.2222222222222222,\"#7201a8\"],[0.3333333333333333,\"#9c179e\"],[0.4444444444444444,\"#bd3786\"],[0.5555555555555556,\"#d8576b\"],[0.6666666666666666,\"#ed7953\"],[0.7777777777777778,\"#fb9f3a\"],[0.8888888888888888,\"#fdca26\"],[1.0,\"#f0f921\"]]}],\"choropleth\":[{\"type\":\"choropleth\",\"colorbar\":{\"outlinewidth\":0,\"ticks\":\"\"}}],\"histogram2d\":[{\"type\":\"histogram2d\",\"colorbar\":{\"outlinewidth\":0,\"ticks\":\"\"},\"colorscale\":[[0.0,\"#0d0887\"],[0.1111111111111111,\"#46039f\"],[0.2222222222222222,\"#7201a8\"],[0.3333333333333333,\"#9c179e\"],[0.4444444444444444,\"#bd3786\"],[0.5555555555555556,\"#d8576b\"],[0.6666666666666666,\"#ed7953\"],[0.7777777777777778,\"#fb9f3a\"],[0.8888888888888888,\"#fdca26\"],[1.0,\"#f0f921\"]]}],\"heatmap\":[{\"type\":\"heatmap\",\"colorbar\":{\"outlinewidth\":0,\"ticks\":\"\"},\"colorscale\":[[0.0,\"#0d0887\"],[0.1111111111111111,\"#46039f\"],[0.2222222222222222,\"#7201a8\"],[0.3333333333333333,\"#9c179e\"],[0.4444444444444444,\"#bd3786\"],[0.5555555555555556,\"#d8576b\"],[0.6666666666666666,\"#ed7953\"],[0.7777777777777778,\"#fb9f3a\"],[0.8888888888888888,\"#fdca26\"],[1.0,\"#f0f921\"]]}],\"heatmapgl\":[{\"type\":\"heatmapgl\",\"colorbar\":{\"outlinewidth\":0,\"ticks\":\"\"},\"colorscale\":[[0.0,\"#0d0887\"],[0.1111111111111111,\"#46039f\"],[0.2222222222222222,\"#7201a8\"],[0.3333333333333333,\"#9c179e\"],[0.4444444444444444,\"#bd3786\"],[0.5555555555555556,\"#d8576b\"],[0.6666666666666666,\"#ed7953\"],[0.7777777777777778,\"#fb9f3a\"],[0.8888888888888888,\"#fdca26\"],[1.0,\"#f0f921\"]]}],\"contourcarpet\":[{\"type\":\"contourcarpet\",\"colorbar\":{\"outlinewidth\":0,\"ticks\":\"\"}}],\"contour\":[{\"type\":\"contour\",\"colorbar\":{\"outlinewidth\":0,\"ticks\":\"\"},\"colorscale\":[[0.0,\"#0d0887\"],[0.1111111111111111,\"#46039f\"],[0.2222222222222222,\"#7201a8\"],[0.3333333333333333,\"#9c179e\"],[0.4444444444444444,\"#bd3786\"],[0.5555555555555556,\"#d8576b\"],[0.6666666666666666,\"#ed7953\"],[0.7777777777777778,\"#fb9f3a\"],[0.8888888888888888,\"#fdca26\"],[1.0,\"#f0f921\"]]}],\"surface\":[{\"type\":\"surface\",\"colorbar\":{\"outlinewidth\":0,\"ticks\":\"\"},\"colorscale\":[[0.0,\"#0d0887\"],[0.1111111111111111,\"#46039f\"],[0.2222222222222222,\"#7201a8\"],[0.3333333333333333,\"#9c179e\"],[0.4444444444444444,\"#bd3786\"],[0.5555555555555556,\"#d8576b\"],[0.6666666666666666,\"#ed7953\"],[0.7777777777777778,\"#fb9f3a\"],[0.8888888888888888,\"#fdca26\"],[1.0,\"#f0f921\"]]}],\"mesh3d\":[{\"type\":\"mesh3d\",\"colorbar\":{\"outlinewidth\":0,\"ticks\":\"\"}}],\"scatter\":[{\"fillpattern\":{\"fillmode\":\"overlay\",\"size\":10,\"solidity\":0.2},\"type\":\"scatter\"}],\"parcoords\":[{\"type\":\"parcoords\",\"line\":{\"colorbar\":{\"outlinewidth\":0,\"ticks\":\"\"}}}],\"scatterpolargl\":[{\"type\":\"scatterpolargl\",\"marker\":{\"colorbar\":{\"outlinewidth\":0,\"ticks\":\"\"}}}],\"bar\":[{\"error_x\":{\"color\":\"#2a3f5f\"},\"error_y\":{\"color\":\"#2a3f5f\"},\"marker\":{\"line\":{\"color\":\"#E5ECF6\",\"width\":0.5},\"pattern\":{\"fillmode\":\"overlay\",\"size\":10,\"solidity\":0.2}},\"type\":\"bar\"}],\"scattergeo\":[{\"type\":\"scattergeo\",\"marker\":{\"colorbar\":{\"outlinewidth\":0,\"ticks\":\"\"}}}],\"scatterpolar\":[{\"type\":\"scatterpolar\",\"marker\":{\"colorbar\":{\"outlinewidth\":0,\"ticks\":\"\"}}}],\"histogram\":[{\"marker\":{\"pattern\":{\"fillmode\":\"overlay\",\"size\":10,\"solidity\":0.2}},\"type\":\"histogram\"}],\"scattergl\":[{\"type\":\"scattergl\",\"marker\":{\"colorbar\":{\"outlinewidth\":0,\"ticks\":\"\"}}}],\"scatter3d\":[{\"type\":\"scatter3d\",\"line\":{\"colorbar\":{\"outlinewidth\":0,\"ticks\":\"\"}},\"marker\":{\"colorbar\":{\"outlinewidth\":0,\"ticks\":\"\"}}}],\"scattermapbox\":[{\"type\":\"scattermapbox\",\"marker\":{\"colorbar\":{\"outlinewidth\":0,\"ticks\":\"\"}}}],\"scatterternary\":[{\"type\":\"scatterternary\",\"marker\":{\"colorbar\":{\"outlinewidth\":0,\"ticks\":\"\"}}}],\"scattercarpet\":[{\"type\":\"scattercarpet\",\"marker\":{\"colorbar\":{\"outlinewidth\":0,\"ticks\":\"\"}}}],\"carpet\":[{\"aaxis\":{\"endlinecolor\":\"#2a3f5f\",\"gridcolor\":\"white\",\"linecolor\":\"white\",\"minorgridcolor\":\"white\",\"startlinecolor\":\"#2a3f5f\"},\"baxis\":{\"endlinecolor\":\"#2a3f5f\",\"gridcolor\":\"white\",\"linecolor\":\"white\",\"minorgridcolor\":\"white\",\"startlinecolor\":\"#2a3f5f\"},\"type\":\"carpet\"}],\"table\":[{\"cells\":{\"fill\":{\"color\":\"#EBF0F8\"},\"line\":{\"color\":\"white\"}},\"header\":{\"fill\":{\"color\":\"#C8D4E3\"},\"line\":{\"color\":\"white\"}},\"type\":\"table\"}],\"barpolar\":[{\"marker\":{\"line\":{\"color\":\"#E5ECF6\",\"width\":0.5},\"pattern\":{\"fillmode\":\"overlay\",\"size\":10,\"solidity\":0.2}},\"type\":\"barpolar\"}],\"pie\":[{\"automargin\":true,\"type\":\"pie\"}]},\"layout\":{\"autotypenumbers\":\"strict\",\"colorway\":[\"#636efa\",\"#EF553B\",\"#00cc96\",\"#ab63fa\",\"#FFA15A\",\"#19d3f3\",\"#FF6692\",\"#B6E880\",\"#FF97FF\",\"#FECB52\"],\"font\":{\"color\":\"#2a3f5f\"},\"hovermode\":\"closest\",\"hoverlabel\":{\"align\":\"left\"},\"paper_bgcolor\":\"white\",\"plot_bgcolor\":\"#E5ECF6\",\"polar\":{\"bgcolor\":\"#E5ECF6\",\"angularaxis\":{\"gridcolor\":\"white\",\"linecolor\":\"white\",\"ticks\":\"\"},\"radialaxis\":{\"gridcolor\":\"white\",\"linecolor\":\"white\",\"ticks\":\"\"}},\"ternary\":{\"bgcolor\":\"#E5ECF6\",\"aaxis\":{\"gridcolor\":\"white\",\"linecolor\":\"white\",\"ticks\":\"\"},\"baxis\":{\"gridcolor\":\"white\",\"linecolor\":\"white\",\"ticks\":\"\"},\"caxis\":{\"gridcolor\":\"white\",\"linecolor\":\"white\",\"ticks\":\"\"}},\"coloraxis\":{\"colorbar\":{\"outlinewidth\":0,\"ticks\":\"\"}},\"colorscale\":{\"sequential\":[[0.0,\"#0d0887\"],[0.1111111111111111,\"#46039f\"],[0.2222222222222222,\"#7201a8\"],[0.3333333333333333,\"#9c179e\"],[0.4444444444444444,\"#bd3786\"],[0.5555555555555556,\"#d8576b\"],[0.6666666666666666,\"#ed7953\"],[0.7777777777777778,\"#fb9f3a\"],[0.8888888888888888,\"#fdca26\"],[1.0,\"#f0f921\"]],\"sequentialminus\":[[0.0,\"#0d0887\"],[0.1111111111111111,\"#46039f\"],[0.2222222222222222,\"#7201a8\"],[0.3333333333333333,\"#9c179e\"],[0.4444444444444444,\"#bd3786\"],[0.5555555555555556,\"#d8576b\"],[0.6666666666666666,\"#ed7953\"],[0.7777777777777778,\"#fb9f3a\"],[0.8888888888888888,\"#fdca26\"],[1.0,\"#f0f921\"]],\"diverging\":[[0,\"#8e0152\"],[0.1,\"#c51b7d\"],[0.2,\"#de77ae\"],[0.3,\"#f1b6da\"],[0.4,\"#fde0ef\"],[0.5,\"#f7f7f7\"],[0.6,\"#e6f5d0\"],[0.7,\"#b8e186\"],[0.8,\"#7fbc41\"],[0.9,\"#4d9221\"],[1,\"#276419\"]]},\"xaxis\":{\"gridcolor\":\"white\",\"linecolor\":\"white\",\"ticks\":\"\",\"title\":{\"standoff\":15},\"zerolinecolor\":\"white\",\"automargin\":true,\"zerolinewidth\":2},\"yaxis\":{\"gridcolor\":\"white\",\"linecolor\":\"white\",\"ticks\":\"\",\"title\":{\"standoff\":15},\"zerolinecolor\":\"white\",\"automargin\":true,\"zerolinewidth\":2},\"scene\":{\"xaxis\":{\"backgroundcolor\":\"#E5ECF6\",\"gridcolor\":\"white\",\"linecolor\":\"white\",\"showbackground\":true,\"ticks\":\"\",\"zerolinecolor\":\"white\",\"gridwidth\":2},\"yaxis\":{\"backgroundcolor\":\"#E5ECF6\",\"gridcolor\":\"white\",\"linecolor\":\"white\",\"showbackground\":true,\"ticks\":\"\",\"zerolinecolor\":\"white\",\"gridwidth\":2},\"zaxis\":{\"backgroundcolor\":\"#E5ECF6\",\"gridcolor\":\"white\",\"linecolor\":\"white\",\"showbackground\":true,\"ticks\":\"\",\"zerolinecolor\":\"white\",\"gridwidth\":2}},\"shapedefaults\":{\"line\":{\"color\":\"#2a3f5f\"}},\"annotationdefaults\":{\"arrowcolor\":\"#2a3f5f\",\"arrowhead\":0,\"arrowwidth\":1},\"geo\":{\"bgcolor\":\"white\",\"landcolor\":\"#E5ECF6\",\"subunitcolor\":\"white\",\"showland\":true,\"showlakes\":true,\"lakecolor\":\"white\"},\"title\":{\"x\":0.05},\"mapbox\":{\"style\":\"light\"}}},\"xaxis\":{\"anchor\":\"y\",\"domain\":[0.0,1.0],\"title\":{\"text\":\"Time of Day\"}},\"yaxis\":{\"anchor\":\"x\",\"domain\":[0.0,1.0],\"title\":{\"text\":\"Total Donations\"},\"gridcolor\":\"lightgrey\"},\"legend\":{\"title\":{\"text\":\"Month\"},\"tracegroupgap\":0},\"title\":{\"text\":\"Donations Distribution per Time of Day, Segmented by Month\"},\"boxmode\":\"group\",\"width\":800,\"height\":500},                        {\"responsive\": true}                    ).then(function(){\n",
       "                            \n",
       "var gd = document.getElementById('c0c1dd95-2979-4bb8-a705-fa80ecab11de');\n",
       "var x = new MutationObserver(function (mutations, observer) {{\n",
       "        var display = window.getComputedStyle(gd).display;\n",
       "        if (!display || display === 'none') {{\n",
       "            console.log([gd, 'removed!']);\n",
       "            Plotly.purge(gd);\n",
       "            observer.disconnect();\n",
       "        }}\n",
       "}});\n",
       "\n",
       "// Listen for the removal of the full notebook cells\n",
       "var notebookContainer = gd.closest('#notebook-container');\n",
       "if (notebookContainer) {{\n",
       "    x.observe(notebookContainer, {childList: true});\n",
       "}}\n",
       "\n",
       "// Listen for the clearing of the current output cell\n",
       "var outputEl = gd.closest('.output');\n",
       "if (outputEl) {{\n",
       "    x.observe(outputEl, {childList: true});\n",
       "}}\n",
       "\n",
       "                        })                };                });            </script>        </div>"
      ]
     },
     "metadata": {},
     "output_type": "display_data"
    },
    {
     "data": {
      "application/vnd.plotly.v1+json": {
       "config": {
        "plotlyServerURL": "https://plot.ly"
       },
       "data": [
        {
         "alignmentgroup": "True",
         "hovertemplate": "Month=April<br>Time of Day=%{x}<br>Total Donations=%{y}<extra></extra>",
         "legendgroup": "April",
         "marker": {
          "color": "#636efa",
          "pattern": {
           "shape": ""
          }
         },
         "name": "April",
         "offsetgroup": "April",
         "orientation": "v",
         "showlegend": true,
         "textposition": "auto",
         "type": "bar",
         "x": [
          "Evening"
         ],
         "xaxis": "x",
         "y": [
          271
         ],
         "yaxis": "y"
        },
        {
         "alignmentgroup": "True",
         "hovertemplate": "Month=August<br>Time of Day=%{x}<br>Total Donations=%{y}<extra></extra>",
         "legendgroup": "August",
         "marker": {
          "color": "#EF553B",
          "pattern": {
           "shape": ""
          }
         },
         "name": "August",
         "offsetgroup": "August",
         "orientation": "v",
         "showlegend": true,
         "textposition": "auto",
         "type": "bar",
         "x": [
          "Evening"
         ],
         "xaxis": "x",
         "y": [
          216
         ],
         "yaxis": "y"
        },
        {
         "alignmentgroup": "True",
         "hovertemplate": "Month=December<br>Time of Day=%{x}<br>Total Donations=%{y}<extra></extra>",
         "legendgroup": "December",
         "marker": {
          "color": "#00cc96",
          "pattern": {
           "shape": ""
          }
         },
         "name": "December",
         "offsetgroup": "December",
         "orientation": "v",
         "showlegend": true,
         "textposition": "auto",
         "type": "bar",
         "x": [
          "Evening"
         ],
         "xaxis": "x",
         "y": [
          288
         ],
         "yaxis": "y"
        },
        {
         "alignmentgroup": "True",
         "hovertemplate": "Month=February<br>Time of Day=%{x}<br>Total Donations=%{y}<extra></extra>",
         "legendgroup": "February",
         "marker": {
          "color": "#ab63fa",
          "pattern": {
           "shape": ""
          }
         },
         "name": "February",
         "offsetgroup": "February",
         "orientation": "v",
         "showlegend": true,
         "textposition": "auto",
         "type": "bar",
         "x": [
          "Evening"
         ],
         "xaxis": "x",
         "y": [
          244
         ],
         "yaxis": "y"
        },
        {
         "alignmentgroup": "True",
         "hovertemplate": "Month=January<br>Time of Day=%{x}<br>Total Donations=%{y}<extra></extra>",
         "legendgroup": "January",
         "marker": {
          "color": "#FFA15A",
          "pattern": {
           "shape": ""
          }
         },
         "name": "January",
         "offsetgroup": "January",
         "orientation": "v",
         "showlegend": true,
         "textposition": "auto",
         "type": "bar",
         "x": [
          "Evening"
         ],
         "xaxis": "x",
         "y": [
          177
         ],
         "yaxis": "y"
        },
        {
         "alignmentgroup": "True",
         "hovertemplate": "Month=July<br>Time of Day=%{x}<br>Total Donations=%{y}<extra></extra>",
         "legendgroup": "July",
         "marker": {
          "color": "#19d3f3",
          "pattern": {
           "shape": ""
          }
         },
         "name": "July",
         "offsetgroup": "July",
         "orientation": "v",
         "showlegend": true,
         "textposition": "auto",
         "type": "bar",
         "x": [
          "Evening"
         ],
         "xaxis": "x",
         "y": [
          260
         ],
         "yaxis": "y"
        },
        {
         "alignmentgroup": "True",
         "hovertemplate": "Month=June<br>Time of Day=%{x}<br>Total Donations=%{y}<extra></extra>",
         "legendgroup": "June",
         "marker": {
          "color": "#FF6692",
          "pattern": {
           "shape": ""
          }
         },
         "name": "June",
         "offsetgroup": "June",
         "orientation": "v",
         "showlegend": true,
         "textposition": "auto",
         "type": "bar",
         "x": [
          "Evening"
         ],
         "xaxis": "x",
         "y": [
          260
         ],
         "yaxis": "y"
        },
        {
         "alignmentgroup": "True",
         "hovertemplate": "Month=March<br>Time of Day=%{x}<br>Total Donations=%{y}<extra></extra>",
         "legendgroup": "March",
         "marker": {
          "color": "#B6E880",
          "pattern": {
           "shape": ""
          }
         },
         "name": "March",
         "offsetgroup": "March",
         "orientation": "v",
         "showlegend": true,
         "textposition": "auto",
         "type": "bar",
         "x": [
          "Evening"
         ],
         "xaxis": "x",
         "y": [
          185
         ],
         "yaxis": "y"
        },
        {
         "alignmentgroup": "True",
         "hovertemplate": "Month=May<br>Time of Day=%{x}<br>Total Donations=%{y}<extra></extra>",
         "legendgroup": "May",
         "marker": {
          "color": "#FF97FF",
          "pattern": {
           "shape": ""
          }
         },
         "name": "May",
         "offsetgroup": "May",
         "orientation": "v",
         "showlegend": true,
         "textposition": "auto",
         "type": "bar",
         "x": [
          "Evening"
         ],
         "xaxis": "x",
         "y": [
          365
         ],
         "yaxis": "y"
        },
        {
         "alignmentgroup": "True",
         "hovertemplate": "Month=November<br>Time of Day=%{x}<br>Total Donations=%{y}<extra></extra>",
         "legendgroup": "November",
         "marker": {
          "color": "#FECB52",
          "pattern": {
           "shape": ""
          }
         },
         "name": "November",
         "offsetgroup": "November",
         "orientation": "v",
         "showlegend": true,
         "textposition": "auto",
         "type": "bar",
         "x": [
          "Evening"
         ],
         "xaxis": "x",
         "y": [
          307
         ],
         "yaxis": "y"
        },
        {
         "alignmentgroup": "True",
         "hovertemplate": "Month=October<br>Time of Day=%{x}<br>Total Donations=%{y}<extra></extra>",
         "legendgroup": "October",
         "marker": {
          "color": "#636efa",
          "pattern": {
           "shape": ""
          }
         },
         "name": "October",
         "offsetgroup": "October",
         "orientation": "v",
         "showlegend": true,
         "textposition": "auto",
         "type": "bar",
         "x": [
          "Evening"
         ],
         "xaxis": "x",
         "y": [
          260
         ],
         "yaxis": "y"
        },
        {
         "alignmentgroup": "True",
         "hovertemplate": "Month=September<br>Time of Day=%{x}<br>Total Donations=%{y}<extra></extra>",
         "legendgroup": "September",
         "marker": {
          "color": "#EF553B",
          "pattern": {
           "shape": ""
          }
         },
         "name": "September",
         "offsetgroup": "September",
         "orientation": "v",
         "showlegend": true,
         "textposition": "auto",
         "type": "bar",
         "x": [
          "Evening"
         ],
         "xaxis": "x",
         "y": [
          229
         ],
         "yaxis": "y"
        }
       ],
       "layout": {
        "barmode": "relative",
        "height": 500,
        "legend": {
         "title": {
          "text": "Month"
         },
         "tracegroupgap": 0
        },
        "template": {
         "data": {
          "bar": [
           {
            "error_x": {
             "color": "#2a3f5f"
            },
            "error_y": {
             "color": "#2a3f5f"
            },
            "marker": {
             "line": {
              "color": "#E5ECF6",
              "width": 0.5
             },
             "pattern": {
              "fillmode": "overlay",
              "size": 10,
              "solidity": 0.2
             }
            },
            "type": "bar"
           }
          ],
          "barpolar": [
           {
            "marker": {
             "line": {
              "color": "#E5ECF6",
              "width": 0.5
             },
             "pattern": {
              "fillmode": "overlay",
              "size": 10,
              "solidity": 0.2
             }
            },
            "type": "barpolar"
           }
          ],
          "carpet": [
           {
            "aaxis": {
             "endlinecolor": "#2a3f5f",
             "gridcolor": "white",
             "linecolor": "white",
             "minorgridcolor": "white",
             "startlinecolor": "#2a3f5f"
            },
            "baxis": {
             "endlinecolor": "#2a3f5f",
             "gridcolor": "white",
             "linecolor": "white",
             "minorgridcolor": "white",
             "startlinecolor": "#2a3f5f"
            },
            "type": "carpet"
           }
          ],
          "choropleth": [
           {
            "colorbar": {
             "outlinewidth": 0,
             "ticks": ""
            },
            "type": "choropleth"
           }
          ],
          "contour": [
           {
            "colorbar": {
             "outlinewidth": 0,
             "ticks": ""
            },
            "colorscale": [
             [
              0,
              "#0d0887"
             ],
             [
              0.1111111111111111,
              "#46039f"
             ],
             [
              0.2222222222222222,
              "#7201a8"
             ],
             [
              0.3333333333333333,
              "#9c179e"
             ],
             [
              0.4444444444444444,
              "#bd3786"
             ],
             [
              0.5555555555555556,
              "#d8576b"
             ],
             [
              0.6666666666666666,
              "#ed7953"
             ],
             [
              0.7777777777777778,
              "#fb9f3a"
             ],
             [
              0.8888888888888888,
              "#fdca26"
             ],
             [
              1,
              "#f0f921"
             ]
            ],
            "type": "contour"
           }
          ],
          "contourcarpet": [
           {
            "colorbar": {
             "outlinewidth": 0,
             "ticks": ""
            },
            "type": "contourcarpet"
           }
          ],
          "heatmap": [
           {
            "colorbar": {
             "outlinewidth": 0,
             "ticks": ""
            },
            "colorscale": [
             [
              0,
              "#0d0887"
             ],
             [
              0.1111111111111111,
              "#46039f"
             ],
             [
              0.2222222222222222,
              "#7201a8"
             ],
             [
              0.3333333333333333,
              "#9c179e"
             ],
             [
              0.4444444444444444,
              "#bd3786"
             ],
             [
              0.5555555555555556,
              "#d8576b"
             ],
             [
              0.6666666666666666,
              "#ed7953"
             ],
             [
              0.7777777777777778,
              "#fb9f3a"
             ],
             [
              0.8888888888888888,
              "#fdca26"
             ],
             [
              1,
              "#f0f921"
             ]
            ],
            "type": "heatmap"
           }
          ],
          "heatmapgl": [
           {
            "colorbar": {
             "outlinewidth": 0,
             "ticks": ""
            },
            "colorscale": [
             [
              0,
              "#0d0887"
             ],
             [
              0.1111111111111111,
              "#46039f"
             ],
             [
              0.2222222222222222,
              "#7201a8"
             ],
             [
              0.3333333333333333,
              "#9c179e"
             ],
             [
              0.4444444444444444,
              "#bd3786"
             ],
             [
              0.5555555555555556,
              "#d8576b"
             ],
             [
              0.6666666666666666,
              "#ed7953"
             ],
             [
              0.7777777777777778,
              "#fb9f3a"
             ],
             [
              0.8888888888888888,
              "#fdca26"
             ],
             [
              1,
              "#f0f921"
             ]
            ],
            "type": "heatmapgl"
           }
          ],
          "histogram": [
           {
            "marker": {
             "pattern": {
              "fillmode": "overlay",
              "size": 10,
              "solidity": 0.2
             }
            },
            "type": "histogram"
           }
          ],
          "histogram2d": [
           {
            "colorbar": {
             "outlinewidth": 0,
             "ticks": ""
            },
            "colorscale": [
             [
              0,
              "#0d0887"
             ],
             [
              0.1111111111111111,
              "#46039f"
             ],
             [
              0.2222222222222222,
              "#7201a8"
             ],
             [
              0.3333333333333333,
              "#9c179e"
             ],
             [
              0.4444444444444444,
              "#bd3786"
             ],
             [
              0.5555555555555556,
              "#d8576b"
             ],
             [
              0.6666666666666666,
              "#ed7953"
             ],
             [
              0.7777777777777778,
              "#fb9f3a"
             ],
             [
              0.8888888888888888,
              "#fdca26"
             ],
             [
              1,
              "#f0f921"
             ]
            ],
            "type": "histogram2d"
           }
          ],
          "histogram2dcontour": [
           {
            "colorbar": {
             "outlinewidth": 0,
             "ticks": ""
            },
            "colorscale": [
             [
              0,
              "#0d0887"
             ],
             [
              0.1111111111111111,
              "#46039f"
             ],
             [
              0.2222222222222222,
              "#7201a8"
             ],
             [
              0.3333333333333333,
              "#9c179e"
             ],
             [
              0.4444444444444444,
              "#bd3786"
             ],
             [
              0.5555555555555556,
              "#d8576b"
             ],
             [
              0.6666666666666666,
              "#ed7953"
             ],
             [
              0.7777777777777778,
              "#fb9f3a"
             ],
             [
              0.8888888888888888,
              "#fdca26"
             ],
             [
              1,
              "#f0f921"
             ]
            ],
            "type": "histogram2dcontour"
           }
          ],
          "mesh3d": [
           {
            "colorbar": {
             "outlinewidth": 0,
             "ticks": ""
            },
            "type": "mesh3d"
           }
          ],
          "parcoords": [
           {
            "line": {
             "colorbar": {
              "outlinewidth": 0,
              "ticks": ""
             }
            },
            "type": "parcoords"
           }
          ],
          "pie": [
           {
            "automargin": true,
            "type": "pie"
           }
          ],
          "scatter": [
           {
            "fillpattern": {
             "fillmode": "overlay",
             "size": 10,
             "solidity": 0.2
            },
            "type": "scatter"
           }
          ],
          "scatter3d": [
           {
            "line": {
             "colorbar": {
              "outlinewidth": 0,
              "ticks": ""
             }
            },
            "marker": {
             "colorbar": {
              "outlinewidth": 0,
              "ticks": ""
             }
            },
            "type": "scatter3d"
           }
          ],
          "scattercarpet": [
           {
            "marker": {
             "colorbar": {
              "outlinewidth": 0,
              "ticks": ""
             }
            },
            "type": "scattercarpet"
           }
          ],
          "scattergeo": [
           {
            "marker": {
             "colorbar": {
              "outlinewidth": 0,
              "ticks": ""
             }
            },
            "type": "scattergeo"
           }
          ],
          "scattergl": [
           {
            "marker": {
             "colorbar": {
              "outlinewidth": 0,
              "ticks": ""
             }
            },
            "type": "scattergl"
           }
          ],
          "scattermapbox": [
           {
            "marker": {
             "colorbar": {
              "outlinewidth": 0,
              "ticks": ""
             }
            },
            "type": "scattermapbox"
           }
          ],
          "scatterpolar": [
           {
            "marker": {
             "colorbar": {
              "outlinewidth": 0,
              "ticks": ""
             }
            },
            "type": "scatterpolar"
           }
          ],
          "scatterpolargl": [
           {
            "marker": {
             "colorbar": {
              "outlinewidth": 0,
              "ticks": ""
             }
            },
            "type": "scatterpolargl"
           }
          ],
          "scatterternary": [
           {
            "marker": {
             "colorbar": {
              "outlinewidth": 0,
              "ticks": ""
             }
            },
            "type": "scatterternary"
           }
          ],
          "surface": [
           {
            "colorbar": {
             "outlinewidth": 0,
             "ticks": ""
            },
            "colorscale": [
             [
              0,
              "#0d0887"
             ],
             [
              0.1111111111111111,
              "#46039f"
             ],
             [
              0.2222222222222222,
              "#7201a8"
             ],
             [
              0.3333333333333333,
              "#9c179e"
             ],
             [
              0.4444444444444444,
              "#bd3786"
             ],
             [
              0.5555555555555556,
              "#d8576b"
             ],
             [
              0.6666666666666666,
              "#ed7953"
             ],
             [
              0.7777777777777778,
              "#fb9f3a"
             ],
             [
              0.8888888888888888,
              "#fdca26"
             ],
             [
              1,
              "#f0f921"
             ]
            ],
            "type": "surface"
           }
          ],
          "table": [
           {
            "cells": {
             "fill": {
              "color": "#EBF0F8"
             },
             "line": {
              "color": "white"
             }
            },
            "header": {
             "fill": {
              "color": "#C8D4E3"
             },
             "line": {
              "color": "white"
             }
            },
            "type": "table"
           }
          ]
         },
         "layout": {
          "annotationdefaults": {
           "arrowcolor": "#2a3f5f",
           "arrowhead": 0,
           "arrowwidth": 1
          },
          "autotypenumbers": "strict",
          "coloraxis": {
           "colorbar": {
            "outlinewidth": 0,
            "ticks": ""
           }
          },
          "colorscale": {
           "diverging": [
            [
             0,
             "#8e0152"
            ],
            [
             0.1,
             "#c51b7d"
            ],
            [
             0.2,
             "#de77ae"
            ],
            [
             0.3,
             "#f1b6da"
            ],
            [
             0.4,
             "#fde0ef"
            ],
            [
             0.5,
             "#f7f7f7"
            ],
            [
             0.6,
             "#e6f5d0"
            ],
            [
             0.7,
             "#b8e186"
            ],
            [
             0.8,
             "#7fbc41"
            ],
            [
             0.9,
             "#4d9221"
            ],
            [
             1,
             "#276419"
            ]
           ],
           "sequential": [
            [
             0,
             "#0d0887"
            ],
            [
             0.1111111111111111,
             "#46039f"
            ],
            [
             0.2222222222222222,
             "#7201a8"
            ],
            [
             0.3333333333333333,
             "#9c179e"
            ],
            [
             0.4444444444444444,
             "#bd3786"
            ],
            [
             0.5555555555555556,
             "#d8576b"
            ],
            [
             0.6666666666666666,
             "#ed7953"
            ],
            [
             0.7777777777777778,
             "#fb9f3a"
            ],
            [
             0.8888888888888888,
             "#fdca26"
            ],
            [
             1,
             "#f0f921"
            ]
           ],
           "sequentialminus": [
            [
             0,
             "#0d0887"
            ],
            [
             0.1111111111111111,
             "#46039f"
            ],
            [
             0.2222222222222222,
             "#7201a8"
            ],
            [
             0.3333333333333333,
             "#9c179e"
            ],
            [
             0.4444444444444444,
             "#bd3786"
            ],
            [
             0.5555555555555556,
             "#d8576b"
            ],
            [
             0.6666666666666666,
             "#ed7953"
            ],
            [
             0.7777777777777778,
             "#fb9f3a"
            ],
            [
             0.8888888888888888,
             "#fdca26"
            ],
            [
             1,
             "#f0f921"
            ]
           ]
          },
          "colorway": [
           "#636efa",
           "#EF553B",
           "#00cc96",
           "#ab63fa",
           "#FFA15A",
           "#19d3f3",
           "#FF6692",
           "#B6E880",
           "#FF97FF",
           "#FECB52"
          ],
          "font": {
           "color": "#2a3f5f"
          },
          "geo": {
           "bgcolor": "white",
           "lakecolor": "white",
           "landcolor": "#E5ECF6",
           "showlakes": true,
           "showland": true,
           "subunitcolor": "white"
          },
          "hoverlabel": {
           "align": "left"
          },
          "hovermode": "closest",
          "mapbox": {
           "style": "light"
          },
          "paper_bgcolor": "white",
          "plot_bgcolor": "#E5ECF6",
          "polar": {
           "angularaxis": {
            "gridcolor": "white",
            "linecolor": "white",
            "ticks": ""
           },
           "bgcolor": "#E5ECF6",
           "radialaxis": {
            "gridcolor": "white",
            "linecolor": "white",
            "ticks": ""
           }
          },
          "scene": {
           "xaxis": {
            "backgroundcolor": "#E5ECF6",
            "gridcolor": "white",
            "gridwidth": 2,
            "linecolor": "white",
            "showbackground": true,
            "ticks": "",
            "zerolinecolor": "white"
           },
           "yaxis": {
            "backgroundcolor": "#E5ECF6",
            "gridcolor": "white",
            "gridwidth": 2,
            "linecolor": "white",
            "showbackground": true,
            "ticks": "",
            "zerolinecolor": "white"
           },
           "zaxis": {
            "backgroundcolor": "#E5ECF6",
            "gridcolor": "white",
            "gridwidth": 2,
            "linecolor": "white",
            "showbackground": true,
            "ticks": "",
            "zerolinecolor": "white"
           }
          },
          "shapedefaults": {
           "line": {
            "color": "#2a3f5f"
           }
          },
          "ternary": {
           "aaxis": {
            "gridcolor": "white",
            "linecolor": "white",
            "ticks": ""
           },
           "baxis": {
            "gridcolor": "white",
            "linecolor": "white",
            "ticks": ""
           },
           "bgcolor": "#E5ECF6",
           "caxis": {
            "gridcolor": "white",
            "linecolor": "white",
            "ticks": ""
           }
          },
          "title": {
           "x": 0.05
          },
          "xaxis": {
           "automargin": true,
           "gridcolor": "white",
           "linecolor": "white",
           "ticks": "",
           "title": {
            "standoff": 15
           },
           "zerolinecolor": "white",
           "zerolinewidth": 2
          },
          "yaxis": {
           "automargin": true,
           "gridcolor": "white",
           "linecolor": "white",
           "ticks": "",
           "title": {
            "standoff": 15
           },
           "zerolinecolor": "white",
           "zerolinewidth": 2
          }
         }
        },
        "title": {
         "text": "Total Donations per Time of Day, segmented by Month"
        },
        "width": 800,
        "xaxis": {
         "anchor": "y",
         "autorange": true,
         "domain": [
          0,
          1
         ],
         "range": [
          -0.5,
          0.5
         ],
         "title": {
          "text": "Time of Day"
         },
         "type": "category"
        },
        "yaxis": {
         "anchor": "x",
         "autorange": true,
         "domain": [
          0,
          1
         ],
         "gridcolor": "lightgrey",
         "range": [
          0,
          3223.157894736842
         ],
         "title": {
          "text": "Total Donations"
         },
         "type": "linear"
        }
       }
      },
      "image/png": "[encoded data removed]",
      "text/html": [
       "<div>                            <div id=\"9d8ed594-8d65-4776-aea5-dea3d4182850\" class=\"plotly-graph-div\" style=\"height:500px; width:800px;\"></div>            <script type=\"text/javascript\">                require([\"plotly\"], function(Plotly) {                    window.PLOTLYENV=window.PLOTLYENV || {};                                    if (document.getElementById(\"9d8ed594-8d65-4776-aea5-dea3d4182850\")) {                    Plotly.newPlot(                        \"9d8ed594-8d65-4776-aea5-dea3d4182850\",                        [{\"alignmentgroup\":\"True\",\"hovertemplate\":\"Month=April<br>Time of Day=%{x}<br>Total Donations=%{y}<extra></extra>\",\"legendgroup\":\"April\",\"marker\":{\"color\":\"#636efa\",\"pattern\":{\"shape\":\"\"}},\"name\":\"April\",\"offsetgroup\":\"April\",\"orientation\":\"v\",\"showlegend\":true,\"textposition\":\"auto\",\"x\":[\"Evening\"],\"xaxis\":\"x\",\"y\":[271],\"yaxis\":\"y\",\"type\":\"bar\"},{\"alignmentgroup\":\"True\",\"hovertemplate\":\"Month=August<br>Time of Day=%{x}<br>Total Donations=%{y}<extra></extra>\",\"legendgroup\":\"August\",\"marker\":{\"color\":\"#EF553B\",\"pattern\":{\"shape\":\"\"}},\"name\":\"August\",\"offsetgroup\":\"August\",\"orientation\":\"v\",\"showlegend\":true,\"textposition\":\"auto\",\"x\":[\"Evening\"],\"xaxis\":\"x\",\"y\":[216],\"yaxis\":\"y\",\"type\":\"bar\"},{\"alignmentgroup\":\"True\",\"hovertemplate\":\"Month=December<br>Time of Day=%{x}<br>Total Donations=%{y}<extra></extra>\",\"legendgroup\":\"December\",\"marker\":{\"color\":\"#00cc96\",\"pattern\":{\"shape\":\"\"}},\"name\":\"December\",\"offsetgroup\":\"December\",\"orientation\":\"v\",\"showlegend\":true,\"textposition\":\"auto\",\"x\":[\"Evening\"],\"xaxis\":\"x\",\"y\":[288],\"yaxis\":\"y\",\"type\":\"bar\"},{\"alignmentgroup\":\"True\",\"hovertemplate\":\"Month=February<br>Time of Day=%{x}<br>Total Donations=%{y}<extra></extra>\",\"legendgroup\":\"February\",\"marker\":{\"color\":\"#ab63fa\",\"pattern\":{\"shape\":\"\"}},\"name\":\"February\",\"offsetgroup\":\"February\",\"orientation\":\"v\",\"showlegend\":true,\"textposition\":\"auto\",\"x\":[\"Evening\"],\"xaxis\":\"x\",\"y\":[244],\"yaxis\":\"y\",\"type\":\"bar\"},{\"alignmentgroup\":\"True\",\"hovertemplate\":\"Month=January<br>Time of Day=%{x}<br>Total Donations=%{y}<extra></extra>\",\"legendgroup\":\"January\",\"marker\":{\"color\":\"#FFA15A\",\"pattern\":{\"shape\":\"\"}},\"name\":\"January\",\"offsetgroup\":\"January\",\"orientation\":\"v\",\"showlegend\":true,\"textposition\":\"auto\",\"x\":[\"Evening\"],\"xaxis\":\"x\",\"y\":[177],\"yaxis\":\"y\",\"type\":\"bar\"},{\"alignmentgroup\":\"True\",\"hovertemplate\":\"Month=July<br>Time of Day=%{x}<br>Total Donations=%{y}<extra></extra>\",\"legendgroup\":\"July\",\"marker\":{\"color\":\"#19d3f3\",\"pattern\":{\"shape\":\"\"}},\"name\":\"July\",\"offsetgroup\":\"July\",\"orientation\":\"v\",\"showlegend\":true,\"textposition\":\"auto\",\"x\":[\"Evening\"],\"xaxis\":\"x\",\"y\":[260],\"yaxis\":\"y\",\"type\":\"bar\"},{\"alignmentgroup\":\"True\",\"hovertemplate\":\"Month=June<br>Time of Day=%{x}<br>Total Donations=%{y}<extra></extra>\",\"legendgroup\":\"June\",\"marker\":{\"color\":\"#FF6692\",\"pattern\":{\"shape\":\"\"}},\"name\":\"June\",\"offsetgroup\":\"June\",\"orientation\":\"v\",\"showlegend\":true,\"textposition\":\"auto\",\"x\":[\"Evening\"],\"xaxis\":\"x\",\"y\":[260],\"yaxis\":\"y\",\"type\":\"bar\"},{\"alignmentgroup\":\"True\",\"hovertemplate\":\"Month=March<br>Time of Day=%{x}<br>Total Donations=%{y}<extra></extra>\",\"legendgroup\":\"March\",\"marker\":{\"color\":\"#B6E880\",\"pattern\":{\"shape\":\"\"}},\"name\":\"March\",\"offsetgroup\":\"March\",\"orientation\":\"v\",\"showlegend\":true,\"textposition\":\"auto\",\"x\":[\"Evening\"],\"xaxis\":\"x\",\"y\":[185],\"yaxis\":\"y\",\"type\":\"bar\"},{\"alignmentgroup\":\"True\",\"hovertemplate\":\"Month=May<br>Time of Day=%{x}<br>Total Donations=%{y}<extra></extra>\",\"legendgroup\":\"May\",\"marker\":{\"color\":\"#FF97FF\",\"pattern\":{\"shape\":\"\"}},\"name\":\"May\",\"offsetgroup\":\"May\",\"orientation\":\"v\",\"showlegend\":true,\"textposition\":\"auto\",\"x\":[\"Evening\"],\"xaxis\":\"x\",\"y\":[365],\"yaxis\":\"y\",\"type\":\"bar\"},{\"alignmentgroup\":\"True\",\"hovertemplate\":\"Month=November<br>Time of Day=%{x}<br>Total Donations=%{y}<extra></extra>\",\"legendgroup\":\"November\",\"marker\":{\"color\":\"#FECB52\",\"pattern\":{\"shape\":\"\"}},\"name\":\"November\",\"offsetgroup\":\"November\",\"orientation\":\"v\",\"showlegend\":true,\"textposition\":\"auto\",\"x\":[\"Evening\"],\"xaxis\":\"x\",\"y\":[307],\"yaxis\":\"y\",\"type\":\"bar\"},{\"alignmentgroup\":\"True\",\"hovertemplate\":\"Month=October<br>Time of Day=%{x}<br>Total Donations=%{y}<extra></extra>\",\"legendgroup\":\"October\",\"marker\":{\"color\":\"#636efa\",\"pattern\":{\"shape\":\"\"}},\"name\":\"October\",\"offsetgroup\":\"October\",\"orientation\":\"v\",\"showlegend\":true,\"textposition\":\"auto\",\"x\":[\"Evening\"],\"xaxis\":\"x\",\"y\":[260],\"yaxis\":\"y\",\"type\":\"bar\"},{\"alignmentgroup\":\"True\",\"hovertemplate\":\"Month=September<br>Time of Day=%{x}<br>Total Donations=%{y}<extra></extra>\",\"legendgroup\":\"September\",\"marker\":{\"color\":\"#EF553B\",\"pattern\":{\"shape\":\"\"}},\"name\":\"September\",\"offsetgroup\":\"September\",\"orientation\":\"v\",\"showlegend\":true,\"textposition\":\"auto\",\"x\":[\"Evening\"],\"xaxis\":\"x\",\"y\":[229],\"yaxis\":\"y\",\"type\":\"bar\"}],                        {\"template\":{\"data\":{\"histogram2dcontour\":[{\"type\":\"histogram2dcontour\",\"colorbar\":{\"outlinewidth\":0,\"ticks\":\"\"},\"colorscale\":[[0.0,\"#0d0887\"],[0.1111111111111111,\"#46039f\"],[0.2222222222222222,\"#7201a8\"],[0.3333333333333333,\"#9c179e\"],[0.4444444444444444,\"#bd3786\"],[0.5555555555555556,\"#d8576b\"],[0.6666666666666666,\"#ed7953\"],[0.7777777777777778,\"#fb9f3a\"],[0.8888888888888888,\"#fdca26\"],[1.0,\"#f0f921\"]]}],\"choropleth\":[{\"type\":\"choropleth\",\"colorbar\":{\"outlinewidth\":0,\"ticks\":\"\"}}],\"histogram2d\":[{\"type\":\"histogram2d\",\"colorbar\":{\"outlinewidth\":0,\"ticks\":\"\"},\"colorscale\":[[0.0,\"#0d0887\"],[0.1111111111111111,\"#46039f\"],[0.2222222222222222,\"#7201a8\"],[0.3333333333333333,\"#9c179e\"],[0.4444444444444444,\"#bd3786\"],[0.5555555555555556,\"#d8576b\"],[0.6666666666666666,\"#ed7953\"],[0.7777777777777778,\"#fb9f3a\"],[0.8888888888888888,\"#fdca26\"],[1.0,\"#f0f921\"]]}],\"heatmap\":[{\"type\":\"heatmap\",\"colorbar\":{\"outlinewidth\":0,\"ticks\":\"\"},\"colorscale\":[[0.0,\"#0d0887\"],[0.1111111111111111,\"#46039f\"],[0.2222222222222222,\"#7201a8\"],[0.3333333333333333,\"#9c179e\"],[0.4444444444444444,\"#bd3786\"],[0.5555555555555556,\"#d8576b\"],[0.6666666666666666,\"#ed7953\"],[0.7777777777777778,\"#fb9f3a\"],[0.8888888888888888,\"#fdca26\"],[1.0,\"#f0f921\"]]}],\"heatmapgl\":[{\"type\":\"heatmapgl\",\"colorbar\":{\"outlinewidth\":0,\"ticks\":\"\"},\"colorscale\":[[0.0,\"#0d0887\"],[0.1111111111111111,\"#46039f\"],[0.2222222222222222,\"#7201a8\"],[0.3333333333333333,\"#9c179e\"],[0.4444444444444444,\"#bd3786\"],[0.5555555555555556,\"#d8576b\"],[0.6666666666666666,\"#ed7953\"],[0.7777777777777778,\"#fb9f3a\"],[0.8888888888888888,\"#fdca26\"],[1.0,\"#f0f921\"]]}],\"contourcarpet\":[{\"type\":\"contourcarpet\",\"colorbar\":{\"outlinewidth\":0,\"ticks\":\"\"}}],\"contour\":[{\"type\":\"contour\",\"colorbar\":{\"outlinewidth\":0,\"ticks\":\"\"},\"colorscale\":[[0.0,\"#0d0887\"],[0.1111111111111111,\"#46039f\"],[0.2222222222222222,\"#7201a8\"],[0.3333333333333333,\"#9c179e\"],[0.4444444444444444,\"#bd3786\"],[0.5555555555555556,\"#d8576b\"],[0.6666666666666666,\"#ed7953\"],[0.7777777777777778,\"#fb9f3a\"],[0.8888888888888888,\"#fdca26\"],[1.0,\"#f0f921\"]]}],\"surface\":[{\"type\":\"surface\",\"colorbar\":{\"outlinewidth\":0,\"ticks\":\"\"},\"colorscale\":[[0.0,\"#0d0887\"],[0.1111111111111111,\"#46039f\"],[0.2222222222222222,\"#7201a8\"],[0.3333333333333333,\"#9c179e\"],[0.4444444444444444,\"#bd3786\"],[0.5555555555555556,\"#d8576b\"],[0.6666666666666666,\"#ed7953\"],[0.7777777777777778,\"#fb9f3a\"],[0.8888888888888888,\"#fdca26\"],[1.0,\"#f0f921\"]]}],\"mesh3d\":[{\"type\":\"mesh3d\",\"colorbar\":{\"outlinewidth\":0,\"ticks\":\"\"}}],\"scatter\":[{\"fillpattern\":{\"fillmode\":\"overlay\",\"size\":10,\"solidity\":0.2},\"type\":\"scatter\"}],\"parcoords\":[{\"type\":\"parcoords\",\"line\":{\"colorbar\":{\"outlinewidth\":0,\"ticks\":\"\"}}}],\"scatterpolargl\":[{\"type\":\"scatterpolargl\",\"marker\":{\"colorbar\":{\"outlinewidth\":0,\"ticks\":\"\"}}}],\"bar\":[{\"error_x\":{\"color\":\"#2a3f5f\"},\"error_y\":{\"color\":\"#2a3f5f\"},\"marker\":{\"line\":{\"color\":\"#E5ECF6\",\"width\":0.5},\"pattern\":{\"fillmode\":\"overlay\",\"size\":10,\"solidity\":0.2}},\"type\":\"bar\"}],\"scattergeo\":[{\"type\":\"scattergeo\",\"marker\":{\"colorbar\":{\"outlinewidth\":0,\"ticks\":\"\"}}}],\"scatterpolar\":[{\"type\":\"scatterpolar\",\"marker\":{\"colorbar\":{\"outlinewidth\":0,\"ticks\":\"\"}}}],\"histogram\":[{\"marker\":{\"pattern\":{\"fillmode\":\"overlay\",\"size\":10,\"solidity\":0.2}},\"type\":\"histogram\"}],\"scattergl\":[{\"type\":\"scattergl\",\"marker\":{\"colorbar\":{\"outlinewidth\":0,\"ticks\":\"\"}}}],\"scatter3d\":[{\"type\":\"scatter3d\",\"line\":{\"colorbar\":{\"outlinewidth\":0,\"ticks\":\"\"}},\"marker\":{\"colorbar\":{\"outlinewidth\":0,\"ticks\":\"\"}}}],\"scattermapbox\":[{\"type\":\"scattermapbox\",\"marker\":{\"colorbar\":{\"outlinewidth\":0,\"ticks\":\"\"}}}],\"scatterternary\":[{\"type\":\"scatterternary\",\"marker\":{\"colorbar\":{\"outlinewidth\":0,\"ticks\":\"\"}}}],\"scattercarpet\":[{\"type\":\"scattercarpet\",\"marker\":{\"colorbar\":{\"outlinewidth\":0,\"ticks\":\"\"}}}],\"carpet\":[{\"aaxis\":{\"endlinecolor\":\"#2a3f5f\",\"gridcolor\":\"white\",\"linecolor\":\"white\",\"minorgridcolor\":\"white\",\"startlinecolor\":\"#2a3f5f\"},\"baxis\":{\"endlinecolor\":\"#2a3f5f\",\"gridcolor\":\"white\",\"linecolor\":\"white\",\"minorgridcolor\":\"white\",\"startlinecolor\":\"#2a3f5f\"},\"type\":\"carpet\"}],\"table\":[{\"cells\":{\"fill\":{\"color\":\"#EBF0F8\"},\"line\":{\"color\":\"white\"}},\"header\":{\"fill\":{\"color\":\"#C8D4E3\"},\"line\":{\"color\":\"white\"}},\"type\":\"table\"}],\"barpolar\":[{\"marker\":{\"line\":{\"color\":\"#E5ECF6\",\"width\":0.5},\"pattern\":{\"fillmode\":\"overlay\",\"size\":10,\"solidity\":0.2}},\"type\":\"barpolar\"}],\"pie\":[{\"automargin\":true,\"type\":\"pie\"}]},\"layout\":{\"autotypenumbers\":\"strict\",\"colorway\":[\"#636efa\",\"#EF553B\",\"#00cc96\",\"#ab63fa\",\"#FFA15A\",\"#19d3f3\",\"#FF6692\",\"#B6E880\",\"#FF97FF\",\"#FECB52\"],\"font\":{\"color\":\"#2a3f5f\"},\"hovermode\":\"closest\",\"hoverlabel\":{\"align\":\"left\"},\"paper_bgcolor\":\"white\",\"plot_bgcolor\":\"#E5ECF6\",\"polar\":{\"bgcolor\":\"#E5ECF6\",\"angularaxis\":{\"gridcolor\":\"white\",\"linecolor\":\"white\",\"ticks\":\"\"},\"radialaxis\":{\"gridcolor\":\"white\",\"linecolor\":\"white\",\"ticks\":\"\"}},\"ternary\":{\"bgcolor\":\"#E5ECF6\",\"aaxis\":{\"gridcolor\":\"white\",\"linecolor\":\"white\",\"ticks\":\"\"},\"baxis\":{\"gridcolor\":\"white\",\"linecolor\":\"white\",\"ticks\":\"\"},\"caxis\":{\"gridcolor\":\"white\",\"linecolor\":\"white\",\"ticks\":\"\"}},\"coloraxis\":{\"colorbar\":{\"outlinewidth\":0,\"ticks\":\"\"}},\"colorscale\":{\"sequential\":[[0.0,\"#0d0887\"],[0.1111111111111111,\"#46039f\"],[0.2222222222222222,\"#7201a8\"],[0.3333333333333333,\"#9c179e\"],[0.4444444444444444,\"#bd3786\"],[0.5555555555555556,\"#d8576b\"],[0.6666666666666666,\"#ed7953\"],[0.7777777777777778,\"#fb9f3a\"],[0.8888888888888888,\"#fdca26\"],[1.0,\"#f0f921\"]],\"sequentialminus\":[[0.0,\"#0d0887\"],[0.1111111111111111,\"#46039f\"],[0.2222222222222222,\"#7201a8\"],[0.3333333333333333,\"#9c179e\"],[0.4444444444444444,\"#bd3786\"],[0.5555555555555556,\"#d8576b\"],[0.6666666666666666,\"#ed7953\"],[0.7777777777777778,\"#fb9f3a\"],[0.8888888888888888,\"#fdca26\"],[1.0,\"#f0f921\"]],\"diverging\":[[0,\"#8e0152\"],[0.1,\"#c51b7d\"],[0.2,\"#de77ae\"],[0.3,\"#f1b6da\"],[0.4,\"#fde0ef\"],[0.5,\"#f7f7f7\"],[0.6,\"#e6f5d0\"],[0.7,\"#b8e186\"],[0.8,\"#7fbc41\"],[0.9,\"#4d9221\"],[1,\"#276419\"]]},\"xaxis\":{\"gridcolor\":\"white\",\"linecolor\":\"white\",\"ticks\":\"\",\"title\":{\"standoff\":15},\"zerolinecolor\":\"white\",\"automargin\":true,\"zerolinewidth\":2},\"yaxis\":{\"gridcolor\":\"white\",\"linecolor\":\"white\",\"ticks\":\"\",\"title\":{\"standoff\":15},\"zerolinecolor\":\"white\",\"automargin\":true,\"zerolinewidth\":2},\"scene\":{\"xaxis\":{\"backgroundcolor\":\"#E5ECF6\",\"gridcolor\":\"white\",\"linecolor\":\"white\",\"showbackground\":true,\"ticks\":\"\",\"zerolinecolor\":\"white\",\"gridwidth\":2},\"yaxis\":{\"backgroundcolor\":\"#E5ECF6\",\"gridcolor\":\"white\",\"linecolor\":\"white\",\"showbackground\":true,\"ticks\":\"\",\"zerolinecolor\":\"white\",\"gridwidth\":2},\"zaxis\":{\"backgroundcolor\":\"#E5ECF6\",\"gridcolor\":\"white\",\"linecolor\":\"white\",\"showbackground\":true,\"ticks\":\"\",\"zerolinecolor\":\"white\",\"gridwidth\":2}},\"shapedefaults\":{\"line\":{\"color\":\"#2a3f5f\"}},\"annotationdefaults\":{\"arrowcolor\":\"#2a3f5f\",\"arrowhead\":0,\"arrowwidth\":1},\"geo\":{\"bgcolor\":\"white\",\"landcolor\":\"#E5ECF6\",\"subunitcolor\":\"white\",\"showland\":true,\"showlakes\":true,\"lakecolor\":\"white\"},\"title\":{\"x\":0.05},\"mapbox\":{\"style\":\"light\"}}},\"xaxis\":{\"anchor\":\"y\",\"domain\":[0.0,1.0],\"title\":{\"text\":\"Time of Day\"}},\"yaxis\":{\"anchor\":\"x\",\"domain\":[0.0,1.0],\"title\":{\"text\":\"Total Donations\"},\"gridcolor\":\"lightgrey\"},\"legend\":{\"title\":{\"text\":\"Month\"},\"tracegroupgap\":0},\"title\":{\"text\":\"Total Donations per Time of Day, segmented by Month\"},\"barmode\":\"relative\",\"width\":800,\"height\":500},                        {\"responsive\": true}                    ).then(function(){\n",
       "                            \n",
       "var gd = document.getElementById('9d8ed594-8d65-4776-aea5-dea3d4182850');\n",
       "var x = new MutationObserver(function (mutations, observer) {{\n",
       "        var display = window.getComputedStyle(gd).display;\n",
       "        if (!display || display === 'none') {{\n",
       "            console.log([gd, 'removed!']);\n",
       "            Plotly.purge(gd);\n",
       "            observer.disconnect();\n",
       "        }}\n",
       "}});\n",
       "\n",
       "// Listen for the removal of the full notebook cells\n",
       "var notebookContainer = gd.closest('#notebook-container');\n",
       "if (notebookContainer) {{\n",
       "    x.observe(notebookContainer, {childList: true});\n",
       "}}\n",
       "\n",
       "// Listen for the clearing of the current output cell\n",
       "var outputEl = gd.closest('.output');\n",
       "if (outputEl) {{\n",
       "    x.observe(outputEl, {childList: true});\n",
       "}}\n",
       "\n",
       "                        })                };                });            </script>        </div>"
      ]
     },
     "metadata": {},
     "output_type": "display_data"
    }
   ],
   "source": [
    "\n",
    "\n",
    "\n",
    "\n",
    "# Calculate total donations for each combination of 'Time_of_Day' and 'Month'\n",
    "donations_per_time_month = df_dates.groupby(['Time_of_Day', 'Month']).size().reset_index(name='Total Donations')\n",
    "\n",
    "# Set figure size\n",
    "fig = px.box(donations_per_time_month, x='Time_of_Day', y='Total Donations', color='Month',\n",
    "             labels={'Time_of_Day': 'Time of Day', 'Total Donations': 'Total Donations', 'Month': 'Month'},\n",
    "             title='Donations Distribution per Time of Day, Segmented by Month')\n",
    "fig.update_layout(yaxis_gridcolor='lightgrey', width=800, height=500)\n",
    "fig.show()\n",
    "\n",
    "def plot_donations_per_time_and_month():\n",
    "    # Set figure size\n",
    "    fig = px.bar(donations_per_time_month, x='Time_of_Day', y='Total Donations', color='Month',\n",
    "                 labels={'Time_of_Day': 'Time of Day', 'Total Donations': 'Total Donations', 'Month': 'Month'},\n",
    "                 title='Total Donations per Time of Day, segmented by Month')\n",
    "    fig.update_layout(yaxis_gridcolor='lightgrey', width=800, height=500)\n",
    "    fig.show()\n",
    "\n",
    "# Create interactive bar chart\n",
    "# interact(plot_entries_per_month, fill_type=widgets.Dropdown(options=fill_types, description='Fill Type:'))"
   ]
  },
  {
   "cell_type": "markdown",
   "id": "0dc059b2-64b4-40bc-b714-2bb520177427",
   "metadata": {},
   "source": [
    "## Line Chart"
   ]
  },
  {
   "cell_type": "code",
   "execution_count": 19,
   "id": "32058a7b-3e37-4157-a7e9-d7e09d0de757",
   "metadata": {},
   "outputs": [
    {
     "ename": "TypeError",
     "evalue": "'DataFrame' object is not callable",
     "output_type": "error",
     "traceback": [
      "\u001b[0;31m---------------------------------------------------------------------------\u001b[0m",
      "\u001b[0;31mTypeError\u001b[0m                                 Traceback (most recent call last)",
      "Cell \u001b[0;32mIn[19], line 2\u001b[0m\n\u001b[1;32m      1\u001b[0m donations_per_time_month \u001b[38;5;241m=\u001b[39m df_dates\u001b[38;5;241m.\u001b[39mgroupby([\u001b[38;5;124m'\u001b[39m\u001b[38;5;124mTime_of_Day\u001b[39m\u001b[38;5;124m'\u001b[39m, \u001b[38;5;124m'\u001b[39m\u001b[38;5;124mMonth\u001b[39m\u001b[38;5;124m'\u001b[39m])\u001b[38;5;241m.\u001b[39msize()\u001b[38;5;241m.\u001b[39mreset_index(name\u001b[38;5;241m=\u001b[39m\u001b[38;5;124m'\u001b[39m\u001b[38;5;124mTotal Donations\u001b[39m\u001b[38;5;124m'\u001b[39m)\n\u001b[0;32m----> 2\u001b[0m \u001b[43mdonations_per_time_month\u001b[49m\u001b[43m(\u001b[49m\u001b[43m)\u001b[49m\n",
      "\u001b[0;31mTypeError\u001b[0m: 'DataFrame' object is not callable"
     ]
    }
   ],
   "source": [
    "donations_per_time_month = df_dates.groupby(['Time_of_Day', 'Month']).size().reset_index(name='Total Donations')\n",
    "donations_per_time_month"
   ]
  }
 ],
 "metadata": {
  "kernelspec": {
   "display_name": "Python 3 (ipykernel)",
   "language": "python",
   "name": "python3"
  },
  "language_info": {
   "codemirror_mode": {
    "name": "ipython",
    "version": 3
   },
   "file_extension": ".py",
   "mimetype": "text/x-python",
   "name": "python",
   "nbconvert_exporter": "python",
   "pygments_lexer": "ipython3",
   "version": "3.10.13"
  }
 },
 "nbformat": 4,
 "nbformat_minor": 5
}
